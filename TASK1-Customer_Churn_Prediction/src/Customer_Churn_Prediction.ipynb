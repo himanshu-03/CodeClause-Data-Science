{
  "cells": [
    {
      "cell_type": "markdown",
      "source": [
        "# Customer Churn Prediction\n",
        "\n",
        "The Customer Churn table contains information on all 7,043 customers from a Telecommunications company in California in Q2 2022\n",
        "\n",
        "\n",
        "Each record represents one customer, and contains details about their demographics, location, tenure, subscription services, status for the quarter (joined, stayed, or churned), and more!\n",
        "\n",
        "The Zip Code Population table contains complimentary information on the estimated populations for the California zip codes in the Customer Churn table"
      ],
      "metadata": {
        "id": "8vJdjaxP-Gbd"
      },
      "id": "8vJdjaxP-Gbd"
    },
    {
      "cell_type": "markdown",
      "source": [
        "Importing necessary files"
      ],
      "metadata": {
        "id": "gNIM1vZE-YW5"
      },
      "id": "gNIM1vZE-YW5"
    },
    {
      "cell_type": "code",
      "execution_count": 1,
      "id": "4cb4af63",
      "metadata": {
        "execution": {
          "iopub.execute_input": "2022-10-14T19:27:23.253267Z",
          "iopub.status.busy": "2022-10-14T19:27:23.252325Z",
          "iopub.status.idle": "2022-10-14T19:27:25.759109Z",
          "shell.execute_reply": "2022-10-14T19:27:25.758166Z"
        },
        "papermill": {
          "duration": 2.529653,
          "end_time": "2022-10-14T19:27:25.761969",
          "exception": false,
          "start_time": "2022-10-14T19:27:23.232316",
          "status": "completed"
        },
        "tags": [],
        "id": "4cb4af63"
      },
      "outputs": [],
      "source": [
        "import numpy as np\n",
        "import pandas as pd"
      ]
    },
    {
      "cell_type": "code",
      "execution_count": 91,
      "id": "b199eff7",
      "metadata": {
        "execution": {
          "iopub.execute_input": "2022-10-14T19:27:25.797197Z",
          "iopub.status.busy": "2022-10-14T19:27:25.796517Z",
          "iopub.status.idle": "2022-10-14T19:27:25.898493Z",
          "shell.execute_reply": "2022-10-14T19:27:25.897627Z"
        },
        "papermill": {
          "duration": 0.121309,
          "end_time": "2022-10-14T19:27:25.900901",
          "exception": false,
          "start_time": "2022-10-14T19:27:25.779592",
          "status": "completed"
        },
        "tags": [],
        "id": "b199eff7"
      },
      "outputs": [],
      "source": [
        "df=pd.read_csv('telecom_customer_churn.csv')"
      ]
    },
    {
      "cell_type": "code",
      "execution_count": 92,
      "id": "e0d91ef1",
      "metadata": {
        "execution": {
          "iopub.execute_input": "2022-10-14T19:27:25.934303Z",
          "iopub.status.busy": "2022-10-14T19:27:25.933887Z",
          "iopub.status.idle": "2022-10-14T19:27:25.972119Z",
          "shell.execute_reply": "2022-10-14T19:27:25.971117Z"
        },
        "papermill": {
          "duration": 0.057997,
          "end_time": "2022-10-14T19:27:25.974680",
          "exception": false,
          "start_time": "2022-10-14T19:27:25.916683",
          "status": "completed"
        },
        "tags": [],
        "id": "e0d91ef1",
        "outputId": "35bc57ac-2222-4655-b39d-b82b89c05780",
        "colab": {
          "base_uri": "https://localhost:8080/",
          "height": 456
        }
      },
      "outputs": [
        {
          "output_type": "execute_result",
          "data": {
            "text/plain": [
              "  Customer ID  Gender  Age Married  Number of Dependents          City  \\\n",
              "0  0002-ORFBO  Female   37     Yes                     0  Frazier Park   \n",
              "1  0003-MKNFE    Male   46      No                     0      Glendale   \n",
              "2  0004-TLHLJ    Male   50      No                     0    Costa Mesa   \n",
              "3  0011-IGKFF    Male   78     Yes                     0      Martinez   \n",
              "4  0013-EXCHZ  Female   75     Yes                     0     Camarillo   \n",
              "\n",
              "   Zip Code   Latitude   Longitude  Number of Referrals  ...   Payment Method  \\\n",
              "0     93225  34.827662 -118.999073                    2  ...      Credit Card   \n",
              "1     91206  34.162515 -118.203869                    0  ...      Credit Card   \n",
              "2     92627  33.645672 -117.922613                    0  ...  Bank Withdrawal   \n",
              "3     94553  38.014457 -122.115432                    1  ...  Bank Withdrawal   \n",
              "4     93010  34.227846 -119.079903                    3  ...      Credit Card   \n",
              "\n",
              "  Monthly Charge Total Charges  Total Refunds Total Extra Data Charges  \\\n",
              "0           65.6        593.30           0.00                        0   \n",
              "1           -4.0        542.40          38.33                       10   \n",
              "2           73.9        280.85           0.00                        0   \n",
              "3           98.0       1237.85           0.00                        0   \n",
              "4           83.9        267.40           0.00                        0   \n",
              "\n",
              "  Total Long Distance Charges Total Revenue  Customer Status   Churn Category  \\\n",
              "0                      381.51        974.81           Stayed              NaN   \n",
              "1                       96.21        610.28           Stayed              NaN   \n",
              "2                      134.60        415.45          Churned       Competitor   \n",
              "3                      361.66       1599.51          Churned  Dissatisfaction   \n",
              "4                       22.14        289.54          Churned  Dissatisfaction   \n",
              "\n",
              "                    Churn Reason  \n",
              "0                            NaN  \n",
              "1                            NaN  \n",
              "2  Competitor had better devices  \n",
              "3        Product dissatisfaction  \n",
              "4            Network reliability  \n",
              "\n",
              "[5 rows x 38 columns]"
            ],
            "text/html": [
              "\n",
              "  <div id=\"df-741bad5d-6ca9-43a8-ad40-e36d98906a54\">\n",
              "    <div class=\"colab-df-container\">\n",
              "      <div>\n",
              "<style scoped>\n",
              "    .dataframe tbody tr th:only-of-type {\n",
              "        vertical-align: middle;\n",
              "    }\n",
              "\n",
              "    .dataframe tbody tr th {\n",
              "        vertical-align: top;\n",
              "    }\n",
              "\n",
              "    .dataframe thead th {\n",
              "        text-align: right;\n",
              "    }\n",
              "</style>\n",
              "<table border=\"1\" class=\"dataframe\">\n",
              "  <thead>\n",
              "    <tr style=\"text-align: right;\">\n",
              "      <th></th>\n",
              "      <th>Customer ID</th>\n",
              "      <th>Gender</th>\n",
              "      <th>Age</th>\n",
              "      <th>Married</th>\n",
              "      <th>Number of Dependents</th>\n",
              "      <th>City</th>\n",
              "      <th>Zip Code</th>\n",
              "      <th>Latitude</th>\n",
              "      <th>Longitude</th>\n",
              "      <th>Number of Referrals</th>\n",
              "      <th>...</th>\n",
              "      <th>Payment Method</th>\n",
              "      <th>Monthly Charge</th>\n",
              "      <th>Total Charges</th>\n",
              "      <th>Total Refunds</th>\n",
              "      <th>Total Extra Data Charges</th>\n",
              "      <th>Total Long Distance Charges</th>\n",
              "      <th>Total Revenue</th>\n",
              "      <th>Customer Status</th>\n",
              "      <th>Churn Category</th>\n",
              "      <th>Churn Reason</th>\n",
              "    </tr>\n",
              "  </thead>\n",
              "  <tbody>\n",
              "    <tr>\n",
              "      <th>0</th>\n",
              "      <td>0002-ORFBO</td>\n",
              "      <td>Female</td>\n",
              "      <td>37</td>\n",
              "      <td>Yes</td>\n",
              "      <td>0</td>\n",
              "      <td>Frazier Park</td>\n",
              "      <td>93225</td>\n",
              "      <td>34.827662</td>\n",
              "      <td>-118.999073</td>\n",
              "      <td>2</td>\n",
              "      <td>...</td>\n",
              "      <td>Credit Card</td>\n",
              "      <td>65.6</td>\n",
              "      <td>593.30</td>\n",
              "      <td>0.00</td>\n",
              "      <td>0</td>\n",
              "      <td>381.51</td>\n",
              "      <td>974.81</td>\n",
              "      <td>Stayed</td>\n",
              "      <td>NaN</td>\n",
              "      <td>NaN</td>\n",
              "    </tr>\n",
              "    <tr>\n",
              "      <th>1</th>\n",
              "      <td>0003-MKNFE</td>\n",
              "      <td>Male</td>\n",
              "      <td>46</td>\n",
              "      <td>No</td>\n",
              "      <td>0</td>\n",
              "      <td>Glendale</td>\n",
              "      <td>91206</td>\n",
              "      <td>34.162515</td>\n",
              "      <td>-118.203869</td>\n",
              "      <td>0</td>\n",
              "      <td>...</td>\n",
              "      <td>Credit Card</td>\n",
              "      <td>-4.0</td>\n",
              "      <td>542.40</td>\n",
              "      <td>38.33</td>\n",
              "      <td>10</td>\n",
              "      <td>96.21</td>\n",
              "      <td>610.28</td>\n",
              "      <td>Stayed</td>\n",
              "      <td>NaN</td>\n",
              "      <td>NaN</td>\n",
              "    </tr>\n",
              "    <tr>\n",
              "      <th>2</th>\n",
              "      <td>0004-TLHLJ</td>\n",
              "      <td>Male</td>\n",
              "      <td>50</td>\n",
              "      <td>No</td>\n",
              "      <td>0</td>\n",
              "      <td>Costa Mesa</td>\n",
              "      <td>92627</td>\n",
              "      <td>33.645672</td>\n",
              "      <td>-117.922613</td>\n",
              "      <td>0</td>\n",
              "      <td>...</td>\n",
              "      <td>Bank Withdrawal</td>\n",
              "      <td>73.9</td>\n",
              "      <td>280.85</td>\n",
              "      <td>0.00</td>\n",
              "      <td>0</td>\n",
              "      <td>134.60</td>\n",
              "      <td>415.45</td>\n",
              "      <td>Churned</td>\n",
              "      <td>Competitor</td>\n",
              "      <td>Competitor had better devices</td>\n",
              "    </tr>\n",
              "    <tr>\n",
              "      <th>3</th>\n",
              "      <td>0011-IGKFF</td>\n",
              "      <td>Male</td>\n",
              "      <td>78</td>\n",
              "      <td>Yes</td>\n",
              "      <td>0</td>\n",
              "      <td>Martinez</td>\n",
              "      <td>94553</td>\n",
              "      <td>38.014457</td>\n",
              "      <td>-122.115432</td>\n",
              "      <td>1</td>\n",
              "      <td>...</td>\n",
              "      <td>Bank Withdrawal</td>\n",
              "      <td>98.0</td>\n",
              "      <td>1237.85</td>\n",
              "      <td>0.00</td>\n",
              "      <td>0</td>\n",
              "      <td>361.66</td>\n",
              "      <td>1599.51</td>\n",
              "      <td>Churned</td>\n",
              "      <td>Dissatisfaction</td>\n",
              "      <td>Product dissatisfaction</td>\n",
              "    </tr>\n",
              "    <tr>\n",
              "      <th>4</th>\n",
              "      <td>0013-EXCHZ</td>\n",
              "      <td>Female</td>\n",
              "      <td>75</td>\n",
              "      <td>Yes</td>\n",
              "      <td>0</td>\n",
              "      <td>Camarillo</td>\n",
              "      <td>93010</td>\n",
              "      <td>34.227846</td>\n",
              "      <td>-119.079903</td>\n",
              "      <td>3</td>\n",
              "      <td>...</td>\n",
              "      <td>Credit Card</td>\n",
              "      <td>83.9</td>\n",
              "      <td>267.40</td>\n",
              "      <td>0.00</td>\n",
              "      <td>0</td>\n",
              "      <td>22.14</td>\n",
              "      <td>289.54</td>\n",
              "      <td>Churned</td>\n",
              "      <td>Dissatisfaction</td>\n",
              "      <td>Network reliability</td>\n",
              "    </tr>\n",
              "  </tbody>\n",
              "</table>\n",
              "<p>5 rows × 38 columns</p>\n",
              "</div>\n",
              "      <button class=\"colab-df-convert\" onclick=\"convertToInteractive('df-741bad5d-6ca9-43a8-ad40-e36d98906a54')\"\n",
              "              title=\"Convert this dataframe to an interactive table.\"\n",
              "              style=\"display:none;\">\n",
              "        \n",
              "  <svg xmlns=\"http://www.w3.org/2000/svg\" height=\"24px\"viewBox=\"0 0 24 24\"\n",
              "       width=\"24px\">\n",
              "    <path d=\"M0 0h24v24H0V0z\" fill=\"none\"/>\n",
              "    <path d=\"M18.56 5.44l.94 2.06.94-2.06 2.06-.94-2.06-.94-.94-2.06-.94 2.06-2.06.94zm-11 1L8.5 8.5l.94-2.06 2.06-.94-2.06-.94L8.5 2.5l-.94 2.06-2.06.94zm10 10l.94 2.06.94-2.06 2.06-.94-2.06-.94-.94-2.06-.94 2.06-2.06.94z\"/><path d=\"M17.41 7.96l-1.37-1.37c-.4-.4-.92-.59-1.43-.59-.52 0-1.04.2-1.43.59L10.3 9.45l-7.72 7.72c-.78.78-.78 2.05 0 2.83L4 21.41c.39.39.9.59 1.41.59.51 0 1.02-.2 1.41-.59l7.78-7.78 2.81-2.81c.8-.78.8-2.07 0-2.86zM5.41 20L4 18.59l7.72-7.72 1.47 1.35L5.41 20z\"/>\n",
              "  </svg>\n",
              "      </button>\n",
              "      \n",
              "  <style>\n",
              "    .colab-df-container {\n",
              "      display:flex;\n",
              "      flex-wrap:wrap;\n",
              "      gap: 12px;\n",
              "    }\n",
              "\n",
              "    .colab-df-convert {\n",
              "      background-color: #E8F0FE;\n",
              "      border: none;\n",
              "      border-radius: 50%;\n",
              "      cursor: pointer;\n",
              "      display: none;\n",
              "      fill: #1967D2;\n",
              "      height: 32px;\n",
              "      padding: 0 0 0 0;\n",
              "      width: 32px;\n",
              "    }\n",
              "\n",
              "    .colab-df-convert:hover {\n",
              "      background-color: #E2EBFA;\n",
              "      box-shadow: 0px 1px 2px rgba(60, 64, 67, 0.3), 0px 1px 3px 1px rgba(60, 64, 67, 0.15);\n",
              "      fill: #174EA6;\n",
              "    }\n",
              "\n",
              "    [theme=dark] .colab-df-convert {\n",
              "      background-color: #3B4455;\n",
              "      fill: #D2E3FC;\n",
              "    }\n",
              "\n",
              "    [theme=dark] .colab-df-convert:hover {\n",
              "      background-color: #434B5C;\n",
              "      box-shadow: 0px 1px 3px 1px rgba(0, 0, 0, 0.15);\n",
              "      filter: drop-shadow(0px 1px 2px rgba(0, 0, 0, 0.3));\n",
              "      fill: #FFFFFF;\n",
              "    }\n",
              "  </style>\n",
              "\n",
              "      <script>\n",
              "        const buttonEl =\n",
              "          document.querySelector('#df-741bad5d-6ca9-43a8-ad40-e36d98906a54 button.colab-df-convert');\n",
              "        buttonEl.style.display =\n",
              "          google.colab.kernel.accessAllowed ? 'block' : 'none';\n",
              "\n",
              "        async function convertToInteractive(key) {\n",
              "          const element = document.querySelector('#df-741bad5d-6ca9-43a8-ad40-e36d98906a54');\n",
              "          const dataTable =\n",
              "            await google.colab.kernel.invokeFunction('convertToInteractive',\n",
              "                                                     [key], {});\n",
              "          if (!dataTable) return;\n",
              "\n",
              "          const docLinkHtml = 'Like what you see? Visit the ' +\n",
              "            '<a target=\"_blank\" href=https://colab.research.google.com/notebooks/data_table.ipynb>data table notebook</a>'\n",
              "            + ' to learn more about interactive tables.';\n",
              "          element.innerHTML = '';\n",
              "          dataTable['output_type'] = 'display_data';\n",
              "          await google.colab.output.renderOutput(dataTable, element);\n",
              "          const docLink = document.createElement('div');\n",
              "          docLink.innerHTML = docLinkHtml;\n",
              "          element.appendChild(docLink);\n",
              "        }\n",
              "      </script>\n",
              "    </div>\n",
              "  </div>\n",
              "  "
            ]
          },
          "metadata": {},
          "execution_count": 92
        }
      ],
      "source": [
        "df.head(5)"
      ]
    },
    {
      "cell_type": "markdown",
      "source": [
        "Overviewing all the columns in the dataset"
      ],
      "metadata": {
        "id": "z3T_3jpB-mGC"
      },
      "id": "z3T_3jpB-mGC"
    },
    {
      "cell_type": "code",
      "execution_count": 93,
      "id": "12ec80d7",
      "metadata": {
        "execution": {
          "iopub.execute_input": "2022-10-14T19:27:26.007978Z",
          "iopub.status.busy": "2022-10-14T19:27:26.007580Z",
          "iopub.status.idle": "2022-10-14T19:27:26.014975Z",
          "shell.execute_reply": "2022-10-14T19:27:26.013893Z"
        },
        "papermill": {
          "duration": 0.026493,
          "end_time": "2022-10-14T19:27:26.017126",
          "exception": false,
          "start_time": "2022-10-14T19:27:25.990633",
          "status": "completed"
        },
        "tags": [],
        "id": "12ec80d7",
        "outputId": "49056031-643f-4cc5-c48c-abbca0003a45",
        "colab": {
          "base_uri": "https://localhost:8080/"
        }
      },
      "outputs": [
        {
          "output_type": "execute_result",
          "data": {
            "text/plain": [
              "Index(['Customer ID', 'Gender', 'Age', 'Married', 'Number of Dependents',\n",
              "       'City', 'Zip Code', 'Latitude', 'Longitude', 'Number of Referrals',\n",
              "       'Tenure in Months', 'Offer', 'Phone Service',\n",
              "       'Avg Monthly Long Distance Charges', 'Multiple Lines',\n",
              "       'Internet Service', 'Internet Type', 'Avg Monthly GB Download',\n",
              "       'Online Security', 'Online Backup', 'Device Protection Plan',\n",
              "       'Premium Tech Support', 'Streaming TV', 'Streaming Movies',\n",
              "       'Streaming Music', 'Unlimited Data', 'Contract', 'Paperless Billing',\n",
              "       'Payment Method', 'Monthly Charge', 'Total Charges', 'Total Refunds',\n",
              "       'Total Extra Data Charges', 'Total Long Distance Charges',\n",
              "       'Total Revenue', 'Customer Status', 'Churn Category', 'Churn Reason'],\n",
              "      dtype='object')"
            ]
          },
          "metadata": {},
          "execution_count": 93
        }
      ],
      "source": [
        "df.columns"
      ]
    },
    {
      "cell_type": "code",
      "execution_count": 107,
      "id": "17b9cf43",
      "metadata": {
        "execution": {
          "iopub.execute_input": "2022-10-14T19:27:26.050770Z",
          "iopub.status.busy": "2022-10-14T19:27:26.050337Z",
          "iopub.status.idle": "2022-10-14T19:27:26.056648Z",
          "shell.execute_reply": "2022-10-14T19:27:26.055424Z"
        },
        "papermill": {
          "duration": 0.025636,
          "end_time": "2022-10-14T19:27:26.058968",
          "exception": false,
          "start_time": "2022-10-14T19:27:26.033332",
          "status": "completed"
        },
        "tags": [],
        "id": "17b9cf43"
      },
      "outputs": [],
      "source": [
        "df1 = df.copy()"
      ]
    },
    {
      "cell_type": "markdown",
      "source": [
        "Creating a copy of the Dataset"
      ],
      "metadata": {
        "id": "zlwI7pSd-xk9"
      },
      "id": "zlwI7pSd-xk9"
    },
    {
      "cell_type": "code",
      "execution_count": 108,
      "id": "484bfe2b",
      "metadata": {
        "execution": {
          "iopub.execute_input": "2022-10-14T19:27:26.092326Z",
          "iopub.status.busy": "2022-10-14T19:27:26.091898Z",
          "iopub.status.idle": "2022-10-14T19:27:26.120641Z",
          "shell.execute_reply": "2022-10-14T19:27:26.119526Z"
        },
        "papermill": {
          "duration": 0.048132,
          "end_time": "2022-10-14T19:27:26.122840",
          "exception": false,
          "start_time": "2022-10-14T19:27:26.074708",
          "status": "completed"
        },
        "tags": [],
        "id": "484bfe2b",
        "outputId": "669a9eec-adab-4bd3-8979-3d3be0ceac76",
        "colab": {
          "base_uri": "https://localhost:8080/",
          "height": 553
        }
      },
      "outputs": [
        {
          "output_type": "execute_result",
          "data": {
            "text/plain": [
              "  Customer ID  Gender  Age Married  Number of Dependents          City  \\\n",
              "0  0002-ORFBO  Female   37     Yes                     0  Frazier Park   \n",
              "1  0003-MKNFE    Male   46      No                     0      Glendale   \n",
              "2  0004-TLHLJ    Male   50      No                     0    Costa Mesa   \n",
              "3  0011-IGKFF    Male   78     Yes                     0      Martinez   \n",
              "4  0013-EXCHZ  Female   75     Yes                     0     Camarillo   \n",
              "5  0013-MHZWF  Female   23      No                     3      Midpines   \n",
              "6  0013-SMEOE  Female   67     Yes                     0        Lompoc   \n",
              "\n",
              "   Zip Code   Latitude   Longitude  Number of Referrals  ...   Payment Method  \\\n",
              "0     93225  34.827662 -118.999073                    2  ...      Credit Card   \n",
              "1     91206  34.162515 -118.203869                    0  ...      Credit Card   \n",
              "2     92627  33.645672 -117.922613                    0  ...  Bank Withdrawal   \n",
              "3     94553  38.014457 -122.115432                    1  ...  Bank Withdrawal   \n",
              "4     93010  34.227846 -119.079903                    3  ...      Credit Card   \n",
              "5     95345  37.581496 -119.972762                    0  ...      Credit Card   \n",
              "6     93437  34.757477 -120.550507                    1  ...  Bank Withdrawal   \n",
              "\n",
              "  Monthly Charge Total Charges  Total Refunds Total Extra Data Charges  \\\n",
              "0           65.6        593.30           0.00                        0   \n",
              "1           -4.0        542.40          38.33                       10   \n",
              "2           73.9        280.85           0.00                        0   \n",
              "3           98.0       1237.85           0.00                        0   \n",
              "4           83.9        267.40           0.00                        0   \n",
              "5           69.4        571.45           0.00                        0   \n",
              "6          109.7       7904.25           0.00                        0   \n",
              "\n",
              "  Total Long Distance Charges Total Revenue  Customer Status   Churn Category  \\\n",
              "0                      381.51        974.81           Stayed              NaN   \n",
              "1                       96.21        610.28           Stayed              NaN   \n",
              "2                      134.60        415.45          Churned       Competitor   \n",
              "3                      361.66       1599.51          Churned  Dissatisfaction   \n",
              "4                       22.14        289.54          Churned  Dissatisfaction   \n",
              "5                      150.93        722.38           Stayed              NaN   \n",
              "6                      707.16       8611.41           Stayed              NaN   \n",
              "\n",
              "                    Churn Reason  \n",
              "0                            NaN  \n",
              "1                            NaN  \n",
              "2  Competitor had better devices  \n",
              "3        Product dissatisfaction  \n",
              "4            Network reliability  \n",
              "5                            NaN  \n",
              "6                            NaN  \n",
              "\n",
              "[7 rows x 38 columns]"
            ],
            "text/html": [
              "\n",
              "  <div id=\"df-9cb5c135-3f2c-4229-9e97-69457500537b\">\n",
              "    <div class=\"colab-df-container\">\n",
              "      <div>\n",
              "<style scoped>\n",
              "    .dataframe tbody tr th:only-of-type {\n",
              "        vertical-align: middle;\n",
              "    }\n",
              "\n",
              "    .dataframe tbody tr th {\n",
              "        vertical-align: top;\n",
              "    }\n",
              "\n",
              "    .dataframe thead th {\n",
              "        text-align: right;\n",
              "    }\n",
              "</style>\n",
              "<table border=\"1\" class=\"dataframe\">\n",
              "  <thead>\n",
              "    <tr style=\"text-align: right;\">\n",
              "      <th></th>\n",
              "      <th>Customer ID</th>\n",
              "      <th>Gender</th>\n",
              "      <th>Age</th>\n",
              "      <th>Married</th>\n",
              "      <th>Number of Dependents</th>\n",
              "      <th>City</th>\n",
              "      <th>Zip Code</th>\n",
              "      <th>Latitude</th>\n",
              "      <th>Longitude</th>\n",
              "      <th>Number of Referrals</th>\n",
              "      <th>...</th>\n",
              "      <th>Payment Method</th>\n",
              "      <th>Monthly Charge</th>\n",
              "      <th>Total Charges</th>\n",
              "      <th>Total Refunds</th>\n",
              "      <th>Total Extra Data Charges</th>\n",
              "      <th>Total Long Distance Charges</th>\n",
              "      <th>Total Revenue</th>\n",
              "      <th>Customer Status</th>\n",
              "      <th>Churn Category</th>\n",
              "      <th>Churn Reason</th>\n",
              "    </tr>\n",
              "  </thead>\n",
              "  <tbody>\n",
              "    <tr>\n",
              "      <th>0</th>\n",
              "      <td>0002-ORFBO</td>\n",
              "      <td>Female</td>\n",
              "      <td>37</td>\n",
              "      <td>Yes</td>\n",
              "      <td>0</td>\n",
              "      <td>Frazier Park</td>\n",
              "      <td>93225</td>\n",
              "      <td>34.827662</td>\n",
              "      <td>-118.999073</td>\n",
              "      <td>2</td>\n",
              "      <td>...</td>\n",
              "      <td>Credit Card</td>\n",
              "      <td>65.6</td>\n",
              "      <td>593.30</td>\n",
              "      <td>0.00</td>\n",
              "      <td>0</td>\n",
              "      <td>381.51</td>\n",
              "      <td>974.81</td>\n",
              "      <td>Stayed</td>\n",
              "      <td>NaN</td>\n",
              "      <td>NaN</td>\n",
              "    </tr>\n",
              "    <tr>\n",
              "      <th>1</th>\n",
              "      <td>0003-MKNFE</td>\n",
              "      <td>Male</td>\n",
              "      <td>46</td>\n",
              "      <td>No</td>\n",
              "      <td>0</td>\n",
              "      <td>Glendale</td>\n",
              "      <td>91206</td>\n",
              "      <td>34.162515</td>\n",
              "      <td>-118.203869</td>\n",
              "      <td>0</td>\n",
              "      <td>...</td>\n",
              "      <td>Credit Card</td>\n",
              "      <td>-4.0</td>\n",
              "      <td>542.40</td>\n",
              "      <td>38.33</td>\n",
              "      <td>10</td>\n",
              "      <td>96.21</td>\n",
              "      <td>610.28</td>\n",
              "      <td>Stayed</td>\n",
              "      <td>NaN</td>\n",
              "      <td>NaN</td>\n",
              "    </tr>\n",
              "    <tr>\n",
              "      <th>2</th>\n",
              "      <td>0004-TLHLJ</td>\n",
              "      <td>Male</td>\n",
              "      <td>50</td>\n",
              "      <td>No</td>\n",
              "      <td>0</td>\n",
              "      <td>Costa Mesa</td>\n",
              "      <td>92627</td>\n",
              "      <td>33.645672</td>\n",
              "      <td>-117.922613</td>\n",
              "      <td>0</td>\n",
              "      <td>...</td>\n",
              "      <td>Bank Withdrawal</td>\n",
              "      <td>73.9</td>\n",
              "      <td>280.85</td>\n",
              "      <td>0.00</td>\n",
              "      <td>0</td>\n",
              "      <td>134.60</td>\n",
              "      <td>415.45</td>\n",
              "      <td>Churned</td>\n",
              "      <td>Competitor</td>\n",
              "      <td>Competitor had better devices</td>\n",
              "    </tr>\n",
              "    <tr>\n",
              "      <th>3</th>\n",
              "      <td>0011-IGKFF</td>\n",
              "      <td>Male</td>\n",
              "      <td>78</td>\n",
              "      <td>Yes</td>\n",
              "      <td>0</td>\n",
              "      <td>Martinez</td>\n",
              "      <td>94553</td>\n",
              "      <td>38.014457</td>\n",
              "      <td>-122.115432</td>\n",
              "      <td>1</td>\n",
              "      <td>...</td>\n",
              "      <td>Bank Withdrawal</td>\n",
              "      <td>98.0</td>\n",
              "      <td>1237.85</td>\n",
              "      <td>0.00</td>\n",
              "      <td>0</td>\n",
              "      <td>361.66</td>\n",
              "      <td>1599.51</td>\n",
              "      <td>Churned</td>\n",
              "      <td>Dissatisfaction</td>\n",
              "      <td>Product dissatisfaction</td>\n",
              "    </tr>\n",
              "    <tr>\n",
              "      <th>4</th>\n",
              "      <td>0013-EXCHZ</td>\n",
              "      <td>Female</td>\n",
              "      <td>75</td>\n",
              "      <td>Yes</td>\n",
              "      <td>0</td>\n",
              "      <td>Camarillo</td>\n",
              "      <td>93010</td>\n",
              "      <td>34.227846</td>\n",
              "      <td>-119.079903</td>\n",
              "      <td>3</td>\n",
              "      <td>...</td>\n",
              "      <td>Credit Card</td>\n",
              "      <td>83.9</td>\n",
              "      <td>267.40</td>\n",
              "      <td>0.00</td>\n",
              "      <td>0</td>\n",
              "      <td>22.14</td>\n",
              "      <td>289.54</td>\n",
              "      <td>Churned</td>\n",
              "      <td>Dissatisfaction</td>\n",
              "      <td>Network reliability</td>\n",
              "    </tr>\n",
              "    <tr>\n",
              "      <th>5</th>\n",
              "      <td>0013-MHZWF</td>\n",
              "      <td>Female</td>\n",
              "      <td>23</td>\n",
              "      <td>No</td>\n",
              "      <td>3</td>\n",
              "      <td>Midpines</td>\n",
              "      <td>95345</td>\n",
              "      <td>37.581496</td>\n",
              "      <td>-119.972762</td>\n",
              "      <td>0</td>\n",
              "      <td>...</td>\n",
              "      <td>Credit Card</td>\n",
              "      <td>69.4</td>\n",
              "      <td>571.45</td>\n",
              "      <td>0.00</td>\n",
              "      <td>0</td>\n",
              "      <td>150.93</td>\n",
              "      <td>722.38</td>\n",
              "      <td>Stayed</td>\n",
              "      <td>NaN</td>\n",
              "      <td>NaN</td>\n",
              "    </tr>\n",
              "    <tr>\n",
              "      <th>6</th>\n",
              "      <td>0013-SMEOE</td>\n",
              "      <td>Female</td>\n",
              "      <td>67</td>\n",
              "      <td>Yes</td>\n",
              "      <td>0</td>\n",
              "      <td>Lompoc</td>\n",
              "      <td>93437</td>\n",
              "      <td>34.757477</td>\n",
              "      <td>-120.550507</td>\n",
              "      <td>1</td>\n",
              "      <td>...</td>\n",
              "      <td>Bank Withdrawal</td>\n",
              "      <td>109.7</td>\n",
              "      <td>7904.25</td>\n",
              "      <td>0.00</td>\n",
              "      <td>0</td>\n",
              "      <td>707.16</td>\n",
              "      <td>8611.41</td>\n",
              "      <td>Stayed</td>\n",
              "      <td>NaN</td>\n",
              "      <td>NaN</td>\n",
              "    </tr>\n",
              "  </tbody>\n",
              "</table>\n",
              "<p>7 rows × 38 columns</p>\n",
              "</div>\n",
              "      <button class=\"colab-df-convert\" onclick=\"convertToInteractive('df-9cb5c135-3f2c-4229-9e97-69457500537b')\"\n",
              "              title=\"Convert this dataframe to an interactive table.\"\n",
              "              style=\"display:none;\">\n",
              "        \n",
              "  <svg xmlns=\"http://www.w3.org/2000/svg\" height=\"24px\"viewBox=\"0 0 24 24\"\n",
              "       width=\"24px\">\n",
              "    <path d=\"M0 0h24v24H0V0z\" fill=\"none\"/>\n",
              "    <path d=\"M18.56 5.44l.94 2.06.94-2.06 2.06-.94-2.06-.94-.94-2.06-.94 2.06-2.06.94zm-11 1L8.5 8.5l.94-2.06 2.06-.94-2.06-.94L8.5 2.5l-.94 2.06-2.06.94zm10 10l.94 2.06.94-2.06 2.06-.94-2.06-.94-.94-2.06-.94 2.06-2.06.94z\"/><path d=\"M17.41 7.96l-1.37-1.37c-.4-.4-.92-.59-1.43-.59-.52 0-1.04.2-1.43.59L10.3 9.45l-7.72 7.72c-.78.78-.78 2.05 0 2.83L4 21.41c.39.39.9.59 1.41.59.51 0 1.02-.2 1.41-.59l7.78-7.78 2.81-2.81c.8-.78.8-2.07 0-2.86zM5.41 20L4 18.59l7.72-7.72 1.47 1.35L5.41 20z\"/>\n",
              "  </svg>\n",
              "      </button>\n",
              "      \n",
              "  <style>\n",
              "    .colab-df-container {\n",
              "      display:flex;\n",
              "      flex-wrap:wrap;\n",
              "      gap: 12px;\n",
              "    }\n",
              "\n",
              "    .colab-df-convert {\n",
              "      background-color: #E8F0FE;\n",
              "      border: none;\n",
              "      border-radius: 50%;\n",
              "      cursor: pointer;\n",
              "      display: none;\n",
              "      fill: #1967D2;\n",
              "      height: 32px;\n",
              "      padding: 0 0 0 0;\n",
              "      width: 32px;\n",
              "    }\n",
              "\n",
              "    .colab-df-convert:hover {\n",
              "      background-color: #E2EBFA;\n",
              "      box-shadow: 0px 1px 2px rgba(60, 64, 67, 0.3), 0px 1px 3px 1px rgba(60, 64, 67, 0.15);\n",
              "      fill: #174EA6;\n",
              "    }\n",
              "\n",
              "    [theme=dark] .colab-df-convert {\n",
              "      background-color: #3B4455;\n",
              "      fill: #D2E3FC;\n",
              "    }\n",
              "\n",
              "    [theme=dark] .colab-df-convert:hover {\n",
              "      background-color: #434B5C;\n",
              "      box-shadow: 0px 1px 3px 1px rgba(0, 0, 0, 0.15);\n",
              "      filter: drop-shadow(0px 1px 2px rgba(0, 0, 0, 0.3));\n",
              "      fill: #FFFFFF;\n",
              "    }\n",
              "  </style>\n",
              "\n",
              "      <script>\n",
              "        const buttonEl =\n",
              "          document.querySelector('#df-9cb5c135-3f2c-4229-9e97-69457500537b button.colab-df-convert');\n",
              "        buttonEl.style.display =\n",
              "          google.colab.kernel.accessAllowed ? 'block' : 'none';\n",
              "\n",
              "        async function convertToInteractive(key) {\n",
              "          const element = document.querySelector('#df-9cb5c135-3f2c-4229-9e97-69457500537b');\n",
              "          const dataTable =\n",
              "            await google.colab.kernel.invokeFunction('convertToInteractive',\n",
              "                                                     [key], {});\n",
              "          if (!dataTable) return;\n",
              "\n",
              "          const docLinkHtml = 'Like what you see? Visit the ' +\n",
              "            '<a target=\"_blank\" href=https://colab.research.google.com/notebooks/data_table.ipynb>data table notebook</a>'\n",
              "            + ' to learn more about interactive tables.';\n",
              "          element.innerHTML = '';\n",
              "          dataTable['output_type'] = 'display_data';\n",
              "          await google.colab.output.renderOutput(dataTable, element);\n",
              "          const docLink = document.createElement('div');\n",
              "          docLink.innerHTML = docLinkHtml;\n",
              "          element.appendChild(docLink);\n",
              "        }\n",
              "      </script>\n",
              "    </div>\n",
              "  </div>\n",
              "  "
            ]
          },
          "metadata": {},
          "execution_count": 108
        }
      ],
      "source": [
        "df1.head(7)"
      ]
    },
    {
      "cell_type": "code",
      "execution_count": 109,
      "id": "724b3ccf",
      "metadata": {
        "execution": {
          "iopub.execute_input": "2022-10-14T19:27:26.157466Z",
          "iopub.status.busy": "2022-10-14T19:27:26.157067Z",
          "iopub.status.idle": "2022-10-14T19:27:26.163616Z",
          "shell.execute_reply": "2022-10-14T19:27:26.162720Z"
        },
        "papermill": {
          "duration": 0.026416,
          "end_time": "2022-10-14T19:27:26.165920",
          "exception": false,
          "start_time": "2022-10-14T19:27:26.139504",
          "status": "completed"
        },
        "tags": [],
        "id": "724b3ccf",
        "outputId": "5caab482-784d-4b03-a9e7-cf97d5af72e7",
        "colab": {
          "base_uri": "https://localhost:8080/"
        }
      },
      "outputs": [
        {
          "output_type": "execute_result",
          "data": {
            "text/plain": [
              "Index(['Customer ID', 'Gender', 'Age', 'Married', 'Number of Dependents',\n",
              "       'City', 'Zip Code', 'Latitude', 'Longitude', 'Number of Referrals',\n",
              "       'Tenure in Months', 'Offer', 'Phone Service',\n",
              "       'Avg Monthly Long Distance Charges', 'Multiple Lines',\n",
              "       'Internet Service', 'Internet Type', 'Avg Monthly GB Download',\n",
              "       'Online Security', 'Online Backup', 'Device Protection Plan',\n",
              "       'Premium Tech Support', 'Streaming TV', 'Streaming Movies',\n",
              "       'Streaming Music', 'Unlimited Data', 'Contract', 'Paperless Billing',\n",
              "       'Payment Method', 'Monthly Charge', 'Total Charges', 'Total Refunds',\n",
              "       'Total Extra Data Charges', 'Total Long Distance Charges',\n",
              "       'Total Revenue', 'Customer Status', 'Churn Category', 'Churn Reason'],\n",
              "      dtype='object')"
            ]
          },
          "metadata": {},
          "execution_count": 109
        }
      ],
      "source": [
        "df1.columns"
      ]
    },
    {
      "cell_type": "markdown",
      "source": [
        "# Exploratory Data Analysis"
      ],
      "metadata": {
        "id": "wBTNftKpAfAa"
      },
      "id": "wBTNftKpAfAa"
    },
    {
      "cell_type": "markdown",
      "source": [
        "## Data Preprocessing"
      ],
      "metadata": {
        "id": "IqkjBRzXJeMe"
      },
      "id": "IqkjBRzXJeMe"
    },
    {
      "cell_type": "markdown",
      "source": [
        "Dropping unwanted columns from the dataset"
      ],
      "metadata": {
        "id": "ND0zlMh--1C5"
      },
      "id": "ND0zlMh--1C5"
    },
    {
      "cell_type": "code",
      "execution_count": 110,
      "id": "aa5a442b",
      "metadata": {
        "execution": {
          "iopub.execute_input": "2022-10-14T19:27:26.200508Z",
          "iopub.status.busy": "2022-10-14T19:27:26.200085Z",
          "iopub.status.idle": "2022-10-14T19:27:26.211255Z",
          "shell.execute_reply": "2022-10-14T19:27:26.210195Z"
        },
        "papermill": {
          "duration": 0.03111,
          "end_time": "2022-10-14T19:27:26.213514",
          "exception": false,
          "start_time": "2022-10-14T19:27:26.182404",
          "status": "completed"
        },
        "tags": [],
        "id": "aa5a442b"
      },
      "outputs": [],
      "source": [
        "df1.drop(['Customer ID','Total Refunds','Zip Code','Latitude', 'Longitude','Churn Category', 'Churn Reason'],axis='columns',inplace=True)\n"
      ]
    },
    {
      "cell_type": "code",
      "execution_count": 100,
      "id": "e7850514",
      "metadata": {
        "execution": {
          "iopub.execute_input": "2022-10-14T19:27:26.249035Z",
          "iopub.status.busy": "2022-10-14T19:27:26.248594Z",
          "iopub.status.idle": "2022-10-14T19:27:26.255323Z",
          "shell.execute_reply": "2022-10-14T19:27:26.254284Z"
        },
        "papermill": {
          "duration": 0.027386,
          "end_time": "2022-10-14T19:27:26.257719",
          "exception": false,
          "start_time": "2022-10-14T19:27:26.230333",
          "status": "completed"
        },
        "tags": [],
        "id": "e7850514",
        "outputId": "2a86f31f-1bc6-4e86-cd92-181a4cc351ff",
        "colab": {
          "base_uri": "https://localhost:8080/"
        }
      },
      "outputs": [
        {
          "output_type": "execute_result",
          "data": {
            "text/plain": [
              "(7043, 31)"
            ]
          },
          "metadata": {},
          "execution_count": 100
        }
      ],
      "source": [
        "df1.shape"
      ]
    },
    {
      "cell_type": "code",
      "execution_count": 111,
      "id": "73a95259",
      "metadata": {
        "execution": {
          "iopub.execute_input": "2022-10-14T19:27:26.293478Z",
          "iopub.status.busy": "2022-10-14T19:27:26.292410Z",
          "iopub.status.idle": "2022-10-14T19:27:26.301203Z",
          "shell.execute_reply": "2022-10-14T19:27:26.300430Z"
        },
        "papermill": {
          "duration": 0.028485,
          "end_time": "2022-10-14T19:27:26.303190",
          "exception": false,
          "start_time": "2022-10-14T19:27:26.274705",
          "status": "completed"
        },
        "tags": [],
        "id": "73a95259",
        "outputId": "189930d0-9847-4148-a579-737d885cce2a",
        "colab": {
          "base_uri": "https://localhost:8080/"
        }
      },
      "outputs": [
        {
          "output_type": "execute_result",
          "data": {
            "text/plain": [
              "Gender                                object\n",
              "Age                                    int64\n",
              "Married                               object\n",
              "Number of Dependents                   int64\n",
              "City                                  object\n",
              "Number of Referrals                    int64\n",
              "Tenure in Months                       int64\n",
              "Offer                                 object\n",
              "Phone Service                         object\n",
              "Avg Monthly Long Distance Charges    float64\n",
              "Multiple Lines                        object\n",
              "Internet Service                      object\n",
              "Internet Type                         object\n",
              "Avg Monthly GB Download              float64\n",
              "Online Security                       object\n",
              "Online Backup                         object\n",
              "Device Protection Plan                object\n",
              "Premium Tech Support                  object\n",
              "Streaming TV                          object\n",
              "Streaming Movies                      object\n",
              "Streaming Music                       object\n",
              "Unlimited Data                        object\n",
              "Contract                              object\n",
              "Paperless Billing                     object\n",
              "Payment Method                        object\n",
              "Monthly Charge                       float64\n",
              "Total Charges                        float64\n",
              "Total Extra Data Charges               int64\n",
              "Total Long Distance Charges          float64\n",
              "Total Revenue                        float64\n",
              "Customer Status                       object\n",
              "dtype: object"
            ]
          },
          "metadata": {},
          "execution_count": 111
        }
      ],
      "source": [
        "df1.dtypes"
      ]
    },
    {
      "cell_type": "markdown",
      "source": [
        "Checking the number of unique values in each column"
      ],
      "metadata": {
        "id": "6WdVAT8q_ItC"
      },
      "id": "6WdVAT8q_ItC"
    },
    {
      "cell_type": "code",
      "execution_count": 112,
      "id": "c3cc4efc",
      "metadata": {
        "execution": {
          "iopub.execute_input": "2022-10-14T19:27:26.339139Z",
          "iopub.status.busy": "2022-10-14T19:27:26.338766Z",
          "iopub.status.idle": "2022-10-14T19:27:26.364436Z",
          "shell.execute_reply": "2022-10-14T19:27:26.363436Z"
        },
        "papermill": {
          "duration": 0.046929,
          "end_time": "2022-10-14T19:27:26.367478",
          "exception": false,
          "start_time": "2022-10-14T19:27:26.320549",
          "status": "completed"
        },
        "tags": [],
        "id": "c3cc4efc",
        "outputId": "2cba5181-c7f6-455d-f1b6-7a385d693ac0",
        "colab": {
          "base_uri": "https://localhost:8080/"
        }
      },
      "outputs": [
        {
          "output_type": "stream",
          "name": "stdout",
          "text": [
            "Gender--->2\n",
            "Age--->62\n",
            "Married--->2\n",
            "Number of Dependents--->10\n",
            "City--->1106\n",
            "Number of Referrals--->12\n",
            "Tenure in Months--->72\n",
            "Offer--->6\n",
            "Phone Service--->2\n",
            "Avg Monthly Long Distance Charges--->3583\n",
            "Multiple Lines--->2\n",
            "Internet Service--->2\n",
            "Internet Type--->3\n",
            "Avg Monthly GB Download--->49\n",
            "Online Security--->2\n",
            "Online Backup--->2\n",
            "Device Protection Plan--->2\n",
            "Premium Tech Support--->2\n",
            "Streaming TV--->2\n",
            "Streaming Movies--->2\n",
            "Streaming Music--->2\n",
            "Unlimited Data--->2\n",
            "Contract--->3\n",
            "Paperless Billing--->2\n",
            "Payment Method--->3\n",
            "Monthly Charge--->1591\n",
            "Total Charges--->6540\n",
            "Total Extra Data Charges--->16\n",
            "Total Long Distance Charges--->6068\n",
            "Total Revenue--->6975\n",
            "Customer Status--->3\n"
          ]
        }
      ],
      "source": [
        "features = df1.columns\n",
        "for feature in features:\n",
        "     print(f'{feature}--->{df[feature].nunique()}')"
      ]
    },
    {
      "cell_type": "markdown",
      "source": [
        "Getting the percentge of Null Values in each Column"
      ],
      "metadata": {
        "id": "05f_SZX2_lPS"
      },
      "id": "05f_SZX2_lPS"
    },
    {
      "cell_type": "code",
      "execution_count": 113,
      "id": "bd43e0ea",
      "metadata": {
        "execution": {
          "iopub.execute_input": "2022-10-14T19:27:26.461127Z",
          "iopub.status.busy": "2022-10-14T19:27:26.460146Z",
          "iopub.status.idle": "2022-10-14T19:27:26.476917Z",
          "shell.execute_reply": "2022-10-14T19:27:26.475722Z"
        },
        "papermill": {
          "duration": 0.037639,
          "end_time": "2022-10-14T19:27:26.479376",
          "exception": false,
          "start_time": "2022-10-14T19:27:26.441737",
          "status": "completed"
        },
        "tags": [],
        "id": "bd43e0ea",
        "outputId": "67c8bf91-d35c-47c7-c2bd-ace46cb8e700",
        "colab": {
          "base_uri": "https://localhost:8080/"
        }
      },
      "outputs": [
        {
          "output_type": "execute_result",
          "data": {
            "text/plain": [
              "Gender                               0.000000\n",
              "Age                                  0.000000\n",
              "Married                              0.000000\n",
              "Number of Dependents                 0.000000\n",
              "City                                 0.000000\n",
              "Number of Referrals                  0.000000\n",
              "Tenure in Months                     0.000000\n",
              "Offer                                0.000000\n",
              "Phone Service                        0.000000\n",
              "Avg Monthly Long Distance Charges    0.096834\n",
              "Multiple Lines                       0.096834\n",
              "Internet Service                     0.000000\n",
              "Internet Type                        0.216669\n",
              "Avg Monthly GB Download              0.216669\n",
              "Online Security                      0.216669\n",
              "Online Backup                        0.216669\n",
              "Device Protection Plan               0.216669\n",
              "Premium Tech Support                 0.216669\n",
              "Streaming TV                         0.216669\n",
              "Streaming Movies                     0.216669\n",
              "Streaming Music                      0.216669\n",
              "Unlimited Data                       0.216669\n",
              "Contract                             0.000000\n",
              "Paperless Billing                    0.000000\n",
              "Payment Method                       0.000000\n",
              "Monthly Charge                       0.000000\n",
              "Total Charges                        0.000000\n",
              "Total Extra Data Charges             0.000000\n",
              "Total Long Distance Charges          0.000000\n",
              "Total Revenue                        0.000000\n",
              "Customer Status                      0.000000\n",
              "dtype: float64"
            ]
          },
          "metadata": {},
          "execution_count": 113
        }
      ],
      "source": [
        "df1.isnull().sum() / df1.shape[0]"
      ]
    },
    {
      "cell_type": "markdown",
      "source": [
        "Cleaning Function for the Dataset"
      ],
      "metadata": {
        "id": "o55Sin2wAidR"
      },
      "id": "o55Sin2wAidR"
    },
    {
      "cell_type": "code",
      "execution_count": 115,
      "id": "2816b44d",
      "metadata": {
        "execution": {
          "iopub.execute_input": "2022-10-14T19:27:26.515492Z",
          "iopub.status.busy": "2022-10-14T19:27:26.514786Z",
          "iopub.status.idle": "2022-10-14T19:27:26.520775Z",
          "shell.execute_reply": "2022-10-14T19:27:26.519761Z"
        },
        "papermill": {
          "duration": 0.026484,
          "end_time": "2022-10-14T19:27:26.522949",
          "exception": false,
          "start_time": "2022-10-14T19:27:26.496465",
          "status": "completed"
        },
        "tags": [],
        "id": "2816b44d"
      },
      "outputs": [],
      "source": [
        "def clean_dataset(df):\n",
        "    assert isinstance(df, pd.DataFrame)\n",
        "    df.dropna(inplace=True)\n",
        "    indices_to_keep = ~df.isin([np.nan, np.inf, -np.inf]).any(1)\n",
        "    return df[indices_to_keep].astype(np.float64)"
      ]
    },
    {
      "cell_type": "code",
      "execution_count": 116,
      "id": "22c4bb55",
      "metadata": {
        "execution": {
          "iopub.execute_input": "2022-10-14T19:27:26.559022Z",
          "iopub.status.busy": "2022-10-14T19:27:26.558642Z",
          "iopub.status.idle": "2022-10-14T19:27:26.569858Z",
          "shell.execute_reply": "2022-10-14T19:27:26.568662Z"
        },
        "papermill": {
          "duration": 0.032272,
          "end_time": "2022-10-14T19:27:26.572322",
          "exception": false,
          "start_time": "2022-10-14T19:27:26.540050",
          "status": "completed"
        },
        "tags": [],
        "id": "22c4bb55"
      },
      "outputs": [],
      "source": [
        "df1=df1.interpolate()"
      ]
    },
    {
      "cell_type": "code",
      "execution_count": 120,
      "id": "1ae721af",
      "metadata": {
        "execution": {
          "iopub.execute_input": "2022-10-14T19:27:26.608326Z",
          "iopub.status.busy": "2022-10-14T19:27:26.607893Z",
          "iopub.status.idle": "2022-10-14T19:27:26.625557Z",
          "shell.execute_reply": "2022-10-14T19:27:26.624120Z"
        },
        "papermill": {
          "duration": 0.038252,
          "end_time": "2022-10-14T19:27:26.627712",
          "exception": false,
          "start_time": "2022-10-14T19:27:26.589460",
          "status": "completed"
        },
        "tags": [],
        "id": "1ae721af",
        "colab": {
          "base_uri": "https://localhost:8080/",
          "height": 456
        },
        "outputId": "b96d05f6-723a-47c3-ec34-dd164ec2ab5d"
      },
      "outputs": [
        {
          "output_type": "execute_result",
          "data": {
            "text/plain": [
              "  Customer ID  Gender  Age Married  Number of Dependents          City  \\\n",
              "0  0002-ORFBO  Female   37     Yes                     0  Frazier Park   \n",
              "1  0003-MKNFE    Male   46      No                     0      Glendale   \n",
              "2  0004-TLHLJ    Male   50      No                     0    Costa Mesa   \n",
              "3  0011-IGKFF    Male   78     Yes                     0      Martinez   \n",
              "4  0013-EXCHZ  Female   75     Yes                     0     Camarillo   \n",
              "\n",
              "   Zip Code   Latitude   Longitude  Number of Referrals  ...   Payment Method  \\\n",
              "0     93225  34.827662 -118.999073                    2  ...      Credit Card   \n",
              "1     91206  34.162515 -118.203869                    0  ...      Credit Card   \n",
              "2     92627  33.645672 -117.922613                    0  ...  Bank Withdrawal   \n",
              "3     94553  38.014457 -122.115432                    1  ...  Bank Withdrawal   \n",
              "4     93010  34.227846 -119.079903                    3  ...      Credit Card   \n",
              "\n",
              "  Monthly Charge Total Charges  Total Refunds Total Extra Data Charges  \\\n",
              "0           65.6        593.30           0.00                        0   \n",
              "1           -4.0        542.40          38.33                       10   \n",
              "2           73.9        280.85           0.00                        0   \n",
              "3           98.0       1237.85           0.00                        0   \n",
              "4           83.9        267.40           0.00                        0   \n",
              "\n",
              "  Total Long Distance Charges Total Revenue  Customer Status   Churn Category  \\\n",
              "0                      381.51        974.81           Stayed              NaN   \n",
              "1                       96.21        610.28           Stayed              NaN   \n",
              "2                      134.60        415.45          Churned       Competitor   \n",
              "3                      361.66       1599.51          Churned  Dissatisfaction   \n",
              "4                       22.14        289.54          Churned  Dissatisfaction   \n",
              "\n",
              "                    Churn Reason  \n",
              "0                            NaN  \n",
              "1                            NaN  \n",
              "2  Competitor had better devices  \n",
              "3        Product dissatisfaction  \n",
              "4            Network reliability  \n",
              "\n",
              "[5 rows x 38 columns]"
            ],
            "text/html": [
              "\n",
              "  <div id=\"df-2989639f-d054-44df-8c82-11f2a3cc73f3\">\n",
              "    <div class=\"colab-df-container\">\n",
              "      <div>\n",
              "<style scoped>\n",
              "    .dataframe tbody tr th:only-of-type {\n",
              "        vertical-align: middle;\n",
              "    }\n",
              "\n",
              "    .dataframe tbody tr th {\n",
              "        vertical-align: top;\n",
              "    }\n",
              "\n",
              "    .dataframe thead th {\n",
              "        text-align: right;\n",
              "    }\n",
              "</style>\n",
              "<table border=\"1\" class=\"dataframe\">\n",
              "  <thead>\n",
              "    <tr style=\"text-align: right;\">\n",
              "      <th></th>\n",
              "      <th>Customer ID</th>\n",
              "      <th>Gender</th>\n",
              "      <th>Age</th>\n",
              "      <th>Married</th>\n",
              "      <th>Number of Dependents</th>\n",
              "      <th>City</th>\n",
              "      <th>Zip Code</th>\n",
              "      <th>Latitude</th>\n",
              "      <th>Longitude</th>\n",
              "      <th>Number of Referrals</th>\n",
              "      <th>...</th>\n",
              "      <th>Payment Method</th>\n",
              "      <th>Monthly Charge</th>\n",
              "      <th>Total Charges</th>\n",
              "      <th>Total Refunds</th>\n",
              "      <th>Total Extra Data Charges</th>\n",
              "      <th>Total Long Distance Charges</th>\n",
              "      <th>Total Revenue</th>\n",
              "      <th>Customer Status</th>\n",
              "      <th>Churn Category</th>\n",
              "      <th>Churn Reason</th>\n",
              "    </tr>\n",
              "  </thead>\n",
              "  <tbody>\n",
              "    <tr>\n",
              "      <th>0</th>\n",
              "      <td>0002-ORFBO</td>\n",
              "      <td>Female</td>\n",
              "      <td>37</td>\n",
              "      <td>Yes</td>\n",
              "      <td>0</td>\n",
              "      <td>Frazier Park</td>\n",
              "      <td>93225</td>\n",
              "      <td>34.827662</td>\n",
              "      <td>-118.999073</td>\n",
              "      <td>2</td>\n",
              "      <td>...</td>\n",
              "      <td>Credit Card</td>\n",
              "      <td>65.6</td>\n",
              "      <td>593.30</td>\n",
              "      <td>0.00</td>\n",
              "      <td>0</td>\n",
              "      <td>381.51</td>\n",
              "      <td>974.81</td>\n",
              "      <td>Stayed</td>\n",
              "      <td>NaN</td>\n",
              "      <td>NaN</td>\n",
              "    </tr>\n",
              "    <tr>\n",
              "      <th>1</th>\n",
              "      <td>0003-MKNFE</td>\n",
              "      <td>Male</td>\n",
              "      <td>46</td>\n",
              "      <td>No</td>\n",
              "      <td>0</td>\n",
              "      <td>Glendale</td>\n",
              "      <td>91206</td>\n",
              "      <td>34.162515</td>\n",
              "      <td>-118.203869</td>\n",
              "      <td>0</td>\n",
              "      <td>...</td>\n",
              "      <td>Credit Card</td>\n",
              "      <td>-4.0</td>\n",
              "      <td>542.40</td>\n",
              "      <td>38.33</td>\n",
              "      <td>10</td>\n",
              "      <td>96.21</td>\n",
              "      <td>610.28</td>\n",
              "      <td>Stayed</td>\n",
              "      <td>NaN</td>\n",
              "      <td>NaN</td>\n",
              "    </tr>\n",
              "    <tr>\n",
              "      <th>2</th>\n",
              "      <td>0004-TLHLJ</td>\n",
              "      <td>Male</td>\n",
              "      <td>50</td>\n",
              "      <td>No</td>\n",
              "      <td>0</td>\n",
              "      <td>Costa Mesa</td>\n",
              "      <td>92627</td>\n",
              "      <td>33.645672</td>\n",
              "      <td>-117.922613</td>\n",
              "      <td>0</td>\n",
              "      <td>...</td>\n",
              "      <td>Bank Withdrawal</td>\n",
              "      <td>73.9</td>\n",
              "      <td>280.85</td>\n",
              "      <td>0.00</td>\n",
              "      <td>0</td>\n",
              "      <td>134.60</td>\n",
              "      <td>415.45</td>\n",
              "      <td>Churned</td>\n",
              "      <td>Competitor</td>\n",
              "      <td>Competitor had better devices</td>\n",
              "    </tr>\n",
              "    <tr>\n",
              "      <th>3</th>\n",
              "      <td>0011-IGKFF</td>\n",
              "      <td>Male</td>\n",
              "      <td>78</td>\n",
              "      <td>Yes</td>\n",
              "      <td>0</td>\n",
              "      <td>Martinez</td>\n",
              "      <td>94553</td>\n",
              "      <td>38.014457</td>\n",
              "      <td>-122.115432</td>\n",
              "      <td>1</td>\n",
              "      <td>...</td>\n",
              "      <td>Bank Withdrawal</td>\n",
              "      <td>98.0</td>\n",
              "      <td>1237.85</td>\n",
              "      <td>0.00</td>\n",
              "      <td>0</td>\n",
              "      <td>361.66</td>\n",
              "      <td>1599.51</td>\n",
              "      <td>Churned</td>\n",
              "      <td>Dissatisfaction</td>\n",
              "      <td>Product dissatisfaction</td>\n",
              "    </tr>\n",
              "    <tr>\n",
              "      <th>4</th>\n",
              "      <td>0013-EXCHZ</td>\n",
              "      <td>Female</td>\n",
              "      <td>75</td>\n",
              "      <td>Yes</td>\n",
              "      <td>0</td>\n",
              "      <td>Camarillo</td>\n",
              "      <td>93010</td>\n",
              "      <td>34.227846</td>\n",
              "      <td>-119.079903</td>\n",
              "      <td>3</td>\n",
              "      <td>...</td>\n",
              "      <td>Credit Card</td>\n",
              "      <td>83.9</td>\n",
              "      <td>267.40</td>\n",
              "      <td>0.00</td>\n",
              "      <td>0</td>\n",
              "      <td>22.14</td>\n",
              "      <td>289.54</td>\n",
              "      <td>Churned</td>\n",
              "      <td>Dissatisfaction</td>\n",
              "      <td>Network reliability</td>\n",
              "    </tr>\n",
              "  </tbody>\n",
              "</table>\n",
              "<p>5 rows × 38 columns</p>\n",
              "</div>\n",
              "      <button class=\"colab-df-convert\" onclick=\"convertToInteractive('df-2989639f-d054-44df-8c82-11f2a3cc73f3')\"\n",
              "              title=\"Convert this dataframe to an interactive table.\"\n",
              "              style=\"display:none;\">\n",
              "        \n",
              "  <svg xmlns=\"http://www.w3.org/2000/svg\" height=\"24px\"viewBox=\"0 0 24 24\"\n",
              "       width=\"24px\">\n",
              "    <path d=\"M0 0h24v24H0V0z\" fill=\"none\"/>\n",
              "    <path d=\"M18.56 5.44l.94 2.06.94-2.06 2.06-.94-2.06-.94-.94-2.06-.94 2.06-2.06.94zm-11 1L8.5 8.5l.94-2.06 2.06-.94-2.06-.94L8.5 2.5l-.94 2.06-2.06.94zm10 10l.94 2.06.94-2.06 2.06-.94-2.06-.94-.94-2.06-.94 2.06-2.06.94z\"/><path d=\"M17.41 7.96l-1.37-1.37c-.4-.4-.92-.59-1.43-.59-.52 0-1.04.2-1.43.59L10.3 9.45l-7.72 7.72c-.78.78-.78 2.05 0 2.83L4 21.41c.39.39.9.59 1.41.59.51 0 1.02-.2 1.41-.59l7.78-7.78 2.81-2.81c.8-.78.8-2.07 0-2.86zM5.41 20L4 18.59l7.72-7.72 1.47 1.35L5.41 20z\"/>\n",
              "  </svg>\n",
              "      </button>\n",
              "      \n",
              "  <style>\n",
              "    .colab-df-container {\n",
              "      display:flex;\n",
              "      flex-wrap:wrap;\n",
              "      gap: 12px;\n",
              "    }\n",
              "\n",
              "    .colab-df-convert {\n",
              "      background-color: #E8F0FE;\n",
              "      border: none;\n",
              "      border-radius: 50%;\n",
              "      cursor: pointer;\n",
              "      display: none;\n",
              "      fill: #1967D2;\n",
              "      height: 32px;\n",
              "      padding: 0 0 0 0;\n",
              "      width: 32px;\n",
              "    }\n",
              "\n",
              "    .colab-df-convert:hover {\n",
              "      background-color: #E2EBFA;\n",
              "      box-shadow: 0px 1px 2px rgba(60, 64, 67, 0.3), 0px 1px 3px 1px rgba(60, 64, 67, 0.15);\n",
              "      fill: #174EA6;\n",
              "    }\n",
              "\n",
              "    [theme=dark] .colab-df-convert {\n",
              "      background-color: #3B4455;\n",
              "      fill: #D2E3FC;\n",
              "    }\n",
              "\n",
              "    [theme=dark] .colab-df-convert:hover {\n",
              "      background-color: #434B5C;\n",
              "      box-shadow: 0px 1px 3px 1px rgba(0, 0, 0, 0.15);\n",
              "      filter: drop-shadow(0px 1px 2px rgba(0, 0, 0, 0.3));\n",
              "      fill: #FFFFFF;\n",
              "    }\n",
              "  </style>\n",
              "\n",
              "      <script>\n",
              "        const buttonEl =\n",
              "          document.querySelector('#df-2989639f-d054-44df-8c82-11f2a3cc73f3 button.colab-df-convert');\n",
              "        buttonEl.style.display =\n",
              "          google.colab.kernel.accessAllowed ? 'block' : 'none';\n",
              "\n",
              "        async function convertToInteractive(key) {\n",
              "          const element = document.querySelector('#df-2989639f-d054-44df-8c82-11f2a3cc73f3');\n",
              "          const dataTable =\n",
              "            await google.colab.kernel.invokeFunction('convertToInteractive',\n",
              "                                                     [key], {});\n",
              "          if (!dataTable) return;\n",
              "\n",
              "          const docLinkHtml = 'Like what you see? Visit the ' +\n",
              "            '<a target=\"_blank\" href=https://colab.research.google.com/notebooks/data_table.ipynb>data table notebook</a>'\n",
              "            + ' to learn more about interactive tables.';\n",
              "          element.innerHTML = '';\n",
              "          dataTable['output_type'] = 'display_data';\n",
              "          await google.colab.output.renderOutput(dataTable, element);\n",
              "          const docLink = document.createElement('div');\n",
              "          docLink.innerHTML = docLinkHtml;\n",
              "          element.appendChild(docLink);\n",
              "        }\n",
              "      </script>\n",
              "    </div>\n",
              "  </div>\n",
              "  "
            ]
          },
          "metadata": {},
          "execution_count": 120
        }
      ],
      "source": [
        "df1=df1.dropna()\n",
        "df.head()"
      ]
    },
    {
      "cell_type": "code",
      "execution_count": 121,
      "id": "e585d090",
      "metadata": {
        "execution": {
          "iopub.execute_input": "2022-10-14T19:27:26.663809Z",
          "iopub.status.busy": "2022-10-14T19:27:26.663408Z",
          "iopub.status.idle": "2022-10-14T19:27:26.672276Z",
          "shell.execute_reply": "2022-10-14T19:27:26.671250Z"
        },
        "papermill": {
          "duration": 0.029618,
          "end_time": "2022-10-14T19:27:26.674621",
          "exception": false,
          "start_time": "2022-10-14T19:27:26.645003",
          "status": "completed"
        },
        "tags": [],
        "id": "e585d090",
        "outputId": "3c3fe98f-ebef-4a7e-deb3-171d613d31cc",
        "colab": {
          "base_uri": "https://localhost:8080/"
        }
      },
      "outputs": [
        {
          "output_type": "execute_result",
          "data": {
            "text/plain": [
              "0       Yes\n",
              "1        No\n",
              "2       Yes\n",
              "3       Yes\n",
              "4       Yes\n",
              "       ... \n",
              "7038    Yes\n",
              "7039    Yes\n",
              "7040    Yes\n",
              "7041    Yes\n",
              "7042    Yes\n",
              "Name: Unlimited Data, Length: 7043, dtype: object"
            ]
          },
          "metadata": {},
          "execution_count": 121
        }
      ],
      "source": [
        "df['Unlimited Data'] "
      ]
    },
    {
      "cell_type": "code",
      "execution_count": 122,
      "id": "1d64b399",
      "metadata": {
        "execution": {
          "iopub.execute_input": "2022-10-14T19:27:26.711172Z",
          "iopub.status.busy": "2022-10-14T19:27:26.710377Z",
          "iopub.status.idle": "2022-10-14T19:27:26.715476Z",
          "shell.execute_reply": "2022-10-14T19:27:26.714584Z"
        },
        "papermill": {
          "duration": 0.025667,
          "end_time": "2022-10-14T19:27:26.717594",
          "exception": false,
          "start_time": "2022-10-14T19:27:26.691927",
          "status": "completed"
        },
        "tags": [],
        "id": "1d64b399"
      },
      "outputs": [],
      "source": [
        "number_columns=['Age','Number of Dependents','Number of Referrals','Tenure in Months','Avg Monthly Long Distance Charges','Avg Monthly GB Download','Monthly Charge','Total Charges','Total Extra Data Charges','Total Long Distance Charges','Total Revenue']"
      ]
    },
    {
      "cell_type": "markdown",
      "source": [
        "Checking the unique values of column having datatype: 'object'"
      ],
      "metadata": {
        "id": "dB0uWTGiA4fz"
      },
      "id": "dB0uWTGiA4fz"
    },
    {
      "cell_type": "code",
      "execution_count": 123,
      "id": "18753379",
      "metadata": {
        "execution": {
          "iopub.execute_input": "2022-10-14T19:27:26.753541Z",
          "iopub.status.busy": "2022-10-14T19:27:26.753109Z",
          "iopub.status.idle": "2022-10-14T19:27:26.758536Z",
          "shell.execute_reply": "2022-10-14T19:27:26.757499Z"
        },
        "papermill": {
          "duration": 0.025832,
          "end_time": "2022-10-14T19:27:26.760700",
          "exception": false,
          "start_time": "2022-10-14T19:27:26.734868",
          "status": "completed"
        },
        "tags": [],
        "id": "18753379"
      },
      "outputs": [],
      "source": [
        "def unique_values_names(df):\n",
        "    for column in df:\n",
        "        if df[column].dtype=='object':\n",
        "            print(f'{column}:{df[column].unique()}')"
      ]
    },
    {
      "cell_type": "code",
      "execution_count": 22,
      "id": "556dd6e0",
      "metadata": {
        "execution": {
          "iopub.execute_input": "2022-10-14T19:27:26.797858Z",
          "iopub.status.busy": "2022-10-14T19:27:26.797476Z",
          "iopub.status.idle": "2022-10-14T19:27:26.816769Z",
          "shell.execute_reply": "2022-10-14T19:27:26.815264Z"
        },
        "papermill": {
          "duration": 0.040934,
          "end_time": "2022-10-14T19:27:26.819798",
          "exception": false,
          "start_time": "2022-10-14T19:27:26.778864",
          "status": "completed"
        },
        "tags": [],
        "id": "556dd6e0",
        "outputId": "5f5f61dd-f9d1-48fd-81a7-13bf03fb1efc",
        "colab": {
          "base_uri": "https://localhost:8080/"
        }
      },
      "outputs": [
        {
          "output_type": "stream",
          "name": "stdout",
          "text": [
            "Gender:['Female' 'Male']\n",
            "Married:['Yes' 'No']\n",
            "City:['Frazier Park' 'Glendale' 'Costa Mesa' ... 'Blairsden Graeagle'\n",
            " 'Lost Hills' 'Windsor']\n",
            "Offer:['None' 'Offer E' 'Offer D' 'Offer A' 'Offer B' 'Offer C']\n",
            "Phone Service:['Yes']\n",
            "Multiple Lines:['No' 'Yes']\n",
            "Internet Service:['Yes']\n",
            "Internet Type:['Cable' 'Fiber Optic' 'DSL']\n",
            "Online Security:['No' 'Yes']\n",
            "Online Backup:['Yes' 'No']\n",
            "Device Protection Plan:['No' 'Yes']\n",
            "Premium Tech Support:['Yes' 'No']\n",
            "Streaming TV:['Yes' 'No']\n",
            "Streaming Movies:['No' 'Yes']\n",
            "Streaming Music:['No' 'Yes']\n",
            "Unlimited Data:['Yes' 'No']\n",
            "Contract:['One Year' 'Month-to-Month' 'Two Year']\n",
            "Paperless Billing:['Yes' 'No']\n",
            "Payment Method:['Credit Card' 'Bank Withdrawal' 'Mailed Check']\n",
            "Customer Status:['Stayed' 'Churned' 'Joined']\n"
          ]
        }
      ],
      "source": [
        "unique_values_names(df1)"
      ]
    },
    {
      "cell_type": "markdown",
      "source": [
        "# Data Visualization"
      ],
      "metadata": {
        "id": "15IbAOg0BFD7"
      },
      "id": "15IbAOg0BFD7"
    },
    {
      "cell_type": "code",
      "source": [
        "import plotly.express as px "
      ],
      "metadata": {
        "id": "wMAqD8ke7chz"
      },
      "id": "wMAqD8ke7chz",
      "execution_count": 124,
      "outputs": []
    },
    {
      "cell_type": "markdown",
      "source": [
        "Visualizing Column 'Age' in the dataset"
      ],
      "metadata": {
        "id": "FWQDS8cEBUTh"
      },
      "id": "FWQDS8cEBUTh"
    },
    {
      "cell_type": "code",
      "execution_count": 25,
      "id": "21698d97",
      "metadata": {
        "execution": {
          "iopub.execute_input": "2022-10-14T19:27:26.857460Z",
          "iopub.status.busy": "2022-10-14T19:27:26.857078Z",
          "iopub.status.idle": "2022-10-14T19:27:27.978228Z",
          "shell.execute_reply": "2022-10-14T19:27:27.977132Z"
        },
        "papermill": {
          "duration": 1.142146,
          "end_time": "2022-10-14T19:27:27.980543",
          "exception": false,
          "start_time": "2022-10-14T19:27:26.838397",
          "status": "completed"
        },
        "tags": [],
        "id": "21698d97",
        "outputId": "612f18d5-3759-40df-b43f-e014558c18db",
        "colab": {
          "base_uri": "https://localhost:8080/",
          "height": 542
        }
      },
      "outputs": [
        {
          "output_type": "display_data",
          "data": {
            "text/html": [
              "<html>\n",
              "<head><meta charset=\"utf-8\" /></head>\n",
              "<body>\n",
              "    <div>            <script src=\"https://cdnjs.cloudflare.com/ajax/libs/mathjax/2.7.5/MathJax.js?config=TeX-AMS-MML_SVG\"></script><script type=\"text/javascript\">if (window.MathJax) {MathJax.Hub.Config({SVG: {font: \"STIX-Web\"}});}</script>                <script type=\"text/javascript\">window.PlotlyConfig = {MathJaxConfig: 'local'};</script>\n",
              "        <script src=\"https://cdn.plot.ly/plotly-2.8.3.min.js\"></script>                <div id=\"28d604f1-6533-497e-83ba-2dfb3b99c38f\" class=\"plotly-graph-div\" style=\"height:525px; width:100%;\"></div>            <script type=\"text/javascript\">                                    window.PLOTLYENV=window.PLOTLYENV || {};                                    if (document.getElementById(\"28d604f1-6533-497e-83ba-2dfb3b99c38f\")) {                    Plotly.newPlot(                        \"28d604f1-6533-497e-83ba-2dfb3b99c38f\",                        [{\"alignmentgroup\":\"True\",\"bingroup\":\"x\",\"hovertemplate\":\"Age=%{x}<br>count=%{y}<extra></extra>\",\"legendgroup\":\"\",\"marker\":{\"color\":\"#636efa\",\"pattern\":{\"shape\":\"\"}},\"name\":\"\",\"offsetgroup\":\"\",\"orientation\":\"v\",\"showlegend\":false,\"x\":[37,46,50,78,75,23,67,52,68,43,25,58,32,58,72,79,26,30,37,23,28,37,60,60,69,20,46,19,64,38,54,50,25,35,72,51,78,30,58,66,20,61,24,55,59,71,49,61,39,24,71,29,62,42,39,55,40,76,57,71,25,19,77,73,41,43,48,56,34,78,54,42,22,71,56,80,73,26,59,78,47,68,30,63,54,52,22,26,58,66,25,73,46,40,53,23,24,45,49,62,25,37,35,19,69,44,19,64,44,58,29,80,22,22,50,53,76,57,45,43,62,49,38,54,57,40,56,38,61,47,35,61,80,63,50,63,58,29,54,25,25,46,28,63,37,74,44,21,62,43,40,48,55,77,41,69,63,43,29,33,70,54,80,46,22,28,58,55,52,56,63,62,24,21,21,56,31,20,31,60,72,42,64,28,76,44,25,58,70,22,22,21,75,59,35,64,62,20,58,44,72,43,34,74,56,40,37,47,34,21,78,47,51,64,59,79,39,32,58,61,19,45,23,62,70,34,47,63,58,74,43,37,58,49,41,61,28,39,78,61,72,78,33,41,74,57,42,39,27,21,56,26,25,70,36,37,68,66,72,34,48,66,59,69,64,26,43,61,45,28,51,26,38,38,32,76,70,19,23,21,76,63,19,41,48,21,32,51,21,41,40,33,35,62,60,32,47,54,28,50,63,49,64,33,30,40,39,28,61,73,69,71,45,58,32,34,35,43,56,21,80,45,47,78,41,20,61,33,73,29,62,40,42,74,24,61,42,65,24,41,64,19,56,45,28,79,56,32,70,77,52,45,68,73,54,29,66,41,35,48,53,43,44,52,50,64,50,39,31,38,43,63,29,56,49,33,19,65,72,27,36,25,24,43,54,31,65,48,54,26,80,48,76,58,48,29,31,33,63,19,38,56,57,27,59,29,32,63,53,51,26,61,68,34,36,30,47,40,70,62,20,32,21,55,72,57,29,47,34,43,46,21,31,29,74,53,29,37,79,66,35,55,70,40,23,22,20,74,33,36,40,44,54,24,46,22,67,21,71,46,23,25,28,40,35,45,23,38,59,46,30,32,42,40,50,31,78,59,72,71,54,73,66,47,63,30,63,39,49,35,79,51,57,77,59,25,37,25,56,63,70,36,49,56,68,38,69,48,63,35,46,33,34,72,47,19,27,62,78,35,34,42,60,52,67,46,67,59,43,38,36,39,64,36,78,41,32,48,53,53,36,39,35,59,55,59,66,61,22,45,42,33,54,25,60,44,35,55,38,39,26,21,54,63,65,70,24,54,56,60,63,54,49,27,30,51,77,51,45,68,26,53,37,25,37,32,74,41,22,66,74,70,64,46,40,30,49,68,33,56,66,60,69,62,55,80,40,70,52,24,69,57,21,66,27,72,40,62,56,30,75,45,73,58,48,49,24,28,33,61,63,59,22,26,30,22,23,56,44,46,25,68,50,80,55,71,62,65,37,31,58,65,21,27,50,70,32,35,71,31,22,29,77,47,45,68,75,64,62,20,54,44,62,40,51,54,39,61,48,33,22,42,31,61,59,39,44,61,35,34,78,31,39,27,37,55,24,55,39,75,76,52,45,49,63,25,51,21,34,57,21,32,36,23,31,25,34,63,34,33,58,58,77,19,53,50,28,40,23,53,22,21,25,53,79,21,59,65,39,55,20,26,64,70,31,66,26,60,36,79,26,76,38,53,64,39,74,27,47,42,76,29,30,54,75,40,42,75,60,19,46,20,77,45,48,40,71,65,75,60,50,64,61,57,32,28,27,60,54,44,36,43,53,44,71,30,44,24,39,53,79,65,53,21,64,67,34,22,79,33,74,47,30,73,42,32,40,74,39,65,59,45,56,30,80,19,70,41,73,31,64,28,80,22,22,59,56,63,31,59,31,27,35,35,23,50,70,59,23,58,28,71,45,80,19,43,20,38,27,48,28,77,35,47,57,26,21,65,71,79,38,38,44,23,55,39,23,69,47,59,53,48,42,36,62,47,31,38,79,43,43,32,20,62,57,57,36,62,61,35,59,65,37,52,46,69,72,68,44,21,73,75,72,67,51,23,51,62,44,78,27,45,32,19,35,23,31,54,45,28,44,49,73,47,25,24,35,63,48,50,51,24,56,51,37,61,32,65,71,75,56,70,50,32,47,41,77,66,49,37,54,48,80,50,78,54,42,31,25,33,60,63,56,70,39,50,19,41,80,49,42,57,52,23,44,66,39,53,47,37,63,49,51,70,21,27,55,42,37,20,25,23,20,65,69,29,22,46,30,68,23,31,27,37,61,22,60,47,38,74,40,52,25,59,24,71,75,58,56,66,23,62,36,35,59,41,38,39,22,34,22,48,30,21,36,29,56,20,44,29,58,57,47,34,22,24,63,33,45,48,75,53,68,21,27,77,46,42,75,44,48,39,38,63,70,69,65,27,42,23,39,25,51,25,76,62,31,67,41,55,70,51,37,20,44,46,36,38,54,52,60,30,79,25,52,35,48,45,22,49,47,28,43,54,54,45,40,78,76,61,61,31,63,41,22,20,74,25,40,67,77,30,48,66,37,41,43,29,79,32,44,43,62,45,79,79,32,19,33,79,76,19,68,67,30,19,65,33,37,72,39,76,20,36,24,74,66,40,41,22,47,26,26,69,51,66,20,76,24,46,60,77,20,30,80,34,26,36,74,26,66,55,38,46,29,70,28,33,51,22,43,26,65,25,61,30,55,57,61,48,36,57,20,32,54,32,46,32,47,24,25,68,54,34,19,55,40,71,71,68,34,61,35,68,22,45,49,70,57,65,45,58,71,39,43,79,58,32,53,35,33,73,26,73,80,76,22,49,60,37,69,36,73,28,32,79,47,34,40,51,40,38,36,48,68,36,28,65,73,30,52,26,45,55,29,79,42,40,22,32,41,74,54,40,60,74,60,65,56,20,52,75,49,60,19,49,30,29,67,48,48,28,45,79,33,21,74,68,51,26,43,64,53,37,46,22,23,30,40,77,39,27,21,78,49,57,29,79,20,62,74,69,50,67,52,74,24,50,49,54,41,64,38,49,75,69,64,68,61,47,50,58,31,26,46,31,36,48,24,61,42,29,29,36,46,76,28,37,64,64,44,22,21,29,76,59,71,41,56,45,47,28,30,64,41,71,69,49,64,60,60,56,41,28,39,34,47,74,61,33,57,75,64,27,52,51,38,46,32,44,68,58,27,58,55,41,74,23,76,69,25,22,73,54,34,58,26,44,25,19,63,32,21,64,57,39,43,34,30,21,51,75,35,64,36,52,41,37,29,49,77,38,78,40,38,30,62,47,55,33,28,44,54,34,63,42,32,73,60,25,51,42,73,34,21,32,75,24,43,19,29,56,25,49,58,32,61,21,52,59,40,71,57,57,61,35,75,25,39,47,57,71,30,51,61,24,43,45,79,44,20,42,57,63,26,59,23,67,47,47,39,51,38,47,74,64,28,26,35,19,66,70,45,77,36,59,52,40,41,43,36,21,51,77,27,77,28,31,74,58,69,75,26,60,72,38,46,79,24,23,34,69,56,75,73,76,32,27,33,69,24,29,64,50,58,70,69,65,61,23,58,31,23,51,70,38,75,65,24,60,47,70,70,41,42,37,55,60,63,50,76,42,26,42,61,44,79,32,53,59,45,64,79,74,76,40,28,59,73,40,22,40,61,80,71,40,57,21,78,45,78,20,57,27,78,47,30,34,64,48,26,60,57,36,70,78,39,59,23,50,34,46,42,60,49,61,36,19,44,46,66,40,32,38,40,35,76,41,55,43,74,21,57,67,27,61,47,25,26,21,22,29,56,76,20,78,21,51,36,52,51,68,42,56,38,65,50,39,40,44,20,59,40,30,60,28,59,44,34,25,51,23,53,25,37,78,19,27,49,73,41,67,68,53,61,32,71,49,28,19,77,25,34,62,25,52,25,54,58,74,60,52,26,60,48,19,76,19,56,43,37,47,57,46,71,27,22,51,34,56,70,59,63,70,28,51,52,28,44,51,76,49,43,62,27,54,36,37,20,45,23,74,25,24,34,80,22,78,29,50,60,57,79,25,63,58,21,78,78,66,77,20,69,23,23,55,73,38,38,77,33,69,68,73,53,21,58,52,31,74,49,52,44,55,59,35,28,61,58,38,23,28,69,28,59,42,58,35,48,24,47,27,60,76,40,77,64,21,56,70,54,32,50,68,41,51,57,52,29,40,56,23,71,66,35,27,40,52,25,72,21,53,69,27,62,48,29,51,33,55,48,33,21,50,43,64,35,37,76,45,67,62,50,75,49,25,74,42,46,47,63,78,30,58,68,74,55,28,80,56,49,59,62,55,24,69,35,25,59,45,33,59,33,20,75,39,35,35,77,74,54,35,49,40,51,22,35,33,56,43,60,32,44,27,25,51,59,45,77,42,53,74,34,74,21,42,51,79,35,70,51,67,56,42,77,54,55,25,60,72,23,74,67,49,23,52,73,28,24,31,32,66,55,63,54,73,46,33,71,45,76,24,49,35,30,30,46,68,62,55,73,36,32,29,21,25,43,80,22,35,72,66,80,41,41,55,71,41,47,42,49,25,45,58,66,70,77,80,44,70,24,22,38,33,56,34,51,36,39,55,67,40,63,54,33,25,56,42,78,59,43,25,46,74,27,64,35,61,57,63,72,42,30,68,62,40,78,57,67,19,48,30,36,47,37,49,49,27,23,29,36,73,61,64,37,64,52,29,41,38,68,58,25,37,49,54,25,67,57,55,48,72,33,73,56,55,52,57,22,70,36,47,46,80,38,73,23,30,44,53,50,41,35,43,65,61,70,57,58,41,73,52,72,54,23,45,20,21,28,25,33,64,65,41,42,75,41,50,67,31,73,76,23,68,30,21,58,32,72,51,21,44,26,48,35,24,60,35,26,35,52,69,30,75,30,37,62,55,43,40,41,28,56,48,40,22,45,57,63,66,25,60,23,65,78,51,63,45,74,68,53,33,33,65,59,60,35,72,37,47,78,20,23,28,20,64,60,36,38,56,41,35,32,69,34,51,52,64,32,44,72,53,44,36,54,56,57,80,41,73,19,54,45,23,24,68,66,49,53,68,42,64,60,58,19,78,73,50,42,80,33,68,39,21,54,35,28,69,23,55,39,51,49,59,28,36,47,68,43,23,34,40,33,19,20,32,19,46,72,42,33,68,32,64,24,75,77,64,27,51,62,54,22,72,51,38,46,21,29,69,25,38,60,75,64,77,23,50,66,28,70,45,30,57,80,43,65,66,59,35,67,65,80,30,77,80,56,33,25,74,49,31,34,77,37,70,22,64,41,33,37,80,80,46,39,76,25,49,70,76,30,56,44,44,80,49,68,23,64,53,23,33,29,51,39,61,47,79,54,62,55,40,57,28,80,30,48,26,37,61,68,41,48,33,52,35,43,30,80,66,40,62,24,27,30,32,20,63,23,28,25,47,74,70,39,20,39,35,23,21,19,57,20,49,35,32,19,68,24,50,41,35,35,47,19,49,63,42,77,61,50,47,55,37,54,25,39,32,36,45,33,28,77,49,30,73,22,22,50,70,40,53,62,64,27,73,22,62,34,34,75,37,44,22,39,51,52,46,68,44,23,35,35,48,65,27,57,51,26,33,37,27,38,23,64,50,26,22,28,38,37,27,48,56,64,49,71,59,30,32,24,75,73,68,52,72,39,43,56,21,66,50,53,56,55,32,64,56,32,41,47,26,22,68,46,40,51,48,40,64,47,33,62,38,27,30,69,36,72,31,78,36,65,54,80,48,19,64,74,78,49,69,35,58,79,71,73,32,44,44,20,74,62,57,31,27,72,20,78,42,21,43,73,50,62,28,25,45,47,33,79,73,67,44,65,45,43,22,43,60,61,51,20,67,37,61,44,43,20,42,26,65,65,24,48,35,26,44,51,39,45,75,69,72,71,50,54,40,26,27,76,58,43,39,21,34,65,65,32,36,42,36,52,53,20,65,69,48,32,53,61,49,64,63,35,74,53,22,49,34,75,31,52,48,56,71,52,53,38,63,67,28,50,42,73,19,34,40,34,39,49,21,42,38,29,38,63,53,57,28,62,26,35,38,54,38,69,36,46,38,70,49,67,78,80,76,47,70,36,52,63,67,33,25,36,46,21,20,41,51,62,60,48,73,48,60,61,23,77,44,56,25,50,46,76,51,51,28,29,69,71,76,34,61,60,45,53,69,45,37,66,65,21,57,72,79,19,30,19,21,59,41,54,41,32,75,29,31,56,31,41,68,28,34,79,61,37,40,36,46,56,29,29,64,22,79,25,23,62,72,58,37,57,55,73,55,57,78,35,45,61,33,52,48,34,41,58,78,47,61,41,57,46,40,74,20,78,45,28,26,73,75,39,39,29,68,38,28,30,56,55,44,63,21,32,37,30,24,19,21,35,72,45,76,51,55,49,34,54,62,30,54,67,27,55,42,23,74,37,25,56,60,27,74,49,71,80,58,40,47,61,32,40,20,37,33,48,46,75,32,51,79,79,54,30,59,53,19,22,44,35,32,19,19,40,53,72,75,67,24,41,27,45,32,21,36,36,59,48,19,58,72,40,20,78,45,27,40,25,42,80,46,68,39,55,34,39,68,57,27,68,47,70,27,32,73,76,33,62,69,39,60,56,68,73,51,47,66,44,59,44,50,33,47,56,78,55,53,44,56,59,27,45,41,42,53,37,49,36,21,33,20,69,71,31,34,71,43,48,46,39,42,27,34,45,49,19,57,77,46,69,19,61,42,55,79,26,32,43,58,34,67,71,22,57,31,54,46,50,71,64,30,67,46,42,32,53,29,58,37,50,40,69,71,42,42,60,43,67,19,61,37,41,64,63,59,27,58,38,77,55,27,22,35,47,68,33,62,20,71,33,21,22,33,20,19,41,48,45,37,28,63,50,32,37,63,42,58,56,67,42,49,49,39,61,45,53,54,37,26,68,28,80,19,32,62,29,48,26,72,53,24,44,40,61,50,38,55,23,67,48,48,42,77,23,38,48,21,35,20,51,33,75,76,44,45,38,54,50,39,20,33,49,30,39,68,63,54,51,21,71,72,31,29,47,50,52,61,57,34,72,20,46,61,67,19,61,22,61,47,63,47,46,57,33,31,47,67,24,68,20,56,78,29,27,38,50,76,75,28,60,31,51,59,68,59,30,73,33,38,66,26,61,80,69,51,19,47,65,22,25,66,79,59,19,46,62,29,63,71,63,39,54,27,20,19,35,49,23,56,23,51,56,50,64,29,26,54,62,42,73,39,47,23,25,59,61,40,76,77,74,19,43,54,27,42,57,46,25,69,55,77,24,53,24,32,34,20,73,59,65,36,36,70,71,46,61,43,46,61,31,60,63,38,79,48,62,42,79,52,64,27,41,73,74,72,48,28,25,20,71,30,33,42,65,34,64,69,50,64,64,30,29,60,21,77,47,31,44,57,63,38,20,20,44,34,74,39,47,53,56,43,70,28,29,47,46,54,47,26,35,38,61,29,72,54,56,73,37,50,45,43,38,66,71,28,25,50,55,27,28,44,22,66,21,59,56,56,57,55,70,34,79,69,23,39,53,47,66,72,32,28,78,26,39,30,62,54,52,63,57,80,25,75,38,39,35,78,30,59,65,26,80,31,75,50,41,29,61,47,20,71,69,23,39,50,66,48,45,50,29,47,68,56,53,34,26,48,29,37,51,33,26,35,40,67,53,78,24,51,41,73,42,45,55,65,77,62,74,71,74,31,36,42,44,56,26,70,41,55,45,47,19,23,34,60,31,69,71,28,66,77,75,63,35,48,22,26,24,25,31,44,59,31,76,73,34,28,37,59,31,34,77,53,38,56,59,62,79,74,28,54,65,69,30,75,63,37,73,32,62,62,43,54,48,68,29,23,42,44,64,55,52,66,26,51,41,52,60,32,22,59,59,33,45,75,76,20,50,25,78,30,49,79,32,19,47,57,78,79,68,53,19,53,63,52,78,63,47,74,60,43,52,30,42,75,48,60,64,31,20,40,76,66,37,46,30,34,60,19,37,32,47,42,29,57,38,19,46,45,73,48,25,42,24,24,48,35,67,52,43,36,80,53,67,24,75,35,49,31,63,26,62,57,70,33,30,53,51,56,27,25,65,21,21,23,29,80,53,29,35,35,78,41,71,23,49,31,49,62,75,38,76,51,51,67,63,37,74,76,35,65,76,33,56,63,64,74,57,21,29,68,74,25,42,21,33,20,72,77,31,31,30,22,45,71,39,79,26,69,68,52,25,33,37,62,48,34,49,27,60,40,40,30,27,54,23,33,52,37,44,38,76,71,49,59,75,73,49,59,39,23,61,39,67,20,53,61,19,19,54,62,27,42,25,60,50,41,63,41,60,71,34,48,62,80,32,69,50,44,63,23,56,32,76,21,36,61,73,71,51,49,34,44,33,46,25,39,77,49,59,31,43,64,76,25,42,21,20,31,30,57,75,61,23,47,49,59,21,60,41,54,59,50,33,61,63,51,72,39,47,57,80,20,47,39,32,30,39,58,37,32,53,64,71,74,77,51,49,31,77,79,37,34,52,22,33,43,54,44,68,32,33,25,39,52,43,41,69,27,59,38,27,27,19,37,32,79,46,60,71,33,25,22,36,30,69,33,68,61,34,38,19,34,33,23,25,22,20,28,76,78,68,63,47,35,58,32,40,69,68,75,51,45,44,45,23,46,28,42,34,29,26,24,41,65,19,61,21,44,29,26,63,62,20,19,37,26,40,20,29,39,20,62,79,56,56,51,73,43,75,65,53,70,73,77,62,50,70,72,66,72,32,27,19,60,29,47,73,23,50,67,22,72,69,57,76,73,35,70,74,27,44,80,68,39,63,39,71,59,20,52,21,58,40,75,39,46,57,63,61,74,49,26,39,61,73,22,58,20,65,74,33,42,39,36,61,28,77,46,25,34,43,49,66,26,55,30,55,73,74,48,30,48,27,56,50,41,47,33,50,80,62,43,53,55,47,55,39,22,47,20,33,45,42,27,21,30,27,60,78,35,75,30,44,36,44,58,22,73,66,79,51,74,53,70,44,46,35,55,47,45,30,57,70,39,33,69,55,64,33,73,33,24,55,54,48,56,80,39,76,56,68,64,71,23,34,57,77,25,46,75,51,32,22,68,72,43,34,60,58,41,37,53,26,60,55,22,45,80,49,64,40,19,49,41,75,34,42,79,48,47,37,75,44,76,55,56,62,58,62,72,24,62,41,56,57,32,32,62,32,61,40,80,36,56,30,71,30,67,76,66,62,47,63,69,61,50,74,42,21,22,36,51,62,21,41,79,34,20,24,49,37,23,51,77,40,65,78,64,60,24,47,40,46,31,50,54,41,77,59,53,33,29,64,75,56,80,79,40,51,32,79,35,39,71,26,52,68,34,26,39,25,65,20,43,59,68,30,47,68,25,37,38,54,42,33,23,48,27,42,75,30,35,79,34,26,49,66,32,78,72,58,40,26,67,25,44,44,24,39,63,69,21,26,45,26,20,21,34,27,55,69,29,62,80,56,70,61,73,55,80,41,21,44,20,40,76,77,65,36,28,53,50,62,34,22,46,58,23,56,62,65,44,25,66,47,62,53,36,65,39,43,51,53,30,24,21,28,35,65,54,56,55,59,53,25,42,58,57,53,49,33,51,51,27,45,78,47,30,42,57,44,68,65,45,61,39,40,55,22,32,27,72,62,29,66,72,21,33,46,40,40,42,56,41,22,42,49,61,45,35,20,25,37,75,29,38,67,61,63,23,29,58,54,79,46,63,25,63,54,78,68,70,63,53,63,58,42,73,42,22,68,21,57,62,59,48,66,26,23,68,35,25,53,39,48,69,77,37,67,24,21,25,20,51,66,50,56,23,51,70,30,54,64,61,39,40,58,29,35,60,36,21,46,65,27,22,19,26,36,69,22,60,39,36,65,40,75,51,41,33,54,35,38,41,29,57,50,20,41,34,23,75,21,62,42,35,47,45,27,69,65,34,25,38,42,70,42,57,51,56,67,80,49,30,64,23,65,68,19,25,36,74,20,20,23,73,50,38,23,19,64,58,23,76,60,67,77,23,76,51,36,66,24,74,47,33,26,76,56,31,44,52,46,29,74,55,44,29,54,34,23,68,57,62,50,28,38,37,56,70,59,50,22,63,74,60,63,71,51,76,49,37,50,53,19,47,70,77,38,42,64,41,52,25,80,52,42,63,39,47,55,47,62,30,21,34,33,43,26,39,40,53,39,33,21,52,22,24,60,62,56,51,41,69,35,25,50,28,48,35,69,44,35,35,64,78,52,41,76,79,55,36,22,54,42,73,45,52,63,53,53,30,79,52,58,48,39,80,33,49,20,60,63,42,30,32,25,67,50,32,26,31,57,30,50,30,57,40,58,64,40,39,38,60,47,52,30,29,24,48,53,61,38,47,43,39,33,48,72,69,69,50,56,29,31,38,52,51,37,33,28,53,33,64,20,29,49,27,49,48,64,44,57,26,71,26,71,38,48,23,55,42,75,54,67,35,42,20,23,26,56,76,59,63,22,80,51,77,60,25,20,28,51,20,36,47,44,26,20,49,27,27,47,58,37,60,58,50,51,37,22,54,37,59,63,54,52,43,77,69,69,53,46,55,59,60,35,49,62,38,45,53,41,26,67,52,79,59,52,27,50,56,65,50,75,43,43,48,61,63,20,55,58,69,37,60,50,62,66,39,45,43,65,71,53,52,55,53,21,20,19,60,73,58,22,59,38,51,29,62,65,66,31,55,27,37,65,42,66,60,32,73,63,28,79,60,38,55,33,44,60,45,53,55,48,59,58,38,41,58,53,75,51,55,65,44,75,26,61,79,73,20,70,55,77,31,72,20,53,20,40,22,21],\"xaxis\":\"x\",\"yaxis\":\"y\",\"type\":\"histogram\"}],                        {\"template\":{\"data\":{\"bar\":[{\"error_x\":{\"color\":\"#2a3f5f\"},\"error_y\":{\"color\":\"#2a3f5f\"},\"marker\":{\"line\":{\"color\":\"#E5ECF6\",\"width\":0.5},\"pattern\":{\"fillmode\":\"overlay\",\"size\":10,\"solidity\":0.2}},\"type\":\"bar\"}],\"barpolar\":[{\"marker\":{\"line\":{\"color\":\"#E5ECF6\",\"width\":0.5},\"pattern\":{\"fillmode\":\"overlay\",\"size\":10,\"solidity\":0.2}},\"type\":\"barpolar\"}],\"carpet\":[{\"aaxis\":{\"endlinecolor\":\"#2a3f5f\",\"gridcolor\":\"white\",\"linecolor\":\"white\",\"minorgridcolor\":\"white\",\"startlinecolor\":\"#2a3f5f\"},\"baxis\":{\"endlinecolor\":\"#2a3f5f\",\"gridcolor\":\"white\",\"linecolor\":\"white\",\"minorgridcolor\":\"white\",\"startlinecolor\":\"#2a3f5f\"},\"type\":\"carpet\"}],\"choropleth\":[{\"colorbar\":{\"outlinewidth\":0,\"ticks\":\"\"},\"type\":\"choropleth\"}],\"contour\":[{\"colorbar\":{\"outlinewidth\":0,\"ticks\":\"\"},\"colorscale\":[[0.0,\"#0d0887\"],[0.1111111111111111,\"#46039f\"],[0.2222222222222222,\"#7201a8\"],[0.3333333333333333,\"#9c179e\"],[0.4444444444444444,\"#bd3786\"],[0.5555555555555556,\"#d8576b\"],[0.6666666666666666,\"#ed7953\"],[0.7777777777777778,\"#fb9f3a\"],[0.8888888888888888,\"#fdca26\"],[1.0,\"#f0f921\"]],\"type\":\"contour\"}],\"contourcarpet\":[{\"colorbar\":{\"outlinewidth\":0,\"ticks\":\"\"},\"type\":\"contourcarpet\"}],\"heatmap\":[{\"colorbar\":{\"outlinewidth\":0,\"ticks\":\"\"},\"colorscale\":[[0.0,\"#0d0887\"],[0.1111111111111111,\"#46039f\"],[0.2222222222222222,\"#7201a8\"],[0.3333333333333333,\"#9c179e\"],[0.4444444444444444,\"#bd3786\"],[0.5555555555555556,\"#d8576b\"],[0.6666666666666666,\"#ed7953\"],[0.7777777777777778,\"#fb9f3a\"],[0.8888888888888888,\"#fdca26\"],[1.0,\"#f0f921\"]],\"type\":\"heatmap\"}],\"heatmapgl\":[{\"colorbar\":{\"outlinewidth\":0,\"ticks\":\"\"},\"colorscale\":[[0.0,\"#0d0887\"],[0.1111111111111111,\"#46039f\"],[0.2222222222222222,\"#7201a8\"],[0.3333333333333333,\"#9c179e\"],[0.4444444444444444,\"#bd3786\"],[0.5555555555555556,\"#d8576b\"],[0.6666666666666666,\"#ed7953\"],[0.7777777777777778,\"#fb9f3a\"],[0.8888888888888888,\"#fdca26\"],[1.0,\"#f0f921\"]],\"type\":\"heatmapgl\"}],\"histogram\":[{\"marker\":{\"pattern\":{\"fillmode\":\"overlay\",\"size\":10,\"solidity\":0.2}},\"type\":\"histogram\"}],\"histogram2d\":[{\"colorbar\":{\"outlinewidth\":0,\"ticks\":\"\"},\"colorscale\":[[0.0,\"#0d0887\"],[0.1111111111111111,\"#46039f\"],[0.2222222222222222,\"#7201a8\"],[0.3333333333333333,\"#9c179e\"],[0.4444444444444444,\"#bd3786\"],[0.5555555555555556,\"#d8576b\"],[0.6666666666666666,\"#ed7953\"],[0.7777777777777778,\"#fb9f3a\"],[0.8888888888888888,\"#fdca26\"],[1.0,\"#f0f921\"]],\"type\":\"histogram2d\"}],\"histogram2dcontour\":[{\"colorbar\":{\"outlinewidth\":0,\"ticks\":\"\"},\"colorscale\":[[0.0,\"#0d0887\"],[0.1111111111111111,\"#46039f\"],[0.2222222222222222,\"#7201a8\"],[0.3333333333333333,\"#9c179e\"],[0.4444444444444444,\"#bd3786\"],[0.5555555555555556,\"#d8576b\"],[0.6666666666666666,\"#ed7953\"],[0.7777777777777778,\"#fb9f3a\"],[0.8888888888888888,\"#fdca26\"],[1.0,\"#f0f921\"]],\"type\":\"histogram2dcontour\"}],\"mesh3d\":[{\"colorbar\":{\"outlinewidth\":0,\"ticks\":\"\"},\"type\":\"mesh3d\"}],\"parcoords\":[{\"line\":{\"colorbar\":{\"outlinewidth\":0,\"ticks\":\"\"}},\"type\":\"parcoords\"}],\"pie\":[{\"automargin\":true,\"type\":\"pie\"}],\"scatter\":[{\"marker\":{\"colorbar\":{\"outlinewidth\":0,\"ticks\":\"\"}},\"type\":\"scatter\"}],\"scatter3d\":[{\"line\":{\"colorbar\":{\"outlinewidth\":0,\"ticks\":\"\"}},\"marker\":{\"colorbar\":{\"outlinewidth\":0,\"ticks\":\"\"}},\"type\":\"scatter3d\"}],\"scattercarpet\":[{\"marker\":{\"colorbar\":{\"outlinewidth\":0,\"ticks\":\"\"}},\"type\":\"scattercarpet\"}],\"scattergeo\":[{\"marker\":{\"colorbar\":{\"outlinewidth\":0,\"ticks\":\"\"}},\"type\":\"scattergeo\"}],\"scattergl\":[{\"marker\":{\"colorbar\":{\"outlinewidth\":0,\"ticks\":\"\"}},\"type\":\"scattergl\"}],\"scattermapbox\":[{\"marker\":{\"colorbar\":{\"outlinewidth\":0,\"ticks\":\"\"}},\"type\":\"scattermapbox\"}],\"scatterpolar\":[{\"marker\":{\"colorbar\":{\"outlinewidth\":0,\"ticks\":\"\"}},\"type\":\"scatterpolar\"}],\"scatterpolargl\":[{\"marker\":{\"colorbar\":{\"outlinewidth\":0,\"ticks\":\"\"}},\"type\":\"scatterpolargl\"}],\"scatterternary\":[{\"marker\":{\"colorbar\":{\"outlinewidth\":0,\"ticks\":\"\"}},\"type\":\"scatterternary\"}],\"surface\":[{\"colorbar\":{\"outlinewidth\":0,\"ticks\":\"\"},\"colorscale\":[[0.0,\"#0d0887\"],[0.1111111111111111,\"#46039f\"],[0.2222222222222222,\"#7201a8\"],[0.3333333333333333,\"#9c179e\"],[0.4444444444444444,\"#bd3786\"],[0.5555555555555556,\"#d8576b\"],[0.6666666666666666,\"#ed7953\"],[0.7777777777777778,\"#fb9f3a\"],[0.8888888888888888,\"#fdca26\"],[1.0,\"#f0f921\"]],\"type\":\"surface\"}],\"table\":[{\"cells\":{\"fill\":{\"color\":\"#EBF0F8\"},\"line\":{\"color\":\"white\"}},\"header\":{\"fill\":{\"color\":\"#C8D4E3\"},\"line\":{\"color\":\"white\"}},\"type\":\"table\"}]},\"layout\":{\"annotationdefaults\":{\"arrowcolor\":\"#2a3f5f\",\"arrowhead\":0,\"arrowwidth\":1},\"autotypenumbers\":\"strict\",\"coloraxis\":{\"colorbar\":{\"outlinewidth\":0,\"ticks\":\"\"}},\"colorscale\":{\"diverging\":[[0,\"#8e0152\"],[0.1,\"#c51b7d\"],[0.2,\"#de77ae\"],[0.3,\"#f1b6da\"],[0.4,\"#fde0ef\"],[0.5,\"#f7f7f7\"],[0.6,\"#e6f5d0\"],[0.7,\"#b8e186\"],[0.8,\"#7fbc41\"],[0.9,\"#4d9221\"],[1,\"#276419\"]],\"sequential\":[[0.0,\"#0d0887\"],[0.1111111111111111,\"#46039f\"],[0.2222222222222222,\"#7201a8\"],[0.3333333333333333,\"#9c179e\"],[0.4444444444444444,\"#bd3786\"],[0.5555555555555556,\"#d8576b\"],[0.6666666666666666,\"#ed7953\"],[0.7777777777777778,\"#fb9f3a\"],[0.8888888888888888,\"#fdca26\"],[1.0,\"#f0f921\"]],\"sequentialminus\":[[0.0,\"#0d0887\"],[0.1111111111111111,\"#46039f\"],[0.2222222222222222,\"#7201a8\"],[0.3333333333333333,\"#9c179e\"],[0.4444444444444444,\"#bd3786\"],[0.5555555555555556,\"#d8576b\"],[0.6666666666666666,\"#ed7953\"],[0.7777777777777778,\"#fb9f3a\"],[0.8888888888888888,\"#fdca26\"],[1.0,\"#f0f921\"]]},\"colorway\":[\"#636efa\",\"#EF553B\",\"#00cc96\",\"#ab63fa\",\"#FFA15A\",\"#19d3f3\",\"#FF6692\",\"#B6E880\",\"#FF97FF\",\"#FECB52\"],\"font\":{\"color\":\"#2a3f5f\"},\"geo\":{\"bgcolor\":\"white\",\"lakecolor\":\"white\",\"landcolor\":\"#E5ECF6\",\"showlakes\":true,\"showland\":true,\"subunitcolor\":\"white\"},\"hoverlabel\":{\"align\":\"left\"},\"hovermode\":\"closest\",\"mapbox\":{\"style\":\"light\"},\"paper_bgcolor\":\"white\",\"plot_bgcolor\":\"#E5ECF6\",\"polar\":{\"angularaxis\":{\"gridcolor\":\"white\",\"linecolor\":\"white\",\"ticks\":\"\"},\"bgcolor\":\"#E5ECF6\",\"radialaxis\":{\"gridcolor\":\"white\",\"linecolor\":\"white\",\"ticks\":\"\"}},\"scene\":{\"xaxis\":{\"backgroundcolor\":\"#E5ECF6\",\"gridcolor\":\"white\",\"gridwidth\":2,\"linecolor\":\"white\",\"showbackground\":true,\"ticks\":\"\",\"zerolinecolor\":\"white\"},\"yaxis\":{\"backgroundcolor\":\"#E5ECF6\",\"gridcolor\":\"white\",\"gridwidth\":2,\"linecolor\":\"white\",\"showbackground\":true,\"ticks\":\"\",\"zerolinecolor\":\"white\"},\"zaxis\":{\"backgroundcolor\":\"#E5ECF6\",\"gridcolor\":\"white\",\"gridwidth\":2,\"linecolor\":\"white\",\"showbackground\":true,\"ticks\":\"\",\"zerolinecolor\":\"white\"}},\"shapedefaults\":{\"line\":{\"color\":\"#2a3f5f\"}},\"ternary\":{\"aaxis\":{\"gridcolor\":\"white\",\"linecolor\":\"white\",\"ticks\":\"\"},\"baxis\":{\"gridcolor\":\"white\",\"linecolor\":\"white\",\"ticks\":\"\"},\"bgcolor\":\"#E5ECF6\",\"caxis\":{\"gridcolor\":\"white\",\"linecolor\":\"white\",\"ticks\":\"\"}},\"title\":{\"x\":0.05},\"xaxis\":{\"automargin\":true,\"gridcolor\":\"white\",\"linecolor\":\"white\",\"ticks\":\"\",\"title\":{\"standoff\":15},\"zerolinecolor\":\"white\",\"zerolinewidth\":2},\"yaxis\":{\"automargin\":true,\"gridcolor\":\"white\",\"linecolor\":\"white\",\"ticks\":\"\",\"title\":{\"standoff\":15},\"zerolinecolor\":\"white\",\"zerolinewidth\":2}}},\"xaxis\":{\"anchor\":\"y\",\"domain\":[0.0,1.0],\"title\":{\"text\":\"Age\"}},\"yaxis\":{\"anchor\":\"x\",\"domain\":[0.0,1.0],\"title\":{\"text\":\"count\"}},\"legend\":{\"tracegroupgap\":0},\"margin\":{\"t\":60},\"barmode\":\"relative\"},                        {\"responsive\": true}                    ).then(function(){\n",
              "                            \n",
              "var gd = document.getElementById('28d604f1-6533-497e-83ba-2dfb3b99c38f');\n",
              "var x = new MutationObserver(function (mutations, observer) {{\n",
              "        var display = window.getComputedStyle(gd).display;\n",
              "        if (!display || display === 'none') {{\n",
              "            console.log([gd, 'removed!']);\n",
              "            Plotly.purge(gd);\n",
              "            observer.disconnect();\n",
              "        }}\n",
              "}});\n",
              "\n",
              "// Listen for the removal of the full notebook cells\n",
              "var notebookContainer = gd.closest('#notebook-container');\n",
              "if (notebookContainer) {{\n",
              "    x.observe(notebookContainer, {childList: true});\n",
              "}}\n",
              "\n",
              "// Listen for the clearing of the current output cell\n",
              "var outputEl = gd.closest('.output');\n",
              "if (outputEl) {{\n",
              "    x.observe(outputEl, {childList: true});\n",
              "}}\n",
              "\n",
              "                        })                };                            </script>        </div>\n",
              "</body>\n",
              "</html>"
            ]
          },
          "metadata": {}
        }
      ],
      "source": [
        "fig = px.histogram(df1, x = 'Age')\n",
        "fig.show()"
      ]
    },
    {
      "cell_type": "markdown",
      "source": [
        "Checking the stats in number_columns of the copied dataset"
      ],
      "metadata": {
        "id": "5dIYCZhKB2BH"
      },
      "id": "5dIYCZhKB2BH"
    },
    {
      "cell_type": "code",
      "execution_count": 128,
      "id": "744bbc80",
      "metadata": {
        "execution": {
          "iopub.execute_input": "2022-10-14T19:27:28.018258Z",
          "iopub.status.busy": "2022-10-14T19:27:28.017819Z",
          "iopub.status.idle": "2022-10-14T19:27:29.675280Z",
          "shell.execute_reply": "2022-10-14T19:27:29.674157Z"
        },
        "papermill": {
          "duration": 1.678875,
          "end_time": "2022-10-14T19:27:29.677629",
          "exception": false,
          "start_time": "2022-10-14T19:27:27.998754",
          "status": "completed"
        },
        "tags": [],
        "id": "744bbc80",
        "outputId": "f7447616-a5f3-4a28-f2bb-9530172fbb55",
        "colab": {
          "base_uri": "https://localhost:8080/",
          "height": 1000
        }
      },
      "outputs": [
        {
          "output_type": "execute_result",
          "data": {
            "text/plain": [
              "array([[<matplotlib.axes._subplots.AxesSubplot object at 0x7f521ddc0e10>,\n",
              "        <matplotlib.axes._subplots.AxesSubplot object at 0x7f521ddc5110>,\n",
              "        <matplotlib.axes._subplots.AxesSubplot object at 0x7f521dde1490>],\n",
              "       [<matplotlib.axes._subplots.AxesSubplot object at 0x7f521dd95990>,\n",
              "        <matplotlib.axes._subplots.AxesSubplot object at 0x7f521dd4ee90>,\n",
              "        <matplotlib.axes._subplots.AxesSubplot object at 0x7f521dd0e3d0>],\n",
              "       [<matplotlib.axes._subplots.AxesSubplot object at 0x7f521dcc28d0>,\n",
              "        <matplotlib.axes._subplots.AxesSubplot object at 0x7f521dc7ddd0>,\n",
              "        <matplotlib.axes._subplots.AxesSubplot object at 0x7f521dc9a690>],\n",
              "       [<matplotlib.axes._subplots.AxesSubplot object at 0x7f521dc50c10>,\n",
              "        <matplotlib.axes._subplots.AxesSubplot object at 0x7f521dbadd10>,\n",
              "        <matplotlib.axes._subplots.AxesSubplot object at 0x7f521db6d250>]],\n",
              "      dtype=object)"
            ]
          },
          "metadata": {},
          "execution_count": 128
        },
        {
          "output_type": "display_data",
          "data": {
            "text/plain": [
              "<Figure size 1080x1080 with 12 Axes>"
            ],
            "image/png": "[encoded data removed]"
          },
          "metadata": {
            "needs_background": "light"
          }
        }
      ],
      "source": [
        "df1.hist(figsize=(15,15), xrot=30)"
      ]
    },
    {
      "cell_type": "code",
      "execution_count": 27,
      "id": "f546a1f3",
      "metadata": {
        "execution": {
          "iopub.execute_input": "2022-10-14T19:27:29.717100Z",
          "iopub.status.busy": "2022-10-14T19:27:29.716405Z",
          "iopub.status.idle": "2022-10-14T19:27:29.724510Z",
          "shell.execute_reply": "2022-10-14T19:27:29.723500Z"
        },
        "papermill": {
          "duration": 0.030171,
          "end_time": "2022-10-14T19:27:29.726628",
          "exception": false,
          "start_time": "2022-10-14T19:27:29.696457",
          "status": "completed"
        },
        "tags": [],
        "id": "f546a1f3",
        "outputId": "019e304e-8421-48b7-a5df-d1df604d4eed",
        "colab": {
          "base_uri": "https://localhost:8080/"
        }
      },
      "outputs": [
        {
          "output_type": "execute_result",
          "data": {
            "text/plain": [
              "0       37\n",
              "1       46\n",
              "2       50\n",
              "3       78\n",
              "4       75\n",
              "        ..\n",
              "7036    53\n",
              "7038    20\n",
              "7039    40\n",
              "7040    22\n",
              "7041    21\n",
              "Name: Age, Length: 4835, dtype: int64"
            ]
          },
          "metadata": {},
          "execution_count": 27
        }
      ],
      "source": [
        "df1['Age']\n"
      ]
    },
    {
      "cell_type": "code",
      "source": [
        "import matplotlib.pyplot as plt"
      ],
      "metadata": {
        "id": "A-PiGYpN7k1D"
      },
      "id": "A-PiGYpN7k1D",
      "execution_count": 28,
      "outputs": []
    },
    {
      "cell_type": "markdown",
      "source": [
        "Visualizing the number of customers who churned, stayed or joined in the company with a bar plot"
      ],
      "metadata": {
        "id": "xwtmOiSUCIm6"
      },
      "id": "xwtmOiSUCIm6"
    },
    {
      "cell_type": "code",
      "execution_count": 130,
      "id": "f6289262",
      "metadata": {
        "execution": {
          "iopub.execute_input": "2022-10-14T19:27:29.766263Z",
          "iopub.status.busy": "2022-10-14T19:27:29.765823Z",
          "iopub.status.idle": "2022-10-14T19:27:30.108572Z",
          "shell.execute_reply": "2022-10-14T19:27:30.107364Z"
        },
        "papermill": {
          "duration": 0.365164,
          "end_time": "2022-10-14T19:27:30.110958",
          "exception": false,
          "start_time": "2022-10-14T19:27:29.745794",
          "status": "completed"
        },
        "tags": [],
        "id": "f6289262",
        "outputId": "89a0fd1e-61b0-4f28-d295-3fa8cd67ce3c",
        "colab": {
          "base_uri": "https://localhost:8080/",
          "height": 312
        }
      },
      "outputs": [
        {
          "output_type": "execute_result",
          "data": {
            "text/plain": [
              "<matplotlib.legend.Legend at 0x7f521d718e10>"
            ]
          },
          "metadata": {},
          "execution_count": 130
        },
        {
          "output_type": "display_data",
          "data": {
            "text/plain": [
              "<Figure size 432x288 with 1 Axes>"
            ],
            "image/png": "[encoded data removed]"
          },
          "metadata": {
            "needs_background": "light"
          }
        }
      ],
      "source": [
        "Customer_Stayed=df1[df1['Customer Status']=='Stayed'].Age\n",
        "Customer_Churned=df1[df1['Customer Status']=='Churned'].Age\n",
        "Customer_Joined=df1[df1['Customer Status']=='Joined'].Age\n",
        "\n",
        "plt.xlabel('Age')\n",
        "plt.ylabel('Customers Numbers')\n",
        "plt.hist([Customer_Stayed,Customer_Churned,Customer_Joined], color=['black','red','blue'],label=['Stayed','Churned','Joined'])\n",
        "\n",
        "plt.title('Customers Behavior ',fontweight =\"bold\")\n",
        "plt.legend()"
      ]
    },
    {
      "cell_type": "code",
      "source": [
        "import seaborn as sns"
      ],
      "metadata": {
        "id": "RMY8i4go7p8S"
      },
      "id": "RMY8i4go7p8S",
      "execution_count": 31,
      "outputs": []
    },
    {
      "cell_type": "markdown",
      "source": [
        " ## Defining Correlation between the columns in the dataset"
      ],
      "metadata": {
        "id": "rdsJgJcXCO1f"
      },
      "id": "rdsJgJcXCO1f"
    },
    {
      "cell_type": "code",
      "execution_count": 32,
      "id": "18228f30",
      "metadata": {
        "execution": {
          "iopub.execute_input": "2022-10-14T19:27:30.152363Z",
          "iopub.status.busy": "2022-10-14T19:27:30.151710Z",
          "iopub.status.idle": "2022-10-14T19:27:31.219518Z",
          "shell.execute_reply": "2022-10-14T19:27:31.218365Z"
        },
        "papermill": {
          "duration": 1.091517,
          "end_time": "2022-10-14T19:27:31.222453",
          "exception": false,
          "start_time": "2022-10-14T19:27:30.130936",
          "status": "completed"
        },
        "tags": [],
        "id": "18228f30",
        "outputId": "d413d52b-32ca-4ebf-a200-690baaf40416",
        "colab": {
          "base_uri": "https://localhost:8080/",
          "height": 783
        }
      },
      "outputs": [
        {
          "output_type": "execute_result",
          "data": {
            "text/plain": [
              "<matplotlib.axes._subplots.AxesSubplot at 0x7f522e053110>"
            ]
          },
          "metadata": {},
          "execution_count": 32
        },
        {
          "output_type": "display_data",
          "data": {
            "text/plain": [
              "<Figure size 1440x720 with 2 Axes>"
            ],
            "image/png": "[encoded data removed]"
          },
          "metadata": {
            "needs_background": "light"
          }
        }
      ],
      "source": [
        "data  = df1.corr()\n",
        "plt.figure(figsize = (20,10))\n",
        "sns.heatmap(data, annot = True)"
      ]
    },
    {
      "cell_type": "markdown",
      "source": [
        "Analyzing Outlier in the dataset with respect to customer status"
      ],
      "metadata": {
        "id": "LuiN6TesCzzD"
      },
      "id": "LuiN6TesCzzD"
    },
    {
      "cell_type": "code",
      "execution_count": 34,
      "id": "624a095f",
      "metadata": {
        "execution": {
          "iopub.execute_input": "2022-10-14T19:27:31.265880Z",
          "iopub.status.busy": "2022-10-14T19:27:31.265467Z",
          "iopub.status.idle": "2022-10-14T19:27:33.214810Z",
          "shell.execute_reply": "2022-10-14T19:27:33.213685Z"
        },
        "papermill": {
          "duration": 1.973651,
          "end_time": "2022-10-14T19:27:33.217310",
          "exception": false,
          "start_time": "2022-10-14T19:27:31.243659",
          "status": "completed"
        },
        "tags": [],
        "id": "624a095f",
        "outputId": "c3ce0159-91e7-49d4-b9fc-746f8f9f7007",
        "colab": {
          "base_uri": "https://localhost:8080/",
          "height": 877
        }
      },
      "outputs": [
        {
          "output_type": "display_data",
          "data": {
            "text/plain": [
              "<Figure size 1080x1080 with 12 Axes>"
            ],
            "image/png": "[encoded data removed]"
          },
          "metadata": {
            "needs_background": "light"
          }
        }
      ],
      "source": [
        "fig, ax = plt.subplots(4,3, figsize = (15,15))\n",
        "for i, subplot in zip(number_columns, ax.flatten()):\n",
        "    sns.boxplot(x = 'Customer Status', y = i , data = df1, ax = subplot)"
      ]
    },
    {
      "cell_type": "code",
      "execution_count": 131,
      "id": "f10db61a",
      "metadata": {
        "execution": {
          "iopub.execute_input": "2022-10-14T19:27:33.265008Z",
          "iopub.status.busy": "2022-10-14T19:27:33.264273Z",
          "iopub.status.idle": "2022-10-14T19:27:33.344763Z",
          "shell.execute_reply": "2022-10-14T19:27:33.343896Z"
        },
        "papermill": {
          "duration": 0.107149,
          "end_time": "2022-10-14T19:27:33.346967",
          "exception": false,
          "start_time": "2022-10-14T19:27:33.239818",
          "status": "completed"
        },
        "tags": [],
        "id": "f10db61a",
        "outputId": "1cb2f49d-a6a8-4cb6-9029-edea01fb5005",
        "colab": {
          "base_uri": "https://localhost:8080/",
          "height": 542
        }
      },
      "outputs": [
        {
          "output_type": "display_data",
          "data": {
            "text/html": [
              "<html>\n",
              "<head><meta charset=\"utf-8\" /></head>\n",
              "<body>\n",
              "    <div>            <script src=\"https://cdnjs.cloudflare.com/ajax/libs/mathjax/2.7.5/MathJax.js?config=TeX-AMS-MML_SVG\"></script><script type=\"text/javascript\">if (window.MathJax) {MathJax.Hub.Config({SVG: {font: \"STIX-Web\"}});}</script>                <script type=\"text/javascript\">window.PlotlyConfig = {MathJaxConfig: 'local'};</script>\n",
              "        <script src=\"https://cdn.plot.ly/plotly-2.8.3.min.js\"></script>                <div id=\"4476523e-0cff-4fd7-a469-4a95efd8b79d\" class=\"plotly-graph-div\" style=\"height:525px; width:100%;\"></div>            <script type=\"text/javascript\">                                    window.PLOTLYENV=window.PLOTLYENV || {};                                    if (document.getElementById(\"4476523e-0cff-4fd7-a469-4a95efd8b79d\")) {                    Plotly.newPlot(                        \"4476523e-0cff-4fd7-a469-4a95efd8b79d\",                        [{\"coloraxis\":\"coloraxis\",\"hovertemplate\":\"Age=%{x}<br>Total Charges=%{y}<br>count=%{z}<extra></extra>\",\"name\":\"\",\"x\":[37,46,50,78,75,23,67,52,68,43,25,58,32,58,72,79,26,30,37,23,28,37,60,60,69,20,46,19,64,38,54,50,25,35,72,51,78,30,58,66,20,61,24,55,59,71,49,61,39,24,71,29,62,42,39,55,40,76,57,71,25,19,77,73,41,43,48,56,34,78,54,42,22,71,56,80,73,26,59,78,47,68,30,63,54,52,22,26,58,66,25,73,46,40,53,23,24,45,49,62,25,37,35,19,69,44,19,64,44,58,29,80,22,22,50,53,76,57,45,43,62,49,38,54,57,40,56,38,61,47,35,61,80,63,50,63,58,29,54,25,25,46,28,63,37,74,44,21,62,43,40,48,55,77,41,69,63,43,29,33,70,54,80,46,22,28,58,55,52,56,63,62,24,21,21,56,31,20,31,60,72,42,64,28,76,44,25,58,70,22,22,21,75,59,35,64,62,20,58,44,72,43,34,74,56,40,37,47,34,21,78,47,51,64,59,79,39,32,58,61,19,45,23,62,70,34,47,63,58,74,43,37,58,49,41,61,28,39,78,61,72,78,33,41,74,57,42,39,27,21,56,26,25,70,36,37,68,66,72,34,48,66,59,69,64,26,43,61,45,28,51,26,38,38,32,76,70,19,23,21,76,63,19,41,48,21,32,51,21,41,40,33,35,62,60,32,47,54,28,50,63,49,64,33,30,40,39,28,61,73,69,71,45,58,32,34,35,43,56,21,80,45,47,78,41,20,61,33,73,29,62,40,42,74,24,61,42,65,24,41,64,19,56,45,28,79,56,32,70,77,52,45,68,73,54,29,66,41,35,48,53,43,44,52,50,64,50,39,31,38,43,63,29,56,49,33,19,65,72,27,36,25,24,43,54,31,65,48,54,26,80,48,76,58,48,29,31,33,63,19,38,56,57,27,59,29,32,63,53,51,26,61,68,34,36,30,47,40,70,62,20,32,21,55,72,57,29,47,34,43,46,21,31,29,74,53,29,37,79,66,35,55,70,40,23,22,20,74,33,36,40,44,54,24,46,22,67,21,71,46,23,25,28,40,35,45,23,38,59,46,30,32,42,40,50,31,78,59,72,71,54,73,66,47,63,30,63,39,49,35,79,51,57,77,59,25,37,25,56,63,70,36,49,56,68,38,69,48,63,35,46,33,34,72,47,19,27,62,78,35,34,42,60,52,67,46,67,59,43,38,36,39,64,36,78,41,32,48,53,53,36,39,35,59,55,59,66,61,22,45,42,33,54,25,60,44,35,55,38,39,26,21,54,63,65,70,24,54,56,60,63,54,49,27,30,51,77,51,45,68,26,53,37,25,37,32,74,41,22,66,74,70,64,46,40,30,49,68,33,56,66,60,69,62,55,80,40,70,52,24,69,57,21,66,27,72,40,62,56,30,75,45,73,58,48,49,24,28,33,61,63,59,22,26,30,22,23,56,44,46,25,68,50,80,55,71,62,65,37,31,58,65,21,27,50,70,32,35,71,31,22,29,77,47,45,68,75,64,62,20,54,44,62,40,51,54,39,61,48,33,22,42,31,61,59,39,44,61,35,34,78,31,39,27,37,55,24,55,39,75,76,52,45,49,63,25,51,21,34,57,21,32,36,23,31,25,34,63,34,33,58,58,77,19,53,50,28,40,23,53,22,21,25,53,79,21,59,65,39,55,20,26,64,70,31,66,26,60,36,79,26,76,38,53,64,39,74,27,47,42,76,29,30,54,75,40,42,75,60,19,46,20,77,45,48,40,71,65,75,60,50,64,61,57,32,28,27,60,54,44,36,43,53,44,71,30,44,24,39,53,79,65,53,21,64,67,34,22,79,33,74,47,30,73,42,32,40,74,39,65,59,45,56,30,80,19,70,41,73,31,64,28,80,22,22,59,56,63,31,59,31,27,35,35,23,50,70,59,23,58,28,71,45,80,19,43,20,38,27,48,28,77,35,47,57,26,21,65,71,79,38,38,44,23,55,39,23,69,47,59,53,48,42,36,62,47,31,38,79,43,43,32,20,62,57,57,36,62,61,35,59,65,37,52,46,69,72,68,44,21,73,75,72,67,51,23,51,62,44,78,27,45,32,19,35,23,31,54,45,28,44,49,73,47,25,24,35,63,48,50,51,24,56,51,37,61,32,65,71,75,56,70,50,32,47,41,77,66,49,37,54,48,80,50,78,54,42,31,25,33,60,63,56,70,39,50,19,41,80,49,42,57,52,23,44,66,39,53,47,37,63,49,51,70,21,27,55,42,37,20,25,23,20,65,69,29,22,46,30,68,23,31,27,37,61,22,60,47,38,74,40,52,25,59,24,71,75,58,56,66,23,62,36,35,59,41,38,39,22,34,22,48,30,21,36,29,56,20,44,29,58,57,47,34,22,24,63,33,45,48,75,53,68,21,27,77,46,42,75,44,48,39,38,63,70,69,65,27,42,23,39,25,51,25,76,62,31,67,41,55,70,51,37,20,44,46,36,38,54,52,60,30,79,25,52,35,48,45,22,49,47,28,43,54,54,45,40,78,76,61,61,31,63,41,22,20,74,25,40,67,77,30,48,66,37,41,43,29,79,32,44,43,62,45,79,79,32,19,33,79,76,19,68,67,30,19,65,33,37,72,39,76,20,36,24,74,66,40,41,22,47,26,26,69,51,66,20,76,24,46,60,77,20,30,80,34,26,36,74,26,66,55,38,46,29,70,28,33,51,22,43,26,65,25,61,30,55,57,61,48,36,57,20,32,54,32,46,32,47,24,25,68,54,34,19,55,40,71,71,68,34,61,35,68,22,45,49,70,57,65,45,58,71,39,43,79,58,32,53,35,33,73,26,73,80,76,22,49,60,37,69,36,73,28,32,79,47,34,40,51,40,38,36,48,68,36,28,65,73,30,52,26,45,55,29,79,42,40,22,32,41,74,54,40,60,74,60,65,56,20,52,75,49,60,19,49,30,29,67,48,48,28,45,79,33,21,74,68,51,26,43,64,53,37,46,22,23,30,40,77,39,27,21,78,49,57,29,79,20,62,74,69,50,67,52,74,24,50,49,54,41,64,38,49,75,69,64,68,61,47,50,58,31,26,46,31,36,48,24,61,42,29,29,36,46,76,28,37,64,64,44,22,21,29,76,59,71,41,56,45,47,28,30,64,41,71,69,49,64,60,60,56,41,28,39,34,47,74,61,33,57,75,64,27,52,51,38,46,32,44,68,58,27,58,55,41,74,23,76,69,25,22,73,54,34,58,26,44,25,19,63,32,21,64,57,39,43,34,30,21,51,75,35,64,36,52,41,37,29,49,77,38,78,40,38,30,62,47,55,33,28,44,54,34,63,42,32,73,60,25,51,42,73,34,21,32,75,24,43,19,29,56,25,49,58,32,61,21,52,59,40,71,57,57,61,35,75,25,39,47,57,71,30,51,61,24,43,45,79,44,20,42,57,63,26,59,23,67,47,47,39,51,38,47,74,64,28,26,35,19,66,70,45,77,36,59,52,40,41,43,36,21,51,77,27,77,28,31,74,58,69,75,26,60,72,38,46,79,24,23,34,69,56,75,73,76,32,27,33,69,24,29,64,50,58,70,69,65,61,23,58,31,23,51,70,38,75,65,24,60,47,70,70,41,42,37,55,60,63,50,76,42,26,42,61,44,79,32,53,59,45,64,79,74,76,40,28,59,73,40,22,40,61,80,71,40,57,21,78,45,78,20,57,27,78,47,30,34,64,48,26,60,57,36,70,78,39,59,23,50,34,46,42,60,49,61,36,19,44,46,66,40,32,38,40,35,76,41,55,43,74,21,57,67,27,61,47,25,26,21,22,29,56,76,20,78,21,51,36,52,51,68,42,56,38,65,50,39,40,44,20,59,40,30,60,28,59,44,34,25,51,23,53,25,37,78,19,27,49,73,41,67,68,53,61,32,71,49,28,19,77,25,34,62,25,52,25,54,58,74,60,52,26,60,48,19,76,19,56,43,37,47,57,46,71,27,22,51,34,56,70,59,63,70,28,51,52,28,44,51,76,49,43,62,27,54,36,37,20,45,23,74,25,24,34,80,22,78,29,50,60,57,79,25,63,58,21,78,78,66,77,20,69,23,23,55,73,38,38,77,33,69,68,73,53,21,58,52,31,74,49,52,44,55,59,35,28,61,58,38,23,28,69,28,59,42,58,35,48,24,47,27,60,76,40,77,64,21,56,70,54,32,50,68,41,51,57,52,29,40,56,23,71,66,35,27,40,52,25,72,21,53,69,27,62,48,29,51,33,55,48,33,21,50,43,64,35,37,76,45,67,62,50,75,49,25,74,42,46,47,63,78,30,58,68,74,55,28,80,56,49,59,62,55,24,69,35,25,59,45,33,59,33,20,75,39,35,35,77,74,54,35,49,40,51,22,35,33,56,43,60,32,44,27,25,51,59,45,77,42,53,74,34,74,21,42,51,79,35,70,51,67,56,42,77,54,55,25,60,72,23,74,67,49,23,52,73,28,24,31,32,66,55,63,54,73,46,33,71,45,76,24,49,35,30,30,46,68,62,55,73,36,32,29,21,25,43,80,22,35,72,66,80,41,41,55,71,41,47,42,49,25,45,58,66,70,77,80,44,70,24,22,38,33,56,34,51,36,39,55,67,40,63,54,33,25,56,42,78,59,43,25,46,74,27,64,35,61,57,63,72,42,30,68,62,40,78,57,67,19,48,30,36,47,37,49,49,27,23,29,36,73,61,64,37,64,52,29,41,38,68,58,25,37,49,54,25,67,57,55,48,72,33,73,56,55,52,57,22,70,36,47,46,80,38,73,23,30,44,53,50,41,35,43,65,61,70,57,58,41,73,52,72,54,23,45,20,21,28,25,33,64,65,41,42,75,41,50,67,31,73,76,23,68,30,21,58,32,72,51,21,44,26,48,35,24,60,35,26,35,52,69,30,75,30,37,62,55,43,40,41,28,56,48,40,22,45,57,63,66,25,60,23,65,78,51,63,45,74,68,53,33,33,65,59,60,35,72,37,47,78,20,23,28,20,64,60,36,38,56,41,35,32,69,34,51,52,64,32,44,72,53,44,36,54,56,57,80,41,73,19,54,45,23,24,68,66,49,53,68,42,64,60,58,19,78,73,50,42,80,33,68,39,21,54,35,28,69,23,55,39,51,49,59,28,36,47,68,43,23,34,40,33,19,20,32,19,46,72,42,33,68,32,64,24,75,77,64,27,51,62,54,22,72,51,38,46,21,29,69,25,38,60,75,64,77,23,50,66,28,70,45,30,57,80,43,65,66,59,35,67,65,80,30,77,80,56,33,25,74,49,31,34,77,37,70,22,64,41,33,37,80,80,46,39,76,25,49,70,76,30,56,44,44,80,49,68,23,64,53,23,33,29,51,39,61,47,79,54,62,55,40,57,28,80,30,48,26,37,61,68,41,48,33,52,35,43,30,80,66,40,62,24,27,30,32,20,63,23,28,25,47,74,70,39,20,39,35,23,21,19,57,20,49,35,32,19,68,24,50,41,35,35,47,19,49,63,42,77,61,50,47,55,37,54,25,39,32,36,45,33,28,77,49,30,73,22,22,50,70,40,53,62,64,27,73,22,62,34,34,75,37,44,22,39,51,52,46,68,44,23,35,35,48,65,27,57,51,26,33,37,27,38,23,64,50,26,22,28,38,37,27,48,56,64,49,71,59,30,32,24,75,73,68,52,72,39,43,56,21,66,50,53,56,55,32,64,56,32,41,47,26,22,68,46,40,51,48,40,64,47,33,62,38,27,30,69,36,72,31,78,36,65,54,80,48,19,64,74,78,49,69,35,58,79,71,73,32,44,44,20,74,62,57,31,27,72,20,78,42,21,43,73,50,62,28,25,45,47,33,79,73,67,44,65,45,43,22,43,60,61,51,20,67,37,61,44,43,20,42,26,65,65,24,48,35,26,44,51,39,45,75,69,72,71,50,54,40,26,27,76,58,43,39,21,34,65,65,32,36,42,36,52,53,20,65,69,48,32,53,61,49,64,63,35,74,53,22,49,34,75,31,52,48,56,71,52,53,38,63,67,28,50,42,73,19,34,40,34,39,49,21,42,38,29,38,63,53,57,28,62,26,35,38,54,38,69,36,46,38,70,49,67,78,80,76,47,70,36,52,63,67,33,25,36,46,21,20,41,51,62,60,48,73,48,60,61,23,77,44,56,25,50,46,76,51,51,28,29,69,71,76,34,61,60,45,53,69,45,37,66,65,21,57,72,79,19,30,19,21,59,41,54,41,32,75,29,31,56,31,41,68,28,34,79,61,37,40,36,46,56,29,29,64,22,79,25,23,62,72,58,37,57,55,73,55,57,78,35,45,61,33,52,48,34,41,58,78,47,61,41,57,46,40,74,20,78,45,28,26,73,75,39,39,29,68,38,28,30,56,55,44,63,21,32,37,30,24,19,21,35,72,45,76,51,55,49,34,54,62,30,54,67,27,55,42,23,74,37,25,56,60,27,74,49,71,80,58,40,47,61,32,40,20,37,33,48,46,75,32,51,79,79,54,30,59,53,19,22,44,35,32,19,19,40,53,72,75,67,24,41,27,45,32,21,36,36,59,48,19,58,72,40,20,78,45,27,40,25,42,80,46,68,39,55,34,39,68,57,27,68,47,70,27,32,73,76,33,62,69,39,60,56,68,73,51,47,66,44,59,44,50,33,47,56,78,55,53,44,56,59,27,45,41,42,53,37,49,36,21,33,20,69,71,31,34,71,43,48,46,39,42,27,34,45,49,19,57,77,46,69,19,61,42,55,79,26,32,43,58,34,67,71,22,57,31,54,46,50,71,64,30,67,46,42,32,53,29,58,37,50,40,69,71,42,42,60,43,67,19,61,37,41,64,63,59,27,58,38,77,55,27,22,35,47,68,33,62,20,71,33,21,22,33,20,19,41,48,45,37,28,63,50,32,37,63,42,58,56,67,42,49,49,39,61,45,53,54,37,26,68,28,80,19,32,62,29,48,26,72,53,24,44,40,61,50,38,55,23,67,48,48,42,77,23,38,48,21,35,20,51,33,75,76,44,45,38,54,50,39,20,33,49,30,39,68,63,54,51,21,71,72,31,29,47,50,52,61,57,34,72,20,46,61,67,19,61,22,61,47,63,47,46,57,33,31,47,67,24,68,20,56,78,29,27,38,50,76,75,28,60,31,51,59,68,59,30,73,33,38,66,26,61,80,69,51,19,47,65,22,25,66,79,59,19,46,62,29,63,71,63,39,54,27,20,19,35,49,23,56,23,51,56,50,64,29,26,54,62,42,73,39,47,23,25,59,61,40,76,77,74,19,43,54,27,42,57,46,25,69,55,77,24,53,24,32,34,20,73,59,65,36,36,70,71,46,61,43,46,61,31,60,63,38,79,48,62,42,79,52,64,27,41,73,74,72,48,28,25,20,71,30,33,42,65,34,64,69,50,64,64,30,29,60,21,77,47,31,44,57,63,38,20,20,44,34,74,39,47,53,56,43,70,28,29,47,46,54,47,26,35,38,61,29,72,54,56,73,37,50,45,43,38,66,71,28,25,50,55,27,28,44,22,66,21,59,56,56,57,55,70,34,79,69,23,39,53,47,66,72,32,28,78,26,39,30,62,54,52,63,57,80,25,75,38,39,35,78,30,59,65,26,80,31,75,50,41,29,61,47,20,71,69,23,39,50,66,48,45,50,29,47,68,56,53,34,26,48,29,37,51,33,26,35,40,67,53,78,24,51,41,73,42,45,55,65,77,62,74,71,74,31,36,42,44,56,26,70,41,55,45,47,19,23,34,60,31,69,71,28,66,77,75,63,35,48,22,26,24,25,31,44,59,31,76,73,34,28,37,59,31,34,77,53,38,56,59,62,79,74,28,54,65,69,30,75,63,37,73,32,62,62,43,54,48,68,29,23,42,44,64,55,52,66,26,51,41,52,60,32,22,59,59,33,45,75,76,20,50,25,78,30,49,79,32,19,47,57,78,79,68,53,19,53,63,52,78,63,47,74,60,43,52,30,42,75,48,60,64,31,20,40,76,66,37,46,30,34,60,19,37,32,47,42,29,57,38,19,46,45,73,48,25,42,24,24,48,35,67,52,43,36,80,53,67,24,75,35,49,31,63,26,62,57,70,33,30,53,51,56,27,25,65,21,21,23,29,80,53,29,35,35,78,41,71,23,49,31,49,62,75,38,76,51,51,67,63,37,74,76,35,65,76,33,56,63,64,74,57,21,29,68,74,25,42,21,33,20,72,77,31,31,30,22,45,71,39,79,26,69,68,52,25,33,37,62,48,34,49,27,60,40,40,30,27,54,23,33,52,37,44,38,76,71,49,59,75,73,49,59,39,23,61,39,67,20,53,61,19,19,54,62,27,42,25,60,50,41,63,41,60,71,34,48,62,80,32,69,50,44,63,23,56,32,76,21,36,61,73,71,51,49,34,44,33,46,25,39,77,49,59,31,43,64,76,25,42,21,20,31,30,57,75,61,23,47,49,59,21,60,41,54,59,50,33,61,63,51,72,39,47,57,80,20,47,39,32,30,39,58,37,32,53,64,71,74,77,51,49,31,77,79,37,34,52,22,33,43,54,44,68,32,33,25,39,52,43,41,69,27,59,38,27,27,19,37,32,79,46,60,71,33,25,22,36,30,69,33,68,61,34,38,19,34,33,23,25,22,20,28,76,78,68,63,47,35,58,32,40,69,68,75,51,45,44,45,23,46,28,42,34,29,26,24,41,65,19,61,21,44,29,26,63,62,20,19,37,26,40,20,29,39,20,62,79,56,56,51,73,43,75,65,53,70,73,77,62,50,70,72,66,72,32,27,19,60,29,47,73,23,50,67,22,72,69,57,76,73,35,70,74,27,44,80,68,39,63,39,71,59,20,52,21,58,40,75,39,46,57,63,61,74,49,26,39,61,73,22,58,20,65,74,33,42,39,36,61,28,77,46,25,34,43,49,66,26,55,30,55,73,74,48,30,48,27,56,50,41,47,33,50,80,62,43,53,55,47,55,39,22,47,20,33,45,42,27,21,30,27,60,78,35,75,30,44,36,44,58,22,73,66,79,51,74,53,70,44,46,35,55,47,45,30,57,70,39,33,69,55,64,33,73,33,24,55,54,48,56,80,39,76,56,68,64,71,23,34,57,77,25,46,75,51,32,22,68,72,43,34,60,58,41,37,53,26,60,55,22,45,80,49,64,40,19,49,41,75,34,42,79,48,47,37,75,44,76,55,56,62,58,62,72,24,62,41,56,57,32,32,62,32,61,40,80,36,56,30,71,30,67,76,66,62,47,63,69,61,50,74,42,21,22,36,51,62,21,41,79,34,20,24,49,37,23,51,77,40,65,78,64,60,24,47,40,46,31,50,54,41,77,59,53,33,29,64,75,56,80,79,40,51,32,79,35,39,71,26,52,68,34,26,39,25,65,20,43,59,68,30,47,68,25,37,38,54,42,33,23,48,27,42,75,30,35,79,34,26,49,66,32,78,72,58,40,26,67,25,44,44,24,39,63,69,21,26,45,26,20,21,34,27,55,69,29,62,80,56,70,61,73,55,80,41,21,44,20,40,76,77,65,36,28,53,50,62,34,22,46,58,23,56,62,65,44,25,66,47,62,53,36,65,39,43,51,53,30,24,21,28,35,65,54,56,55,59,53,25,42,58,57,53,49,33,51,51,27,45,78,47,30,42,57,44,68,65,45,61,39,40,55,22,32,27,72,62,29,66,72,21,33,46,40,40,42,56,41,22,42,49,61,45,35,20,25,37,75,29,38,67,61,63,23,29,58,54,79,46,63,25,63,54,78,68,70,63,53,63,58,42,73,42,22,68,21,57,62,59,48,66,26,23,68,35,25,53,39,48,69,77,37,67,24,21,25,20,51,66,50,56,23,51,70,30,54,64,61,39,40,58,29,35,60,36,21,46,65,27,22,19,26,36,69,22,60,39,36,65,40,75,51,41,33,54,35,38,41,29,57,50,20,41,34,23,75,21,62,42,35,47,45,27,69,65,34,25,38,42,70,42,57,51,56,67,80,49,30,64,23,65,68,19,25,36,74,20,20,23,73,50,38,23,19,64,58,23,76,60,67,77,23,76,51,36,66,24,74,47,33,26,76,56,31,44,52,46,29,74,55,44,29,54,34,23,68,57,62,50,28,38,37,56,70,59,50,22,63,74,60,63,71,51,76,49,37,50,53,19,47,70,77,38,42,64,41,52,25,80,52,42,63,39,47,55,47,62,30,21,34,33,43,26,39,40,53,39,33,21,52,22,24,60,62,56,51,41,69,35,25,50,28,48,35,69,44,35,35,64,78,52,41,76,79,55,36,22,54,42,73,45,52,63,53,53,30,79,52,58,48,39,80,33,49,20,60,63,42,30,32,25,67,50,32,26,31,57,30,50,30,57,40,58,64,40,39,38,60,47,52,30,29,24,48,53,61,38,47,43,39,33,48,72,69,69,50,56,29,31,38,52,51,37,33,28,53,33,64,20,29,49,27,49,48,64,44,57,26,71,26,71,38,48,23,55,42,75,54,67,35,42,20,23,26,56,76,59,63,22,80,51,77,60,25,20,28,51,20,36,47,44,26,20,49,27,27,47,58,37,60,58,50,51,37,22,54,37,59,63,54,52,43,77,69,69,53,46,55,59,60,35,49,62,38,45,53,41,26,67,52,79,59,52,27,50,56,65,50,75,43,43,48,61,63,20,55,58,69,37,60,50,62,66,39,45,43,65,71,53,52,55,53,21,20,19,60,73,58,22,59,38,51,29,62,65,66,31,55,27,37,65,42,66,60,32,73,63,28,79,60,38,55,33,44,60,45,53,55,48,59,58,38,41,58,53,75,51,55,65,44,75,26,61,79,73,20,70,55,77,31,72,20,53,20,40,22,21],\"xaxis\":\"x\",\"xbingroup\":\"x\",\"y\":[593.3,542.4,280.85,1237.85,267.4,571.45,7904.25,5377.8,340.35,5957.9,8456.75,351.5,7261.25,6849.4,72.1,2791.5,1215.6,1849.95,5656.75,3247.55,7942.15,4959.6,5597.65,1929.0,91.1,2078.95,1611.0,6316.2,727.85,3532.0,44.3,2607.6,5567.55,3767.4,3673.6,4036.85,1120.3,314.55,1888.45,7308.95,6252.7,2878.55,1212.1,8182.85,99.75,2861.45,1442.2,4059.35,3645.5,2317.1,2193.65,511.25,5526.75,1553.95,6747.35,5976.9,181.65,3268.05,1052.4,7634.25,80.2,190.5,2401.05,3949.15,2362.1,70.9,1152.7,8496.7,1564.4,3694.7,4017.45,6825.65,8309.55,605.45,1972.35,2111.3,6205.5,855.3,633.85,474.9,5848.6,6471.85,8127.6,6049.5,1582.75,2438.6,7113.75,371.9,167.3,273.4,223.15,89.3,235.05,1144.6,4908.25,75.9,4765.0,85.55,1444.65,5405.8,6339.3,3847.6,6733.0,50.1,6140.85,3870.3,7624.2,4354.45,3431.75,2227.1,2045.55,1929.35,268.45,181.5,651.4,3486.65,2303.35,1522.7,6717.9,8058.55,5102.35,475.1,5036.3,1510.3,1982.6,4524.05,95.45,318.1,1231.85,842.9,2531.8,453.4,7382.85,6010.05,6046.1,314.6,2274.35,322.9,888.75,80.55,168.6,5424.25,2331.3,89.5,48.55,6851.65,740.3,6982.5,3835.55,70.1,315.3,6157.6,330.15,233.7,3462.1,5360.75,4443.45,577.6,4854.3,5885.4,2911.3,521.9,5706.3,3067.2,3432.9,6263.8,1742.5,1468.75,3382.3,1992.2,50.15,122.7,3366.05,1943.2,1271.8,7965.95,1460.65,272.2,3563.8,5398.6,3343.15,5897.4,1398.6,139.4,70.45,7589.8,1284.2,3474.2,5574.75,7542.25,3545.35,229.55,5373.1,5742.9,6526.65,2674.15,170.5,3175.85,44.4,4297.95,4036.0,4428.45,4947.55,447.9,1850.65,749.25,2598.95,237.65,4707.1,5714.2,1294.6,3753.2,3263.9,2139.1,5042.75,6431.05,2404.85,2651.1,5538.35,200.2,5435.0,1900.25,503.25,2807.1,6312.9,3001.2,3365.85,2715.3,1743.05,4735.35,2010.95,5238.9,3721.9,5943.65,69.5,1119.35,1558.7,79.7,343.95,1712.9,2467.75,349.65,135.75,71.1,6029.0,2278.75,70.45,2799.0,5755.8,308.25,70.75,3626.1,2624.25,1146.65,7882.5,4378.9,4052.4,4874.7,4140.1,8165.1,4191.45,1857.75,113.1,3974.7,931.55,4048.95,957.1,5430.65,829.1,1916.2,5356.45,6590.8,438.9,653.9,4630.2,5867.0,2510.2,1374.9,1845.9,3930.55,317.75,2072.75,1837.9,3168.75,365.55,5960.5,6283.3,1540.35,3894.4,837.5,4542.35,3600.65,1820.45,3678.3,2068.55,8071.05,1028.9,5029.05,402.6,6069.25,48.45,1544.05,2169.8,2921.75,162.45,1095.3,1555.65,6886.25,214.4,3825.85,293.85,1359.45,2157.95,4263.45,713.0,1323.7,2985.25,3942.45,1292.2,7285.7,2874.45,3435.6,6687.85,2970.8,54.65,4479.2,8543.25,5682.25,69.25,4025.6,1504.05,1818.9,95.0,154.85,4653.85,4433.3,1060.6,4874.8,5000.2,4335.2,1312.45,338.9,4613.95,576.95,364.55,5212.65,902.25,2157.5,622.9,5625.55,713.75,715.0,321.75,74.45,3704.15,3348.1,5509.3,6743.55,741.7,6287.3,2679.7,1400.55,225.65,7422.1,179.35,82.3,3562.5,6224.8,5327.25,7534.65,4738.3,197.7,3409.1,4798.4,1882.55,262.05,723.35,918.6,7238.6,319.85,7332.4,6668.05,639.45,154.65,1832.4,3877.65,70.85,4323.35,4135.0,75.5,2122.05,1077.05,2310.2,4442.75,1871.15,7984.15,5958.85,4138.9,564.65,2168.9,4517.25,1461.15,955.15,4483.95,7581.5,414.1,7039.45,7222.75,2088.75,392.65,1592.35,6605.55,2067.0,259.8,1359.0,4096.9,1111.2,723.4,865.55,425.9,5639.05,4922.4,385.9,4237.5,2754.45,45.7,4872.2,5278.15,1509.8,1056.95,5673.7,3527.3,5794.45,8349.45,7987.6,4860.85,4713.4,4226.7,1346.3,7689.95,1799.3,247.25,5294.6,242.0,544.55,1011.8,160.85,5538.8,2606.35,5299.65,718.1,3527.6,788.8,2369.3,4122.9,4107.25,5812.6,526.7,1463.5,1230.25,5060.9,497.3,4298.45,6700.05,5290.45,3183.4,70.8,89.55,5011.15,2312.55,7007.6,1285.8,1758.9,5824.75,140.4,874.8,3975.9,953.65,344.2,5264.3,492.55,6690.75,572.85,6703.5,5116.6,4317.35,3342.0,825.7,1815.65,5886.85,2917.65,70.85,5333.35,6479.4,4663.4,2868.05,1266.35,7993.3,1493.55,7726.35,7035.6,5953.0,69.9,6480.9,85.05,5935.1,1587.55,472.65,4421.95,69.75,69.1,4261.2,5040.2,601.25,7611.55,7234.8,5515.45,1313.55,4504.55,5971.25,4859.25,2455.05,711.15,1802.15,2998.0,6780.1,1424.95,1348.9,3092.65,3801.7,834.15,3471.1,70.65,3804.4,2106.05,6145.2,1389.85,7266.95,4164.4,2198.9,4475.9,169.8,5811.8,7156.2,2708.2,74.95,7932.5,3023.55,7337.55,5168.1,1672.35,5869.4,3686.05,2423.4,990.3,2509.25,3491.55,1347.15,857.2,5597.65,3233.6,2462.55,1135.7,520.0,294.45,695.75,690.5,415.95,4513.65,1067.15,939.8,244.85,267.35,5450.7,4964.7,1901.05,4304.0,663.55,3846.75,1218.25,114.7,6637.9,5341.8,1570.7,7396.15,209.9,1266.1,2169.4,114.1,303.7,3186.65,2857.6,195.3,655.9,5283.95,5662.25,3958.2,6581.9,5129.3,4758.8,1375.15,2200.7,372.45,79.9,7962.2,7379.8,6152.4,1648.45,3842.6,564.4,149.55,6841.3,2187.15,3344.1,2249.95,4079.55,913.3,959.9,7767.25,220.6,5832.0,5149.5,757.1,6944.5,5762.95,7323.15,3119.9,2839.95,834.1,6603.0,5731.85,1029.35,6654.1,8220.4,1957.1,1374.35,688.5,349.8,483.3,4858.7,683.25,5437.1,7344.45,70.3,4408.45,2283.3,740.8,424.45,1536.75,1430.05,1248.9,289.1,1588.75,818.45,95.85,3670.5,1565.7,712.25,334.65,5969.85,1087.45,49.9,6077.75,515.75,5706.2,89.3,3181.8,2619.15,5669.5,824.75,5731.4,2603.1,653.15,7031.3,7968.85,69.15,5464.65,6225.4,80.0,1058.25,4092.85,1949.4,7548.6,75.1,2066.0,49.9,89.1,4627.8,1037.75,208.45,581.7,1068.85,6936.85,4520.15,49.95,3512.5,3972.25,490.55,43.8,8404.9,2815.25,2659.4,2936.25,4631.7,8477.7,5445.95,4616.1,5186.0,81.0,6145.85,3371.0,912.0,1095.65,1462.6,703.55,608.8,4189.7,4990.25,2961.4,49.9,1096.65,62.05,6066.55,1927.3,4977.2,6994.6,224.85,6375.2,3205.6,2585.95,3211.9,7723.9,4895.1,226.2,1127.2,333.55,773.65,6333.4,6392.85,412.1,1132.75,5598.0,220.65,7511.9,593.45,1637.3,60.1,1384.75,900.5,6822.15,141.5,4839.15,4242.35,2636.05,531.15,160.8,2497.2,4983.05,524.35,338.1,4200.25,45.15,143.35,3834.4,502.6,832.05,5685.8,1899.65,85.0,709.5,202.15,70.25,3217.65,6424.7,3124.5,7002.95,1752.55,450.9,5348.65,49.65,3629.2,3810.55,1291.35,1208.35,5336.35,244.65,7930.55,1652.1,3756.4,492.0,2564.3,893.0,6856.95,3970.4,1286.05,6521.9,727.8,3638.25,3169.55,1108.0,751.65,4126.35,4614.55,2553.7,4273.45,477.7,6110.2,82.7,6081.4,1815.3,2665.0,362.2,5121.75,3309.25,6567.9,75.35,449.75,4564.9,3561.15,1938.9,79.55,147.75,2516.2,411.75,3062.45,1247.75,2745.2,6562.9,8333.95,5498.8,2289.9,125.95,1496.9,48.6,867.1,654.5,221.7,4911.05,2000.2,5737.6,2383.6,69.55,1653.85,6078.75,5411.65,4882.8,74.2,2610.65,1416.2,7852.4,5071.05,1961.6,50.15,70.15,355.1,487.75,1427.55,70.0,2939.8,2680.15,74.6,4187.75,834.2,4526.85,866.45,242.8,617.85,6143.15,7099.0,1951.0,1907.85,43.95,5817.45,2224.5,5082.8,2001.5,1558.65,688.65,579.0,2937.65,70.5,1111.65,333.65,2877.05,582.5,61.15,6683.4,5305.05,3270.25,4952.95,7279.35,7015.9,90.1,44.0,5032.25,6441.85,2090.25,1441.95,4016.3,1021.55,45.3,1101.85,1448.6,6468.6,3808.2,46.0,73.0,256.25,164.5,7674.55,964.9,1893.95,3545.05,6474.45,6332.75,6333.8,4903.2,6710.5,81.95,1131.2,84.3,4674.4,970.45,81.05,6296.75,74.6,1301.7,523.15,1601.5,2203.1,1253.9,6871.7,2496.7,168.2,3624.3,3036.75,4946.05,308.1,1801.1,1477.65,5324.5,2548.65,4847.35,8100.55,370.25,55.7,4847.05,5329.55,204.7,2838.55,7322.5,6827.5,1808.7,324.6,2080.1,6953.4,503.6,1835.3,185.55,1556.85,232.55,4911.35,533.05,418.4,4133.95,151.75,318.6,45.6,2698.35,1588.25,1178.75,6148.45,5730.15,2217.15,350.3,4144.9,50.75,3008.15,3121.1,1405.3,151.3,1129.1,1767.35,8312.4,1380.4,609.65,4194.85,5917.55,3688.6,420.45,45.65,1682.4,261.25,5431.9,1422.05,2635.0,3754.6,1111.85,1505.15,989.45,3566.7,4822.85,6786.1,7521.95,6293.45,4681.75,1490.4,1062.1,119.5,1718.95,1043.4,1885.15,1742.75,1269.55,3126.85,6921.7,3349.1,8033.1,6388.65,1011.05,4045.65,5330.2,84.85,2003.6,1928.7,5125.75,546.95,50.8,354.05,3371.75,2070.05,5581.05,5560.0,791.7,438.4,8297.5,6579.05,6110.75,1956.4,1233.25,55.2,5753.25,7362.9,5401.9,239.55,3692.85,3145.15,6017.65,3141.7,2603.3,2471.6,2239.65,5135.35,5810.9,767.9,6363.45,4461.85,79.15,4953.25,979.5,115.95,70.1,347.65,7789.6,4914.9,5438.95,4060.55,6840.95,1096.25,571.05,7751.7,49.05,45.4,270.7,7213.75,6017.9,179.85,5088.4,1734.5,4920.8,5985.0,4300.45,1940.8,4386.2,5438.9,5784.3,2065.4,7108.2,1430.25,3058.65,2024.1,7321.05,6692.65,233.65,3416.85,3913.3,4299.75,2832.75,890.6,4014.6,2722.2,3254.35,2890.65,3848.0,1861.5,4134.85,6812.95,3231.05,3050.15,4981.15,2044.75,7939.25,541.9,2248.05,5720.95,81.25,546.45,3180.5,6578.55,5607.75,523.5,4422.95,8349.7,6413.65,53.5,5817.7,8317.95,3442.15,219.65,583.45,916.75,6310.9,3019.1,4534.9,4657.95,2924.05,6448.05,7719.5,74.7,3465.7,2391.8,1633.0,1127.35,5948.7,4009.2,560.6,70.3,1074.65,651.55,4250.1,6841.05,3545.1,3886.05,1060.2,2613.4,733.95,775.3,452.7,74.3,7943.45,531.0,4086.3,1642.75,2852.4,2215.25,3273.55,5458.8,169.65,740.0,1886.4,2484.0,2989.6,2316.85,7882.25,760.05,1975.85,567.45,69.55,1451.1,2614.1,79.5,158.4,3126.45,3777.15,6339.45,1466.1,7085.5,6572.85,2106.3,2093.4,1233.4,6585.35,5873.75,5638.3,2763.35,186.05,3865.45,3053.0,4535.85,6744.25,237.95,3762.0,4370.75,506.9,2661.1,4378.35,3874.1,3801.3,70.45,4915.15,7782.85,641.25,3143.65,1901.65,540.95,49.0,266.9,77.15,4818.8,1164.3,340.85,7713.55,2447.45,70.15,7069.3,225.6,7511.3,6871.9,3229.65,69.6,5289.05,130.15,2180.55,746.5,669.0,4929.55,5760.65,1145.7,420.2,2169.75,929.45,7482.1,898.35,4543.95,7559.55,2510.7,4834.0,3190.65,455.3,44.75,3340.55,6139.5,324.2,6951.15,5780.7,2807.65,335.65,3199.0,469.25,2467.1,2758.15,2368.4,718.55,758.6,7118.9,2948.6,958.25,5448.6,926.25,3540.65,1939.35,524.5,213.35,3551.65,181.6,1625.65,273.25,181.7,49.55,6903.1,2560.1,90.75,5986.55,3608.0,184.1,1470.05,50.15,2364.0,6137.0,4730.6,4805.65,908.55,930.4,714.15,3251.3,165.4,7567.2,1258.3,619.0,78.05,601.6,5222.35,6997.3,253.8,6028.95,83.4,4896.35,7616.0,341.6,4222.95,238.1,1348.5,5608.4,5376.4,3334.9,762.25,2130.55,331.9,1679.4,5025.85,3314.15,3775.85,865.85,6449.15,199.75,3988.5,45.05,7532.15,4348.65,2231.05,3161.4,80.35,1218.25,4259.3,1258.6,4378.8,1439.35,2471.25,59.55,68.65,3856.75,5016.25,937.5,1727.5,5308.7,346.2,80.5,5733.4,79.25,155.8,4016.85,3303.05,3634.8,1215.65,7550.3,140.1,5388.15,5913.95,2416.55,6194.1,6873.75,1841.9,8684.8,4786.1,3132.75,146.65,6770.5,44.55,6052.25,154.8,3358.65,1406.65,1651.95,333.6,69.95,3147.15,5514.95,2038.7,6501.35,5566.4,4312.5,777.3,5508.35,1994.3,788.35,4469.1,5483.9,5153.5,3593.8,1166.7,50.6,332.45,424.15,4254.1,1400.85,1772.25,4959.15,518.9,781.4,307.4,2107.15,98.5,1060.2,3870.0,477.05,995.35,5468.95,3301.05,5965.95,1253.5,1607.2,74.45,1078.9,145.4,293.15,321.9,7732.65,2341.55,3015.75,5991.05,6470.1,220.45,7430.75,573.3,6632.75,5883.85,4062.2,1524.85,3351.55,2964.8,1993.25,2395.7,5617.75,5676.65,193.8,6125.4,2263.4,858.6,3478.15,7530.8,2745.7,2658.8,89.9,572.45,431.0,2522.4,196.9,953.45,85.8,292.85,4620.4,4003.85,3503.5,1924.1,4213.35,944.65,4539.35,55.4,69.95,3848.8,88.8,5941.05,545.15,5815.15,248.4,357.75,1759.4,6474.4,43.95,6595.0,929.3,6876.05,134.6,5918.8,1387.0,1691.9,947.3,2867.75,6018.65,7082.85,910.45,91.1,156.35,1296.8,5453.4,627.4,5899.85,274.35,4639.45,2583.75,4018.55,188.1,6991.6,6218.45,253.0,1175.6,489.45,5124.6,1222.8,270.8,6669.45,6425.65,4137.2,174.8,3097.0,3928.3,5409.75,4779.45,347.4,45.85,5175.3,3741.85,6236.75,501.2,3009.5,3782.4,71.35,100.25,1339.8,6844.5,91.7,5069.65,239.45,2909.95,7611.85,4116.15,2088.05,2007.25,6631.85,264.85,7511.65,576.7,4677.1,1507.0,5427.05,3017.65,2538.2,2031.95,1214.05,5860.7,742.95,6352.4,1269.6,261.65,2254.2,5898.6,5963.95,2727.3,3533.6,7061.65,1425.45,132.4,609.9,7746.7,70.25,851.75,330.05,5244.45,1775.8,747.2,276.5,7845.8,8337.45,7723.7,4438.2,4890.5,5893.9,3759.05,401.5,75.05,74.2,2093.9,2633.3,1183.05,154.3,76.4,1912.15,5696.6,3145.9,2414.55,5084.65,1130.85,4747.5,1122.4,266.8,3474.05,573.75,1273.3,2085.45,7288.4,2847.4,6314.35,3587.25,49.95,3655.45,1173.55,7133.1,1992.85,393.45,2211.8,2602.9,5890.0,889.0,6341.45,4108.15,447.75,7405.5,1329.15,2509.95,257.6,1281.0,1132.35,5487.0,273.0,5135.15,462.8,829.55,2058.5,6302.8,2387.75,8250.0,2548.55,1094.5,6448.85,1474.75,3121.45,3046.4,3043.6,1381.8,4116.9,7661.8,4295.35,2497.2,239.05,45.25,2237.55,5969.95,134.35,6786.4,151.75,371.6,145.15,71.0,1426.45,6287.25,765.5,1620.8,5231.2,69.35,5550.1,547.65,5023.0,227.35,2065.15,3865.6,1760.25,3720.35,435.0,552.65,1071.4,2349.8,1083.7,676.15,985.05,4868.4,1534.75,3439.0,1546.3,5743.3,5222.3,606.55,134.05,3282.75,70.05,294.2,4859.95,1426.75,3398.9,7985.9,6239.05,1732.6,2292.75,4759.75,7920.7,55.3,256.6,8126.65,1167.8,2345.2,2324.7,1498.2,4209.95,4741.45,2661.1,4266.4,3252.0,1270.2,4600.95,5959.3,4889.2,2757.85,74.4,6597.25,3496.3,4375.8,2952.85,45.55,505.95,5576.3,1938.05,6652.45,5013.0,2077.95,5430.35,6941.2,3958.85,55.05,7966.9,435.4,55.0,1373.05,5720.35,778.1,4368.95,1064.95,3554.6,348.15,3110.1,2595.25,7349.35,583.0,3316.1,1364.3,6741.15,7082.5,87.3,1369.8,672.55,75.3,504.05,1752.45,1445.95,592.65,5882.75,3505.1,1297.8,559.2,2806.9,6993.65,644.35,1334.45,1914.9,6201.95,5321.25,7895.15,165.2,5839.3,54.9,4698.05,1457.25,108.15,46.2,8078.1,319.15,3021.6,914.0,7049.5,288.05,6219.6,1067.05,5621.85,4179.1,516.15,1261.35,1424.4,190.05,6875.35,74.25,2781.85,2184.6,3229.4,3906.7,2976.95,69.1,6067.4,49.3,3479.05,129.2,4307.1,137.95,88.35,1291.3,8175.9,2021.2,460.25,7246.15,1114.55,5251.75,1232.9,2483.65,1222.05,2048.8,4119.4,1852.85,74.6,116.65,1390.6,92.65,1167.8,6674.65,3520.75,6152.3,7082.45,6890.0,74.7,7508.55,5746.15,1781.35,6506.15,2747.2,564.35,7677.4,5688.05,1290.0,1474.9,8152.3,4707.85,4234.15,893.2,85.1,529.5,795.15,89.15,5017.9,5276.1,927.15,8308.9,673.25,2404.15,7854.9,602.55,7133.25,6766.95,2917.5,1321.3,4692.55,1640.0,299.75,1710.45,4228.55,191.05,696.35,3735.45,3162.65,7848.5,5785.65,146.9,5893.15,7869.05,69.1,767.55,655.5,59.85,71.25,6758.45,1144.5,8109.8,5776.45,799.0,59.2,8289.2,693.3,4385.05,1218.55,4676.7,336.15,497.55,5165.7,770.5,4374.55,256.75,1265.65,3444.85,45.1,2029.05,4867.95,443.9,4747.85,2186.4,5997.1,1834.95,480.6,4563.0,50.9,452.8,4447.55,1210.4,3509.4,3944.5,1641.3,1643.55,2244.95,4543.15,3152.5,44.05,8013.55,202.9,6719.9,838.7,3791.6,2804.45,5688.45,2203.65,661.55,91.3,3473.4,669.45,111.4,560.85,2862.55,5511.65,2028.8,1093.2,1910.75,5309.5,5219.65,2369.05,5893.95,1411.35,3766.2,926.25,1490.95,521.1,2809.05,3004.15,6849.75,152.3,220.4,3436.1,2398.4,7291.75,6375.8,7576.7,4828.05,522.95,639.7,141.7,5364.8,49.5,2406.1,5025.8,1815.0,54.75,4619.55,733.5,3243.45,6463.15,1129.75,2181.75,981.45,563.65,3591.25,2042.05,224.05,5743.05,212.4,3682.45,1973.75,3470.8,5683.6,4322.85,74.4,1315.35,3182.95,1442.0,69.55,863.1,3815.4,2054.4,574.35,639.65,3836.3,7623.2,801.3,854.45,2104.55,4747.2,7039.05,244.75,399.25,1785.65,4154.55,174.75,4304.5,4085.75,220.95,4338.6,416.3,729.95,44.6,1169.35,6253.0,2728.6,6118.95,5986.45,1862.9,2435.15,273.75,5764.7,2511.95,4424.2,5925.75,4124.65,1295.4,528.35,6713.2,498.1,45.1,3273.95,5580.8,6989.7,55.8,85.15,317.25,6751.35,1336.8,107.1,520.95,5163.0,368.1,469.8,174.45,465.05,45.85,4904.85,3452.55,2365.15,1463.45,389.1,5774.55,7176.55,286.8,89.35,6000.1,74.35,679.3,1923.85,445.85,8035.95,706.6,1471.75,547.8,587.1,4113.1,251.75,521.35,5980.55,5071.9,4084.35,1539.8,784.45,1189.4,7843.55,3822.45,5029.2,1120.95,846.8,50.75,370.4,5293.95,7195.35,300.4,551.3,1660.0,2209.15,2203.7,1818.3,1125.2,142.35,3023.65,533.6,54.35,5718.2,55.0,1336.15,4968.0,5293.4,1395.05,4527.45,44.4,5038.45,503.6,4284.65,1259.0,44.75,3899.05,8468.2,3023.85,7173.15,2879.9,1511.2,2549.1,7544.0,2142.8,2470.1,7842.3,4510.8,408.5,155.65,4667.0,1863.8,2135.5,74.5,943.85,750.1,6856.45,1655.35,5629.15,2200.25,196.75,1237.3,554.05,74.9,4680.05,470.95,940.35,2421.6,918.75,6281.45,157.75,4453.3,278.4,6383.9,962.9,5629.55,1358.6,1259.35,235.2,3588.4,4993.4,7610.1,3886.45,600.15,135.2,291.45,196.15,5624.85,6423.0,2568.55,992.7,1414.2,69.7,3255.35,815.5,2136.9,434.1,2424.45,69.8,2250.65,153.05,5676.0,1350.15,1594.75,731.3,3375.9,6039.9,5826.65,645.8,2191.15,146.05,5000.05,999.8,84.4,345.5,1129.35,3157.0,830.7,1194.3,474.8,3042.25,69.65,7101.5,6164.7,4547.25,1574.45,1185.0,4070.95,2813.05,5118.95,500.1,483.7,4454.25,3342.45,405.7,846.0,1193.05,3482.85,2499.3,246.3,1540.05,325.45,246.5,545.2,2440.15,2514.5,69.85,2178.6,369.15,1671.6,5510.65,81.1,2762.75,7245.9,1859.5,3027.65,635.6,3950.85,7467.55,3030.6,147.15,1156.1,3419.5,788.6,3000.25,3283.05,502.85,734.35,1201.65,580.1,1745.5,285.2,3958.25,1284.2,6430.9,5315.8,3915.4,2110.15,1789.25,1500.5,118.3,4456.35,7758.9,96.45,4861.45,832.3,2724.25,6457.15,5265.5,52.2,580.8,3250.45,6912.7,4939.25,6858.9,1992.55,770.6,3930.6,1742.45,990.85,179.25,1549.75,6367.2,1715.65,70.1,1554.0,906.85,45.2,5614.45,316.9,195.05,4634.35,2172.05,4024.2,6614.9,3862.55,6094.25,4445.3,3454.6,55.55,2515.3,5016.65,5034.05,194.55,5812.0,1902.0,302.35,50.1,360.1,5480.25,6816.95,4693.2,70.4,4107.3,281.0,663.05,2570.2,144.8,6705.7,5831.2,5275.8,5961.1,371.65,2586.0,60.0,5037.55,3734.25,7714.65,68.95,324.3,2215.45,2723.15,743.75,7537.5,93.7,1676.95,5236.4,818.05,2983.8,2265.25,1520.9,2901.8,7346.2,1058.6,819.4,2043.45,1820.9,2495.15,2971.7,86.05,6042.7,7210.85,1023.85,1267.95,4399.5,8046.85,2649.15,6792.45,5588.8,1971.15,6643.5,5841.35,86.0,2868.15,44.9,567.8,4054.2,3355.65,413.25,7250.15,196.4,130.5,44.1,956.65,7862.25,4557.5,69.65,3665.55,2238.5,4264.25,3875.4,2347.9,5779.6,713.6,4576.3,5714.2,2862.75,1964.6,3770.0,4287.2,7898.45,661.25,94.6,2697.4,84.6,5794.65,4858.7,5044.8,188.7,453.75,220.1,1905.7,1679.65,939.7,1498.55,171.45,53.55,969.85,181.65,923.85,6241.35,1611.65,4392.5,1646.45,3410.0,2659.45,355.2,381.3,1010.0,195.65,340.25,3496.3,80.55,2724.6,5969.3,2308.6,3687.85,207.4,5138.1,75.35,6503.2,3983.6,2281.6,1054.8,3096.9,4733.1,5956.85,1647.0,5551.15,4391.45,1968.1,4902.8,1923.5,3645.6,4350.1,647.5,2272.8,451.1,270.95,5686.4,140.7,70.7,3187.65,866.4,5914.4,8182.75,75.55,477.55,50.15,1908.35,323.25,75.35,7009.5,6914.95,4532.3,2570.2,1864.65,1355.45,3838.2,7076.35,217.1,4042.2,6889.8,4149.45,45.3,685.55,920.5,6144.55,6034.85,168.5,1381.2,242.95,3112.05,4687.9,45.95,791.75,2357.75,6342.7,5083.55,3440.25,141.65,3876.2,244.1,3512.15,3574.5,2686.05,2655.25,4284.2,4494.65,45.8,69.8,8331.95,3221.25,4869.5,3467.0,2168.15,1008.55,6557.75,870.25,3653.0,1212.85,4759.55,2768.35,6770.85,2239.4,335.75,3082.1,2030.75,7467.5,2896.6,1410.25,160.75,681.4,7261.75,3460.95,90.85,8003.8,759.55,237.2,7875.0,143.65,6989.45,620.55,193.6,1600.25,3772.65,4370.25,95.1,3346.8,8192.6,865.1,653.25,69.5,3919.15,85.7,6536.5,5206.55,75.7,3994.05,5894.5,3923.8,5199.8,3165.6,1952.25,2196.45,2053.05,4345.0,934.15,4348.1,48.75,4664.15,102.75,2626.15,6511.8,2633.4,3409.6,2871.5,6603.8,2146.5,1008.7,3959.15,649.65,3510.3,2149.05,6465.0,2536.55,4884.85,74.7,4308.25,3105.55,6325.25,6716.45,6369.45,5936.55,3088.25,827.7,7856.0,3893.6,80.85,131.65,187.45,4917.75,3186.7,6068.65,7470.1,7548.1,874.2,1133.65,2621.75,5043.2,184.4,5224.5,6176.6,1064.65,298.35,2596.15,3418.2,8022.85,2651.2,2628.6,418.3,5980.75,3990.6,1381.8,183.75,3566.6,4415.75,5234.95,8100.25,2929.75,4473.45,5329.0,5396.25,5295.7,5475.9,7047.5,2302.35,367.95,6487.2,4297.6,1021.75,178.1,1522.65,174.2,732.5,7555.0,973.45,4812.75,105.6,1761.45,908.75,3778.0,4113.7,3132.75,7665.8,70.6,7459.0,6293.75,486.85,3549.25,2162.6,2298.55,613.4,5568.35,4174.35,2483.05,523.1,2404.15,79.6,4946.7,3475.55,4555.2,383.65,875.35,262.3,548.9,5229.8,442.85,2351.45,101.45,2257.75,1739.6,638.95,1057.55,1164.05,1130.85,3851.45,7318.2,7386.05,139.25,257.05,868.5,5610.15,1049.05,6529.25,576.65,3965.05,1461.45,5200.8,1375.6,2012.7,8443.7,1336.9,6994.8,5542.55,4820.15,3953.15,6547.7,4976.15,2033.85,2431.35,7142.5,272.15,2157.3,5595.3,94.55,113.35,80.25,5999.85,3251.85,2874.15,3021.45,55.25,7446.9,6385.95,4507.15,5440.9,438.05,1046.1,2254.2,916.9,44.0,2199.05,2453.3,829.3,4853.75,4458.15,69.75,235.05,69.9,234.85,69.85,45.3,6891.45,172.85,75.3,1529.2,2209.75,279.55,554.45,7472.15,754.65,2812.2,216.75,1855.65,7049.75,1889.5,4245.55,5846.65,70.0,2095.0,482.25,2033.05,85.45,1058.1,143.9,312.7,515.45,765.15,1782.4,1302.65,3795.45,2459.8,1879.25,1737.45,5070.4,177.4,4849.1,670.65,4916.4,161.5,6401.25,180.25,5038.15,1115.15,2640.55,492.1,3339.05,865.75,2723.75,777.3,4718.25,6929.4,2259.35,7657.4,5411.4,5189.75,60.15,5154.5,7412.25,5646.6,4013.8,6563.4,404.2,1410.25,45.4,2845.15,4220.35,6895.5,3238.4,45.05,857.25,880.05,610.75,5832.65,494.05,3729.6,5435.6,808.5,3954.1,152.45,6416.7,1299.1,2633.95,6397.6,302.75,5481.25,7365.7,5502.55,6669.05,934.1,7348.8,3846.35,1654.7,697.25,3902.6,494.95,313.6,1545.4,6033.1,1970.5,2023.55,530.05,408.25,7334.05,5357.75,2839.45,3808.0,3103.25,4134.7,7553.6,90.6,5232.9,4804.65,7554.05,139.05,5301.1,2716.3,1274.45,5717.85,3541.4,419.35,4014.0,3035.35,5432.2,1875.55,5618.3,1689.45,1834.15,2243.9,134.7,75.45,228.4,1215.45,1170.5,1114.85,454.15,892.7,1955.4,4973.4,2888.7,5174.35,4040.2,44.45,519.15,69.9,365.35,6520.8,888.65,1931.75,69.4,3161.2,5563.65,4888.7,1115.2,4534.45,657.5,168.15,7112.15,2823.0,999.45,2979.2,2319.8,4213.9,1133.9,56.25,3128.8,1505.85,8424.9,5536.5,3472.05,147.8,79.35,4764.0,1761.05,1081.45,930.05,684.85,5553.25,467.55,1816.75,1702.9,1608.15,1392.25,1033.9,70.6,1465.75,7854.15,1559.25,97.0,229.55,1959.5,680.05,1537.9,2245.4,7853.7,1687.95,334.8,2271.85,3019.25,79.05,7609.75,6880.85,87.9,6588.95,4473.0,2188.5,738.2,4039.0,6230.1,4364.1,3706.95,3726.15,3532.85,2198.3,7578.05,2282.95,7990.05,1340.1,4017.45,654.85,2184.85,4615.9,4116.8,6254.45,5703.0,2088.8,713.1,2277.65,8476.5,4976.15,446.05,1470.95,2276.95,4131.2,329.95,3744.05,3204.4,2755.35,399.45,1830.1,5129.45,2343.85,316.9,118.25,6998.95,7240.65,7397.0,415.55,2894.55,1423.35,1498.65,7107.0,2535.55,3691.2,194.2,849.1,3292.3,80.15,1422.1,4808.7,3089.6,2854.95,3674.95,6615.15,1515.1,575.45,2193.0,5861.75,2419.55,384.5,267.6,3414.65,4819.75,5243.05,6237.05,1378.25,45.85,45.65,2094.9,404.35,518.75,71.55,44.35,436.2,44.15,3975.7,2274.1,6300.85,260.9,144.55,235.5,6519.75,4166.35,2907.35,4254.85,6079.0,4065.0,426.35,7114.25,2627.35,909.25,4600.7,46.3,4126.2,3134.7,6347.55,6109.65,1579.7,402.5,4753.85,1783.6,217.55,919.4,6330.4,4729.75,1206.05,1566.75,1322.55,357.6,131.05,6841.45,994.8,497.6,85.0,4192.15,2234.95,7251.7,6424.25,2326.05,5791.85,6671.7,5460.2,4484.05,2479.25,5224.95,877.35,7365.3,202.3,6302.85,2619.25,62.8,1406.9,3160.55,6511.25,5844.65,2627.2,5610.25,178.7,5522.7,1910.6,5270.6,3871.85,1783.75,2405.05,7880.25,1045.25,7752.05,1730.35,5386.5,2587.7,1620.2,130.1,7262.0,7707.7,2384.15,1776.55,2970.3,4690.65,819.55,997.65,896.9,1734.5,794.25,4653.25,7138.65,3771.5,6172.0,704.3,6613.65,2545.75,3912.9,811.8,422.4,5903.15,3029.1,5645.8,95.6,232.35,74.9,2094.65,4586.15,6328.7,2122.45,816.8,2656.3,6185.8,1024.0,78.8,3047.15,7447.7,299.2,6411.25,659.65,3877.95,5265.2,5293.2,3487.95,73.6,3207.55,5121.3,434.5,238.5,2660.2,163.7,6779.05,6376.55,416.45,1539.45,2688.85,68.5,795.65,4089.45,4985.9,2320.8,229.5,6975.25,1846.65,1394.55,401.1,417.75,5968.4,6129.65,586.05,3941.7,593.85,5617.95,1929.95,7849.85,69.35,80.8,374.8,1916.0,6365.35,7030.65,4003.0,7244.7,4749.15,1398.25,165.45,1221.55,1155.6,2201.75,6129.2,5031.85,2878.75,6056.15,411.6,2835.5,624.6,294.45,350.35,7110.75,673.1,780.85,69.6,3068.6,831.75,2117.25,73.55,3084.9,4026.4,80.95,7679.65,93.3,3365.4,2576.8,1282.85,2967.35,1152.8,5436.45,1043.3,2537.0,4917.9,3778.1,79.2,4285.8,3548.3,2531.4,1752.65,2979.3,45.3,1285.05,4367.35,5067.45,1567.55,5289.8,864.55,1672.1,44.45,2291.2,2524.45,966.25,5124.55,340.4,4904.2,2018.4,50.5,7878.3,1614.05,1415.55,6725.3,1810.85,79.55,1440.75,1156.35,4361.55,612.1,5623.7,55.7,123.05,308.05,6227.5,216.9,2032.3,2684.35,2530.4,2416.1,184.15,1043.8,6383.35,5485.5,3327.05,8529.5,43.85,4872.45,716.1,70.3,5791.1,6093.3,4323.45,2344.5,6418.9,1686.85,5420.65,4759.85,215.8,3389.25,2139.2,1842.8,4448.8,4042.3,1145.35,50.55,378.4,4860.35,5150.55,1301.0,1205.5,2016.45,1794.65,5950.2,3953.7,6301.7,1003.05,302.6,7132.15,541.15,3078.1,2351.8,346.4,2908.2,7104.2,1219.85,7181.95,6435.25,2220.1,1181.75,931.9,7303.05,6109.75,1614.2,4615.25,5931.75,4025.5,7171.7,550.6,5598.3,2595.85,4995.35,3236.35,7634.8,2301.15,4932.5,5744.35,5426.85,3969.4,5921.35,81.7,5785.5,1821.2,114.15,1941.5,356.1,611.65,5586.45,6859.5,6819.45,6428.4,3887.25,6033.3,111.05,964.35,6127.6,1244.5,4692.95,1758.6,1874.45,1505.45,7297.75,5064.85,1616.15,1990.5,109.25,4533.7,5749.8,4300.8,1888.65,3437.5,573.15,136.05,95.65,8248.5,608.15,678.45,665.45,3646.8,1530.6,5461.45,5264.25,3756.45,2731.0,3021.3,48.95,1422.65,84.8,6223.8,50.7,1199.4,4997.5,365.4,2433.9,4549.45,75.75,3122.4,4158.25,2623.65,648.65,3902.45,3580.3,2710.25,4577.75,4984.85,8436.25,50.65,1107.25,3488.15,54.3,3615.6,5931.0,76.35,5459.2,5496.9,384.25,8196.4,259.4,201.1,137.1,1389.2,1553.2,955.6,2789.7,412.5,2177.45,4362.05,5589.3,5265.55,768.05,287.4,3273.8,42.9,76.0,3605.2,6306.5,1667.25,4509.5,2391.15,816.8,762.1,44.4,2015.8,3266.0,1337.45,4370.25,4920.55,6937.95,2669.45,119.75,6586.85,7806.5,7475.1,238.5,773.2,74.9,6029.9,7149.35,1174.35,556.35,7168.25,235.65,2338.35,3208.65,2656.7,7008.15,3457.45,1033.95,637.4,170.85,3729.75,2754.0,3395.8,1622.45,7922.75,2210.2,2347.85,7028.5,2019.8,3297.0,280.35,4594.65,4040.65,1387.35,3512.9,466.6,45.95,154.55,7795.95,5643.4,5549.4,4744.35,45.3,6979.8,864.85,205.05,741.4,2407.3,6602.9,1215.8,847.3,3173.35,6096.9,422.3,5059.75,4885.85,950.75,1597.4,1497.05,4652.4,1233.15,2171.15,4097.05,84.5,3605.6,6405.0,1348.95,3249.4,283.95,2647.2,1345.65,825.1,606.25,5315.1,2015.35,7774.05,6976.75,2847.2,3171.15,3418.2,3694.45,4414.3,612.95,1275.65,2552.9,4238.45,3274.35,69.95,1201.15,3662.25,235.0,6368.2,4230.25,1663.75,5012.35,4855.35,5602.25,1992.95,7711.25,74.5,102.45,2215.0,6638.35,1441.8,6153.85,4671.65,143.65,7544.3,69.25,834.7,6985.65,7188.5,1048.85,100.8,1706.45,167.5,1563.9,370.65,772.85,6444.05,5714.25,780.5,156.4,1836.25,2766.4,5703.25,199.85,54.5,4155.95,3969.35,813.85,50.45,4188.4,5500.6,45.15,2460.15,69.65,8041.65,1743.9,2462.6,1993.8,5073.1,2688.45,90.55,1886.25,2088.45,4689.5,2296.25,876.75,90.55,396.3,1046.5,1936.85,6350.5,4069.9,49.75,184.65,1313.25,7690.9,436.6,445.95,987.95,120.25,6735.05,377.85,455.5,2204.35,214.55,301.4,4949.1,2313.8,493.65,724.65,3769.7,45.75,4481.0,8375.05,1867.6,769.1,6707.15,92.45,198.5,208.85,1058.1,2415.95,853.1,123.8,1329.2,155.35,6404.0,3626.35,273.2,4760.3,4965.0,1438.05,2404.1,4862.5,161.45,6510.45,5809.75,71.0,878.35,887.35,480.75,3092.0,6548.65,827.45,4859.1,4236.6,80.55,49.8,3581.4,4900.65,662.95,5099.15,1200.15,2657.55,994.55,3861.45,70.35,3357.9,5139.65,6179.35,631.85,4816.7,4515.85,3415.25,4211.55,321.65,79.15,633.3,4616.05,106.2,3168.0,6697.35,1178.25,84.65,1729.35,5442.05,1454.25,1235.55,1288.3,5163.3,1017.35,1441.1,7455.45,4508.65,220.45,5031.0,1148.1,4925.35,3264.5,1712.7,7031.45,145.15,2498.4,6004.85,3959.35,512.45,6215.35,5431.4,324.25,323.45,5589.45,1573.7,886.7,415.55,5730.7,7998.8,2001.0,8672.45,5711.05,147.15,6590.5,3187.65,4972.1,231.8,89.25,6589.6,115.1,104.2,4224.7,3369.05,2793.55,123.65,260.8,46.3,2275.1,79.6,75.8,979.05,3739.8,151.8,4512.7,8058.85,871.4,2221.55,4368.85,4735.2,1573.95,1059.55,1338.15,3833.95,3729.75,4824.45,49.9,837.95,2839.65,5471.75,369.25,7432.05,3450.15,2413.05,522.95,4217.8,5731.85,1054.6,4541.2,3895.35,5585.4,3539.25,2497.35,1857.25,69.2,1725.95,6561.25,44.15,7556.9,2830.45,69.6,3201.55,1614.7,628.65,3478.75,3171.6,1843.05,2684.85,127.1,3091.75,937.6,3778.2,4688.65,3363.8,5974.3,385.0,3829.75,7040.85,3824.2,1917.1,2647.1,6398.05,5264.5,2599.95,4029.95,1108.6,7251.9,5637.85,90.05,7129.45,3198.6,2954.5,6292.7,297.35,415.05,857.8,2974.5,6396.45,3627.3,45.35,144.15,6981.35,6843.15,629.55,50.45,3007.25,3066.45,3107.3,1527.5,856.65,3480.35,1742.95,1238.45,305.55,5895.45,4599.15,50.75,574.5,921.4,1299.8,1421.75,1345.75,4326.8,1081.25,2877.95,166.3,5825.5,7320.9,217.45,4807.35,1934.45,45.8,2263.45,1553.9,3966.3,3597.5,3641.5,1857.3,84.5,1778.5,196.9,1261.0,1254.7,1493.2,4525.8,1066.9,4720.0,4674.55,1308.4,3581.6,6668.35,1882.8,3725.5,6362.35,720.1,220.75,5552.05,4740.0,839.65,3046.05,1868.4,5727.15,1117.55,1242.25,5594.0,80.3,475.0,352.65,69.4,552.95,1195.75,660.05,4265.0,4905.75,7839.85,1813.1,3541.1,2555.9,1020.2,1683.7,8244.3,2354.8,293.65,6721.6,889.9,4039.5,3003.55,244.45,3109.9,3233.85,134.5,1747.2,1559.45,5798.3,568.2,553.4,2119.5,6130.85,5930.05,6075.9,4889.3,1797.75,2282.55,3565.65,1611.15,1151.55,632.95,659.45,3529.95,2386.85,4965.1,5708.2,69.95,5835.5,1217.25,3838.75,8425.15,6382.55,4738.85,2293.6,2379.1,4138.05,1147.45,4275.75,7748.75,8016.6,2341.5,5231.3,4589.85,487.05,4888.2,71.1,6991.9,71.35,563.5,4060.9,3425.35,70.55,4931.8,79.65,762.5,3465.05,5632.55,69.65,2287.25,1483.25,49.85,6496.15,7181.25,799.65,7737.55,5769.6,45.1,2427.1,659.35,265.35,6891.4,181.1,811.65,7413.55,5681.1,428.7,1093.4,4541.9,3883.3,396.1,5443.65,2737.05,6132.7,1001.2,1013.35,7565.35,946.95,305.55,4284.8,2483.5,906.85,284.9,3684.95,6065.3,604.7,514.6,5166.2,4299.95,5924.4,1734.2,2730.85,93.85,5347.95,6869.7,1747.85,458.1,701.3,3055.5,5265.1,1105.4,6859.05,4154.8,44.55,2625.55,593.75,159.45,4487.3,438.0,4921.2,2897.95,6688.95,1137.05,7804.15,1714.95,6126.1,1404.65,571.15,5498.2,8306.05,1706.45,434.5,7493.05,4303.65,266.95,6058.95,1258.35,2130.45,2490.15,828.05,1652.95,793.55,5692.65,498.25,196.95,5552.5,3996.8,322.5,392.5,1581.2,287.85,941.0,237.75,3399.85,6925.9,1370.35,8425.3,7658.3,356.65,3361.05,5253.95,597.9,1184.0,4913.3,50.45,47.95,2931.0,1046.5,2638.1,4519.5,70.6,7982.5,5229.45,3522.65,249.4,2494.65,525.0,4533.9,3557.7,2964.0,4299.2,5682.25,1180.95,914.3,4811.6,484.05,3618.7,5017.7,45.0,660.9,306.6,151.3,74.35,6309.65,4388.4,69.6,6754.35,3956.7,71.65,764.95,1952.8,5611.7,3384.0,245.15,5193.2,2448.75,3480.0,6185.15,1236.15,3131.8,3058.3,6733.15,2208.75,250.1,5817.0,4903.15,167.3,6322.1,449.75,5196.1,477.55,2568.15,5567.45,2317.1,6767.1,189.2,3373.4,2070.6,990.9,318.9,5224.35,50.05,113.55,8405.0,369.3,1495.1,3616.25,6885.75,1253.15,5497.05,5237.4,5528.9,73.65,842.25,7159.05,461.7,318.5,2227.8,1411.65,7111.3,2421.75,2820.65,1424.5,3673.15,1308.1,3246.45,8332.15,1345.55,1025.95,6300.15,632.2,206.15,1112.3,3403.4,4264.6,3420.5,5068.05,1625.0,7388.45,331.3,1612.2,4178.65,2165.05,7317.1,6141.65,1893.5,79.1,6440.25,535.55,3260.1,4523.25,3090.65,6555.2,264.8,4551.5,3921.3,249.95,86.6,8399.15,2802.3,4783.5,679.55,232.5,4492.9,3217.55,512.25,4146.05,1652.4,2934.3,2542.45,3650.35,8277.05,1221.65,3901.25,5154.6,4391.25,7220.35,4871.05,927.35,6954.15,299.7,165.0,71.65,5601.4,6130.95,4018.35,6441.4,1264.2,101.65,4869.35,7159.7,148.05,6096.45,1800.05,2790.65,8164.1,3379.25,2356.75,209.1,5916.95,1023.9,3974.15,1696.2,1692.6,74.0,1958.45,6161.9,2425.4,51.25,2841.55,527.9,4331.4,44.8,7689.8,6055.55,4186.3,3320.6,44.9,319.6,2995.45,6518.35,44.0,5574.35,1793.25,3089.1,2078.55,858.6,1825.5,568.85,668.85,2882.25,2196.15,424.75,78.95,4750.95,2433.5,6585.2,303.15,6382.0,49.8,4982.5,4398.15,5564.85,6311.2,1093.1,403.35,74.3,90.6,6725.5,3410.6,708.2,521.3,4063.0,4801.1,1776.95,5985.75,3645.5,593.05,564.35,966.55,3242.5,1029.75,103.7,159.15,585.95,7372.65,7325.1,2538.05,75.1,4863.85,3204.65,2429.1,6393.65,80.05,3887.85,8065.65,168.15,141.45,668.4,3653.35,1162.85,1985.15,2964.05,5763.3,7281.6,1837.7,8012.75,1451.9,830.85,475.7,3713.95,2979.5,7334.05,2896.4,6297.65,401.3,1745.2,169.05,3043.7,8564.75,3320.75,5746.75,1055.9,700.85,49.55,313.45,7133.45,7711.45,1669.4,108.65,6744.2,4664.2,2427.35,3019.5,7919.8,7053.35,2187.55,2513.5,1082.8,803.3,5233.25,84.6,5127.95,152.7,78.65,4837.6,3131.55,2933.2,44.95,4162.05,5535.8,157.55,765.45,1756.6,646.85,8310.55,235.1,6688.1,2096.1,851.8,2673.45,6823.4,8477.6,74.1,2718.3,4577.9,651.5,1393.6,764.55,488.65,3035.8,1047.7,7629.85,3858.05,3313.4,3617.1,79.55,536.4,237.25,3460.3,7209.0,2570.0,7840.6,872.65,5680.9,2018.1,191.35,162.55,1597.25,1581.95,7227.45,3645.75,7752.3,1885.15,4068.0,291.9,50.55,6126.15,2283.15,1233.65,5763.15,4729.3,1406.0,7881.2,5215.25,6538.45,4669.2,6014.85,2753.8,740.55,7299.65,4447.75,999.9,1415.0,389.6,664.4,1249.25,5610.7,1451.6,3116.15,899.8,4914.8,53.55,5555.3,2419.0,3094.65,5750.0,6001.45,2092.9,45.7,1391.15,85.45,8093.15,2603.95,5655.45,1806.35,2249.1,676.7,4267.15,5878.9,3756.45,2034.25,4941.8,5515.8,2958.95,1319.85,3019.7,493.4,4451.85,4594.95,736.8,1821.95,4495.65,827.05,1454.15,3326.2,973.25,2361.8,3533.6,1139.2,2264.05,1777.9,496.9,3571.6,4786.15,2443.3,1443.65,2774.55,450.8,44.0,4059.85,4805.3,1531.4,94.4,4318.35,6083.1,5215.1,292.8,4459.8,151.65,8124.2,45.6,76.45,5916.45,413.65,5064.45,2653.65,4309.55,1704.95,8166.8,2274.9,189.1,169.45,735.5,308.7,1130.0,5647.95,2025.1,4326.25,3413.25,85.0,896.75,2869.85,4480.7,1235.55,6697.2,4845.4,8312.75,94.0,79.95,820.5,210.3,2654.05,1203.9,729.95,159.4,2681.15,335.4,1533.8,1358.85,6640.7,355.1,485.25,6151.9,1665.2,5194.05,176.2,6373.1,8240.85,2727.8,2006.1,4428.6,1346.9,3857.1,4991.5,4830.25,2322.85,2460.35,1943.9,662.65,2656.5,3483.45,288.35,3715.65,5919.35,3882.3,320.4,3990.75,950.2,5036.9,5757.2,631.4,221.1,74.7,6838.6,1400.3,6689.0,7069.25,4730.9,268.35,4627.85,4131.95,1639.3,446.8,6293.2,4554.85,1426.4,341.45,4904.25,1207.0,6045.9,1178.4,76.2,3457.9,2151.6,44.7,2848.45,620.35,6155.4,206.6,2447.95,3419.3,2083.1,3161.6,5012.1,1654.45,892.65,7953.25,5600.15,5705.05,5731.45,8061.5,824.85,5437.75,5661.7,6841.4,71.15,4872.35,6595.9,551.95,3541.35,1527.35,6273.4,786.3,4456.65,581.7,93.55,4804.75,4820.55,2835.9,1191.2,931.75,79.35,3190.25,1779.95,2212.55,2156.25,6254.2,720.45,1612.75,2335.3,1242.2,608.0,5979.7,51.2,551.35,4233.95,5375.15,6019.35,193.6,897.75,4747.65,6565.85,658.1,1161.75,1588.7,2076.05,7283.25,1312.15,51.25,365.65,4459.15,2597.6,6549.45,6962.85,6252.9,2838.7,222.3,3369.25,3687.75,1043.35,1165.6,6794.75,89.75,6460.55,2911.8,4528.0,2866.45,2566.5,70.05,70.2,2642.05,2441.7,240.45,5940.85,70.6,2444.25,433.95,7074.4,952.3,3645.05,137.25,2723.4,229.7,8086.4,50.8,3297.0,241.3,653.95,6056.9,295.65,3046.15,5769.75,1617.5,5125.5,7051.95,4400.75,49.25,117.05,2796.45,5728.55,4449.75,8129.3,4159.45,514.0,1036.75,3973.2,144.55,4916.95,1740.7,3946.9,398.55,4156.8,616.9,3649.6,2230.85,5969.3,701.05,4056.75,4793.8,360.55,815.55,6910.3,144.0,2511.3,1974.8,90.85,69.2,2333.05,5025.0,53.95,106.55,923.5,3219.75,8670.1,522.35,6038.55,5317.8,73.5,48.6,3306.85,339.9,3213.75,587.45,387.2,2625.25,4891.5,5311.85,797.25,2309.55,3807.35,6223.3,5822.3,2683.2,6782.15,1790.65,336.7,3024.15,3914.05,4014.2,75.3,8594.4,2192.9,5484.4,3810.8,562.7,1070.7,153.8,1615.1,3994.45,7887.25,4748.7,69.9,2082.95,3532.25,2575.45,501.0,6860.6,2576.2,3827.9,55.45,4282.4,5727.45,1149.65,4016.2,45.7,1275.7,3474.45,4016.75,7491.75,242.05,463.05,74.35,7475.85,4590.35,809.75,7459.05,228.0,1043.3,4346.4,1861.1,7806.6,2010.55,8075.35,1532.45,2339.3,472.25,1743.5,171.15,1373.0,2440.25,78.45,832.35,74.3,1327.85,7383.7,250.05,3640.45,1305.95,2896.55,2475.35,1826.7,2381.55,6256.2,3211.2,5981.65,1948.35,4327.5,3275.15,2044.95,1072.0,8547.15,5468.45,2180.55,1516.6,2473.95,5611.75,1287.85,6668.0,2658.4,865.8,75.3,5060.85,2664.3,307.4,1074.3,3013.05,457.1,7517.7,7382.25,2030.3,790.15,4111.35,3625.2,1517.5,4871.45,6171.2,4018.05,633.45,70.15,742.9,1873.7,92.75,4627.65],\"yaxis\":\"y\",\"ybingroup\":\"y\",\"type\":\"histogram2d\"}],                        {\"template\":{\"data\":{\"bar\":[{\"error_x\":{\"color\":\"#2a3f5f\"},\"error_y\":{\"color\":\"#2a3f5f\"},\"marker\":{\"line\":{\"color\":\"#E5ECF6\",\"width\":0.5},\"pattern\":{\"fillmode\":\"overlay\",\"size\":10,\"solidity\":0.2}},\"type\":\"bar\"}],\"barpolar\":[{\"marker\":{\"line\":{\"color\":\"#E5ECF6\",\"width\":0.5},\"pattern\":{\"fillmode\":\"overlay\",\"size\":10,\"solidity\":0.2}},\"type\":\"barpolar\"}],\"carpet\":[{\"aaxis\":{\"endlinecolor\":\"#2a3f5f\",\"gridcolor\":\"white\",\"linecolor\":\"white\",\"minorgridcolor\":\"white\",\"startlinecolor\":\"#2a3f5f\"},\"baxis\":{\"endlinecolor\":\"#2a3f5f\",\"gridcolor\":\"white\",\"linecolor\":\"white\",\"minorgridcolor\":\"white\",\"startlinecolor\":\"#2a3f5f\"},\"type\":\"carpet\"}],\"choropleth\":[{\"colorbar\":{\"outlinewidth\":0,\"ticks\":\"\"},\"type\":\"choropleth\"}],\"contour\":[{\"colorbar\":{\"outlinewidth\":0,\"ticks\":\"\"},\"colorscale\":[[0.0,\"#0d0887\"],[0.1111111111111111,\"#46039f\"],[0.2222222222222222,\"#7201a8\"],[0.3333333333333333,\"#9c179e\"],[0.4444444444444444,\"#bd3786\"],[0.5555555555555556,\"#d8576b\"],[0.6666666666666666,\"#ed7953\"],[0.7777777777777778,\"#fb9f3a\"],[0.8888888888888888,\"#fdca26\"],[1.0,\"#f0f921\"]],\"type\":\"contour\"}],\"contourcarpet\":[{\"colorbar\":{\"outlinewidth\":0,\"ticks\":\"\"},\"type\":\"contourcarpet\"}],\"heatmap\":[{\"colorbar\":{\"outlinewidth\":0,\"ticks\":\"\"},\"colorscale\":[[0.0,\"#0d0887\"],[0.1111111111111111,\"#46039f\"],[0.2222222222222222,\"#7201a8\"],[0.3333333333333333,\"#9c179e\"],[0.4444444444444444,\"#bd3786\"],[0.5555555555555556,\"#d8576b\"],[0.6666666666666666,\"#ed7953\"],[0.7777777777777778,\"#fb9f3a\"],[0.8888888888888888,\"#fdca26\"],[1.0,\"#f0f921\"]],\"type\":\"heatmap\"}],\"heatmapgl\":[{\"colorbar\":{\"outlinewidth\":0,\"ticks\":\"\"},\"colorscale\":[[0.0,\"#0d0887\"],[0.1111111111111111,\"#46039f\"],[0.2222222222222222,\"#7201a8\"],[0.3333333333333333,\"#9c179e\"],[0.4444444444444444,\"#bd3786\"],[0.5555555555555556,\"#d8576b\"],[0.6666666666666666,\"#ed7953\"],[0.7777777777777778,\"#fb9f3a\"],[0.8888888888888888,\"#fdca26\"],[1.0,\"#f0f921\"]],\"type\":\"heatmapgl\"}],\"histogram\":[{\"marker\":{\"pattern\":{\"fillmode\":\"overlay\",\"size\":10,\"solidity\":0.2}},\"type\":\"histogram\"}],\"histogram2d\":[{\"colorbar\":{\"outlinewidth\":0,\"ticks\":\"\"},\"colorscale\":[[0.0,\"#0d0887\"],[0.1111111111111111,\"#46039f\"],[0.2222222222222222,\"#7201a8\"],[0.3333333333333333,\"#9c179e\"],[0.4444444444444444,\"#bd3786\"],[0.5555555555555556,\"#d8576b\"],[0.6666666666666666,\"#ed7953\"],[0.7777777777777778,\"#fb9f3a\"],[0.8888888888888888,\"#fdca26\"],[1.0,\"#f0f921\"]],\"type\":\"histogram2d\"}],\"histogram2dcontour\":[{\"colorbar\":{\"outlinewidth\":0,\"ticks\":\"\"},\"colorscale\":[[0.0,\"#0d0887\"],[0.1111111111111111,\"#46039f\"],[0.2222222222222222,\"#7201a8\"],[0.3333333333333333,\"#9c179e\"],[0.4444444444444444,\"#bd3786\"],[0.5555555555555556,\"#d8576b\"],[0.6666666666666666,\"#ed7953\"],[0.7777777777777778,\"#fb9f3a\"],[0.8888888888888888,\"#fdca26\"],[1.0,\"#f0f921\"]],\"type\":\"histogram2dcontour\"}],\"mesh3d\":[{\"colorbar\":{\"outlinewidth\":0,\"ticks\":\"\"},\"type\":\"mesh3d\"}],\"parcoords\":[{\"line\":{\"colorbar\":{\"outlinewidth\":0,\"ticks\":\"\"}},\"type\":\"parcoords\"}],\"pie\":[{\"automargin\":true,\"type\":\"pie\"}],\"scatter\":[{\"marker\":{\"colorbar\":{\"outlinewidth\":0,\"ticks\":\"\"}},\"type\":\"scatter\"}],\"scatter3d\":[{\"line\":{\"colorbar\":{\"outlinewidth\":0,\"ticks\":\"\"}},\"marker\":{\"colorbar\":{\"outlinewidth\":0,\"ticks\":\"\"}},\"type\":\"scatter3d\"}],\"scattercarpet\":[{\"marker\":{\"colorbar\":{\"outlinewidth\":0,\"ticks\":\"\"}},\"type\":\"scattercarpet\"}],\"scattergeo\":[{\"marker\":{\"colorbar\":{\"outlinewidth\":0,\"ticks\":\"\"}},\"type\":\"scattergeo\"}],\"scattergl\":[{\"marker\":{\"colorbar\":{\"outlinewidth\":0,\"ticks\":\"\"}},\"type\":\"scattergl\"}],\"scattermapbox\":[{\"marker\":{\"colorbar\":{\"outlinewidth\":0,\"ticks\":\"\"}},\"type\":\"scattermapbox\"}],\"scatterpolar\":[{\"marker\":{\"colorbar\":{\"outlinewidth\":0,\"ticks\":\"\"}},\"type\":\"scatterpolar\"}],\"scatterpolargl\":[{\"marker\":{\"colorbar\":{\"outlinewidth\":0,\"ticks\":\"\"}},\"type\":\"scatterpolargl\"}],\"scatterternary\":[{\"marker\":{\"colorbar\":{\"outlinewidth\":0,\"ticks\":\"\"}},\"type\":\"scatterternary\"}],\"surface\":[{\"colorbar\":{\"outlinewidth\":0,\"ticks\":\"\"},\"colorscale\":[[0.0,\"#0d0887\"],[0.1111111111111111,\"#46039f\"],[0.2222222222222222,\"#7201a8\"],[0.3333333333333333,\"#9c179e\"],[0.4444444444444444,\"#bd3786\"],[0.5555555555555556,\"#d8576b\"],[0.6666666666666666,\"#ed7953\"],[0.7777777777777778,\"#fb9f3a\"],[0.8888888888888888,\"#fdca26\"],[1.0,\"#f0f921\"]],\"type\":\"surface\"}],\"table\":[{\"cells\":{\"fill\":{\"color\":\"#EBF0F8\"},\"line\":{\"color\":\"white\"}},\"header\":{\"fill\":{\"color\":\"#C8D4E3\"},\"line\":{\"color\":\"white\"}},\"type\":\"table\"}]},\"layout\":{\"annotationdefaults\":{\"arrowcolor\":\"#2a3f5f\",\"arrowhead\":0,\"arrowwidth\":1},\"autotypenumbers\":\"strict\",\"coloraxis\":{\"colorbar\":{\"outlinewidth\":0,\"ticks\":\"\"}},\"colorscale\":{\"diverging\":[[0,\"#8e0152\"],[0.1,\"#c51b7d\"],[0.2,\"#de77ae\"],[0.3,\"#f1b6da\"],[0.4,\"#fde0ef\"],[0.5,\"#f7f7f7\"],[0.6,\"#e6f5d0\"],[0.7,\"#b8e186\"],[0.8,\"#7fbc41\"],[0.9,\"#4d9221\"],[1,\"#276419\"]],\"sequential\":[[0.0,\"#0d0887\"],[0.1111111111111111,\"#46039f\"],[0.2222222222222222,\"#7201a8\"],[0.3333333333333333,\"#9c179e\"],[0.4444444444444444,\"#bd3786\"],[0.5555555555555556,\"#d8576b\"],[0.6666666666666666,\"#ed7953\"],[0.7777777777777778,\"#fb9f3a\"],[0.8888888888888888,\"#fdca26\"],[1.0,\"#f0f921\"]],\"sequentialminus\":[[0.0,\"#0d0887\"],[0.1111111111111111,\"#46039f\"],[0.2222222222222222,\"#7201a8\"],[0.3333333333333333,\"#9c179e\"],[0.4444444444444444,\"#bd3786\"],[0.5555555555555556,\"#d8576b\"],[0.6666666666666666,\"#ed7953\"],[0.7777777777777778,\"#fb9f3a\"],[0.8888888888888888,\"#fdca26\"],[1.0,\"#f0f921\"]]},\"colorway\":[\"#636efa\",\"#EF553B\",\"#00cc96\",\"#ab63fa\",\"#FFA15A\",\"#19d3f3\",\"#FF6692\",\"#B6E880\",\"#FF97FF\",\"#FECB52\"],\"font\":{\"color\":\"#2a3f5f\"},\"geo\":{\"bgcolor\":\"white\",\"lakecolor\":\"white\",\"landcolor\":\"#E5ECF6\",\"showlakes\":true,\"showland\":true,\"subunitcolor\":\"white\"},\"hoverlabel\":{\"align\":\"left\"},\"hovermode\":\"closest\",\"mapbox\":{\"style\":\"light\"},\"paper_bgcolor\":\"white\",\"plot_bgcolor\":\"#E5ECF6\",\"polar\":{\"angularaxis\":{\"gridcolor\":\"white\",\"linecolor\":\"white\",\"ticks\":\"\"},\"bgcolor\":\"#E5ECF6\",\"radialaxis\":{\"gridcolor\":\"white\",\"linecolor\":\"white\",\"ticks\":\"\"}},\"scene\":{\"xaxis\":{\"backgroundcolor\":\"#E5ECF6\",\"gridcolor\":\"white\",\"gridwidth\":2,\"linecolor\":\"white\",\"showbackground\":true,\"ticks\":\"\",\"zerolinecolor\":\"white\"},\"yaxis\":{\"backgroundcolor\":\"#E5ECF6\",\"gridcolor\":\"white\",\"gridwidth\":2,\"linecolor\":\"white\",\"showbackground\":true,\"ticks\":\"\",\"zerolinecolor\":\"white\"},\"zaxis\":{\"backgroundcolor\":\"#E5ECF6\",\"gridcolor\":\"white\",\"gridwidth\":2,\"linecolor\":\"white\",\"showbackground\":true,\"ticks\":\"\",\"zerolinecolor\":\"white\"}},\"shapedefaults\":{\"line\":{\"color\":\"#2a3f5f\"}},\"ternary\":{\"aaxis\":{\"gridcolor\":\"white\",\"linecolor\":\"white\",\"ticks\":\"\"},\"baxis\":{\"gridcolor\":\"white\",\"linecolor\":\"white\",\"ticks\":\"\"},\"bgcolor\":\"#E5ECF6\",\"caxis\":{\"gridcolor\":\"white\",\"linecolor\":\"white\",\"ticks\":\"\"}},\"title\":{\"x\":0.05},\"xaxis\":{\"automargin\":true,\"gridcolor\":\"white\",\"linecolor\":\"white\",\"ticks\":\"\",\"title\":{\"standoff\":15},\"zerolinecolor\":\"white\",\"zerolinewidth\":2},\"yaxis\":{\"automargin\":true,\"gridcolor\":\"white\",\"linecolor\":\"white\",\"ticks\":\"\",\"title\":{\"standoff\":15},\"zerolinecolor\":\"white\",\"zerolinewidth\":2}}},\"xaxis\":{\"anchor\":\"y\",\"domain\":[0.0,1.0],\"title\":{\"text\":\"Age\"}},\"yaxis\":{\"anchor\":\"x\",\"domain\":[0.0,1.0],\"title\":{\"text\":\"Total Charges\"}},\"coloraxis\":{\"colorbar\":{\"title\":{\"text\":\"count\"}},\"colorscale\":[[0.0,\"#0d0887\"],[0.1111111111111111,\"#46039f\"],[0.2222222222222222,\"#7201a8\"],[0.3333333333333333,\"#9c179e\"],[0.4444444444444444,\"#bd3786\"],[0.5555555555555556,\"#d8576b\"],[0.6666666666666666,\"#ed7953\"],[0.7777777777777778,\"#fb9f3a\"],[0.8888888888888888,\"#fdca26\"],[1.0,\"#f0f921\"]]},\"legend\":{\"tracegroupgap\":0},\"margin\":{\"t\":60}},                        {\"responsive\": true}                    ).then(function(){\n",
              "                            \n",
              "var gd = document.getElementById('4476523e-0cff-4fd7-a469-4a95efd8b79d');\n",
              "var x = new MutationObserver(function (mutations, observer) {{\n",
              "        var display = window.getComputedStyle(gd).display;\n",
              "        if (!display || display === 'none') {{\n",
              "            console.log([gd, 'removed!']);\n",
              "            Plotly.purge(gd);\n",
              "            observer.disconnect();\n",
              "        }}\n",
              "}});\n",
              "\n",
              "// Listen for the removal of the full notebook cells\n",
              "var notebookContainer = gd.closest('#notebook-container');\n",
              "if (notebookContainer) {{\n",
              "    x.observe(notebookContainer, {childList: true});\n",
              "}}\n",
              "\n",
              "// Listen for the clearing of the current output cell\n",
              "var outputEl = gd.closest('.output');\n",
              "if (outputEl) {{\n",
              "    x.observe(outputEl, {childList: true});\n",
              "}}\n",
              "\n",
              "                        })                };                            </script>        </div>\n",
              "</body>\n",
              "</html>"
            ]
          },
          "metadata": {}
        }
      ],
      "source": [
        "fig = px.density_heatmap(df1, x='Age', y='Total Charges')\n",
        "fig.show()"
      ]
    },
    {
      "cell_type": "code",
      "execution_count": 132,
      "id": "1c4d0cc8",
      "metadata": {
        "execution": {
          "iopub.execute_input": "2022-10-14T19:27:33.396802Z",
          "iopub.status.busy": "2022-10-14T19:27:33.395794Z",
          "iopub.status.idle": "2022-10-14T19:27:33.401898Z",
          "shell.execute_reply": "2022-10-14T19:27:33.401179Z"
        },
        "papermill": {
          "duration": 0.032967,
          "end_time": "2022-10-14T19:27:33.403872",
          "exception": false,
          "start_time": "2022-10-14T19:27:33.370905",
          "status": "completed"
        },
        "tags": [],
        "id": "1c4d0cc8",
        "outputId": "f9af846c-92d1-4b27-d47f-674d10496c1a",
        "colab": {
          "base_uri": "https://localhost:8080/"
        }
      },
      "outputs": [
        {
          "output_type": "execute_result",
          "data": {
            "text/plain": [
              "Index(['Gender', 'Age', 'Married', 'Number of Dependents', 'City',\n",
              "       'Number of Referrals', 'Tenure in Months', 'Offer', 'Phone Service',\n",
              "       'Avg Monthly Long Distance Charges', 'Multiple Lines',\n",
              "       'Internet Service', 'Internet Type', 'Avg Monthly GB Download',\n",
              "       'Online Security', 'Online Backup', 'Device Protection Plan',\n",
              "       'Premium Tech Support', 'Streaming TV', 'Streaming Movies',\n",
              "       'Streaming Music', 'Unlimited Data', 'Contract', 'Paperless Billing',\n",
              "       'Payment Method', 'Monthly Charge', 'Total Charges',\n",
              "       'Total Extra Data Charges', 'Total Long Distance Charges',\n",
              "       'Total Revenue', 'Customer Status'],\n",
              "      dtype='object')"
            ]
          },
          "metadata": {},
          "execution_count": 132
        }
      ],
      "source": [
        "df1.columns"
      ]
    },
    {
      "cell_type": "code",
      "execution_count": 133,
      "id": "3eb796cf",
      "metadata": {
        "execution": {
          "iopub.execute_input": "2022-10-14T19:27:33.452044Z",
          "iopub.status.busy": "2022-10-14T19:27:33.451344Z",
          "iopub.status.idle": "2022-10-14T19:27:33.692942Z",
          "shell.execute_reply": "2022-10-14T19:27:33.691948Z"
        },
        "papermill": {
          "duration": 0.268347,
          "end_time": "2022-10-14T19:27:33.695372",
          "exception": false,
          "start_time": "2022-10-14T19:27:33.427025",
          "status": "completed"
        },
        "tags": [],
        "id": "3eb796cf",
        "outputId": "12a38ed0-a1f3-47f4-8d7a-35b261623deb",
        "colab": {
          "base_uri": "https://localhost:8080/",
          "height": 329
        }
      },
      "outputs": [
        {
          "output_type": "execute_result",
          "data": {
            "text/plain": [
              "<matplotlib.axes._subplots.AxesSubplot at 0x7f521d65ba10>"
            ]
          },
          "metadata": {},
          "execution_count": 133
        },
        {
          "output_type": "display_data",
          "data": {
            "text/plain": [
              "<Figure size 432x288 with 1 Axes>"
            ],
            "image/png": "[encoded data removed]"
          },
          "metadata": {
            "needs_background": "light"
          }
        }
      ],
      "source": [
        "pd.crosstab(df['Customer Status'], df['Married']).plot(kind='bar')"
      ]
    },
    {
      "cell_type": "code",
      "execution_count": 38,
      "id": "ca4253f8",
      "metadata": {
        "execution": {
          "iopub.execute_input": "2022-10-14T19:27:33.745251Z",
          "iopub.status.busy": "2022-10-14T19:27:33.744564Z",
          "iopub.status.idle": "2022-10-14T19:27:33.977564Z",
          "shell.execute_reply": "2022-10-14T19:27:33.976173Z"
        },
        "papermill": {
          "duration": 0.260686,
          "end_time": "2022-10-14T19:27:33.979853",
          "exception": false,
          "start_time": "2022-10-14T19:27:33.719167",
          "status": "completed"
        },
        "tags": [],
        "id": "ca4253f8",
        "outputId": "7197ba20-cd39-4cf5-dd24-6e53ea7c3cdb",
        "colab": {
          "base_uri": "https://localhost:8080/",
          "height": 333
        }
      },
      "outputs": [
        {
          "output_type": "execute_result",
          "data": {
            "text/plain": [
              "<matplotlib.axes._subplots.AxesSubplot at 0x7f522875cc90>"
            ]
          },
          "metadata": {},
          "execution_count": 38
        },
        {
          "output_type": "display_data",
          "data": {
            "text/plain": [
              "<Figure size 432x288 with 1 Axes>"
            ],
            "image/png": "[encoded data removed]"
          },
          "metadata": {
            "needs_background": "light"
          }
        }
      ],
      "source": [
        "pd.crosstab(df['Customer Status'], df['Gender']).plot(kind='bar')"
      ]
    },
    {
      "cell_type": "code",
      "execution_count": 134,
      "id": "b8bdd9d1",
      "metadata": {
        "execution": {
          "iopub.execute_input": "2022-10-14T19:27:34.030384Z",
          "iopub.status.busy": "2022-10-14T19:27:34.029961Z",
          "iopub.status.idle": "2022-10-14T19:27:34.037171Z",
          "shell.execute_reply": "2022-10-14T19:27:34.036166Z"
        },
        "papermill": {
          "duration": 0.035279,
          "end_time": "2022-10-14T19:27:34.039391",
          "exception": false,
          "start_time": "2022-10-14T19:27:34.004112",
          "status": "completed"
        },
        "tags": [],
        "id": "b8bdd9d1",
        "outputId": "e9412aea-dbb3-42e6-c947-9afce07b9e6e",
        "colab": {
          "base_uri": "https://localhost:8080/"
        }
      },
      "outputs": [
        {
          "output_type": "execute_result",
          "data": {
            "text/plain": [
              "array(['Credit Card', 'Bank Withdrawal', 'Mailed Check'], dtype=object)"
            ]
          },
          "metadata": {},
          "execution_count": 134
        }
      ],
      "source": [
        "df1['Payment Method'].unique()"
      ]
    },
    {
      "cell_type": "markdown",
      "source": [
        "Create dictionary with role / data key value pairs"
      ],
      "metadata": {
        "id": "k8SLcZE3DxxY"
      },
      "id": "k8SLcZE3DxxY"
    },
    {
      "cell_type": "code",
      "execution_count": 40,
      "id": "7f21db01",
      "metadata": {
        "execution": {
          "iopub.execute_input": "2022-10-14T19:27:34.090755Z",
          "iopub.status.busy": "2022-10-14T19:27:34.090374Z",
          "iopub.status.idle": "2022-10-14T19:27:34.100071Z",
          "shell.execute_reply": "2022-10-14T19:27:34.099243Z"
        },
        "papermill": {
          "duration": 0.038021,
          "end_time": "2022-10-14T19:27:34.102336",
          "exception": false,
          "start_time": "2022-10-14T19:27:34.064315",
          "status": "completed"
        },
        "tags": [],
        "id": "7f21db01"
      },
      "outputs": [],
      "source": [
        "Roles = {}\n",
        "for j in df1['Payment Method'].unique():\n",
        "    Roles[j] = df1[df1['Payment Method'] == j]"
      ]
    },
    {
      "cell_type": "code",
      "execution_count": 135,
      "id": "83636384",
      "metadata": {
        "execution": {
          "iopub.execute_input": "2022-10-14T19:27:34.152982Z",
          "iopub.status.busy": "2022-10-14T19:27:34.152554Z",
          "iopub.status.idle": "2022-10-14T19:27:34.159107Z",
          "shell.execute_reply": "2022-10-14T19:27:34.158011Z"
        },
        "papermill": {
          "duration": 0.034836,
          "end_time": "2022-10-14T19:27:34.161328",
          "exception": false,
          "start_time": "2022-10-14T19:27:34.126492",
          "status": "completed"
        },
        "tags": [],
        "id": "83636384",
        "outputId": "bae177a7-6fab-4f8c-c1a4-dd135aeb94f2",
        "colab": {
          "base_uri": "https://localhost:8080/"
        }
      },
      "outputs": [
        {
          "output_type": "execute_result",
          "data": {
            "text/plain": [
              "dict_keys(['Credit Card', 'Bank Withdrawal', 'Mailed Check'])"
            ]
          },
          "metadata": {},
          "execution_count": 135
        }
      ],
      "source": [
        "Roles.keys()"
      ]
    },
    {
      "cell_type": "markdown",
      "source": [
        "Selecting the rows where the role is 'Credit Card'"
      ],
      "metadata": {
        "id": "PHauFm8VD57n"
      },
      "id": "PHauFm8VD57n"
    },
    {
      "cell_type": "code",
      "execution_count": 136,
      "id": "396930cb",
      "metadata": {
        "execution": {
          "iopub.execute_input": "2022-10-14T19:27:34.211770Z",
          "iopub.status.busy": "2022-10-14T19:27:34.211389Z",
          "iopub.status.idle": "2022-10-14T19:27:34.250465Z",
          "shell.execute_reply": "2022-10-14T19:27:34.249407Z"
        },
        "papermill": {
          "duration": 0.067598,
          "end_time": "2022-10-14T19:27:34.253007",
          "exception": false,
          "start_time": "2022-10-14T19:27:34.185409",
          "status": "completed"
        },
        "tags": [],
        "id": "396930cb",
        "outputId": "db64dacf-1390-41cd-d470-53fabadc64e9",
        "colab": {
          "base_uri": "https://localhost:8080/",
          "height": 711
        }
      },
      "outputs": [
        {
          "output_type": "execute_result",
          "data": {
            "text/plain": [
              "      Gender  Age Married  Number of Dependents          City  \\\n",
              "0     Female   37     Yes                     0  Frazier Park   \n",
              "1       Male   46      No                     0      Glendale   \n",
              "4     Female   75     Yes                     0     Camarillo   \n",
              "5     Female   23      No                     3      Midpines   \n",
              "7       Male   52     Yes                     0          Napa   \n",
              "...      ...  ...     ...                   ...           ...   \n",
              "7035  Female   20      No                     0   Los Angeles   \n",
              "7036  Female   53      No                     0          Hume   \n",
              "7038  Female   20      No                     0       La Mesa   \n",
              "7040    Male   22      No                     0           Elk   \n",
              "7041    Male   21     Yes                     0  Solana Beach   \n",
              "\n",
              "      Number of Referrals  Tenure in Months    Offer Phone Service  \\\n",
              "0                       2                 9     None           Yes   \n",
              "1                       0                 9     None           Yes   \n",
              "4                       3                 3     None           Yes   \n",
              "5                       0                 9  Offer E           Yes   \n",
              "7                       8                63  Offer B           Yes   \n",
              "...                   ...               ...      ...           ...   \n",
              "7035                    0                 7  Offer E           Yes   \n",
              "7036                    0                 1  Offer E           Yes   \n",
              "7038                    0                13  Offer D           Yes   \n",
              "7040                    0                 2  Offer E           Yes   \n",
              "7041                    5                67  Offer A           Yes   \n",
              "\n",
              "      Avg Monthly Long Distance Charges  ... Unlimited Data        Contract  \\\n",
              "0                                 42.39  ...            Yes        One Year   \n",
              "1                                 10.69  ...             No  Month-to-Month   \n",
              "4                                  7.38  ...            Yes  Month-to-Month   \n",
              "5                                 16.77  ...            Yes  Month-to-Month   \n",
              "7                                 12.96  ...             No        Two Year   \n",
              "...                                 ...  ...            ...             ...   \n",
              "7035                              36.49  ...            Yes        One Year   \n",
              "7036                              42.09  ...            Yes  Month-to-Month   \n",
              "7038                              46.68  ...            Yes        One Year   \n",
              "7040                              18.62  ...            Yes  Month-to-Month   \n",
              "7041                               2.12  ...            Yes        Two Year   \n",
              "\n",
              "     Paperless Billing  Payment Method Monthly Charge Total Charges  \\\n",
              "0                  Yes     Credit Card          65.60        593.30   \n",
              "1                   No     Credit Card          -4.00        542.40   \n",
              "4                  Yes     Credit Card          83.90        267.40   \n",
              "5                  Yes     Credit Card          69.40        571.45   \n",
              "7                  Yes     Credit Card          84.65       5377.80   \n",
              "...                ...             ...            ...           ...   \n",
              "7035               Yes     Credit Card          94.05        633.45   \n",
              "7036               Yes     Credit Card          70.15         70.15   \n",
              "7038                No     Credit Card          55.15        742.90   \n",
              "7040               Yes     Credit Card          50.30         92.75   \n",
              "7041                No     Credit Card          67.85       4627.65   \n",
              "\n",
              "     Total Extra Data Charges Total Long Distance Charges Total Revenue  \\\n",
              "0                           0                      381.51        974.81   \n",
              "1                          10                       96.21        610.28   \n",
              "4                           0                       22.14        289.54   \n",
              "5                           0                      150.93        722.38   \n",
              "7                          20                      816.48       6214.28   \n",
              "...                       ...                         ...           ...   \n",
              "7035                        0                      255.43        888.88   \n",
              "7036                        0                       42.09        112.24   \n",
              "7038                        0                      606.84       1349.74   \n",
              "7040                        0                       37.24        129.99   \n",
              "7041                        0                      142.04       4769.69   \n",
              "\n",
              "     Customer Status  \n",
              "0             Stayed  \n",
              "1             Stayed  \n",
              "4            Churned  \n",
              "5             Stayed  \n",
              "7             Stayed  \n",
              "...              ...  \n",
              "7035          Stayed  \n",
              "7036         Churned  \n",
              "7038          Stayed  \n",
              "7040          Joined  \n",
              "7041          Stayed  \n",
              "\n",
              "[1558 rows x 31 columns]"
            ],
            "text/html": [
              "\n",
              "  <div id=\"df-e4e79658-0837-4919-9a9d-fe597b1969ca\">\n",
              "    <div class=\"colab-df-container\">\n",
              "      <div>\n",
              "<style scoped>\n",
              "    .dataframe tbody tr th:only-of-type {\n",
              "        vertical-align: middle;\n",
              "    }\n",
              "\n",
              "    .dataframe tbody tr th {\n",
              "        vertical-align: top;\n",
              "    }\n",
              "\n",
              "    .dataframe thead th {\n",
              "        text-align: right;\n",
              "    }\n",
              "</style>\n",
              "<table border=\"1\" class=\"dataframe\">\n",
              "  <thead>\n",
              "    <tr style=\"text-align: right;\">\n",
              "      <th></th>\n",
              "      <th>Gender</th>\n",
              "      <th>Age</th>\n",
              "      <th>Married</th>\n",
              "      <th>Number of Dependents</th>\n",
              "      <th>City</th>\n",
              "      <th>Number of Referrals</th>\n",
              "      <th>Tenure in Months</th>\n",
              "      <th>Offer</th>\n",
              "      <th>Phone Service</th>\n",
              "      <th>Avg Monthly Long Distance Charges</th>\n",
              "      <th>...</th>\n",
              "      <th>Unlimited Data</th>\n",
              "      <th>Contract</th>\n",
              "      <th>Paperless Billing</th>\n",
              "      <th>Payment Method</th>\n",
              "      <th>Monthly Charge</th>\n",
              "      <th>Total Charges</th>\n",
              "      <th>Total Extra Data Charges</th>\n",
              "      <th>Total Long Distance Charges</th>\n",
              "      <th>Total Revenue</th>\n",
              "      <th>Customer Status</th>\n",
              "    </tr>\n",
              "  </thead>\n",
              "  <tbody>\n",
              "    <tr>\n",
              "      <th>0</th>\n",
              "      <td>Female</td>\n",
              "      <td>37</td>\n",
              "      <td>Yes</td>\n",
              "      <td>0</td>\n",
              "      <td>Frazier Park</td>\n",
              "      <td>2</td>\n",
              "      <td>9</td>\n",
              "      <td>None</td>\n",
              "      <td>Yes</td>\n",
              "      <td>42.39</td>\n",
              "      <td>...</td>\n",
              "      <td>Yes</td>\n",
              "      <td>One Year</td>\n",
              "      <td>Yes</td>\n",
              "      <td>Credit Card</td>\n",
              "      <td>65.60</td>\n",
              "      <td>593.30</td>\n",
              "      <td>0</td>\n",
              "      <td>381.51</td>\n",
              "      <td>974.81</td>\n",
              "      <td>Stayed</td>\n",
              "    </tr>\n",
              "    <tr>\n",
              "      <th>1</th>\n",
              "      <td>Male</td>\n",
              "      <td>46</td>\n",
              "      <td>No</td>\n",
              "      <td>0</td>\n",
              "      <td>Glendale</td>\n",
              "      <td>0</td>\n",
              "      <td>9</td>\n",
              "      <td>None</td>\n",
              "      <td>Yes</td>\n",
              "      <td>10.69</td>\n",
              "      <td>...</td>\n",
              "      <td>No</td>\n",
              "      <td>Month-to-Month</td>\n",
              "      <td>No</td>\n",
              "      <td>Credit Card</td>\n",
              "      <td>-4.00</td>\n",
              "      <td>542.40</td>\n",
              "      <td>10</td>\n",
              "      <td>96.21</td>\n",
              "      <td>610.28</td>\n",
              "      <td>Stayed</td>\n",
              "    </tr>\n",
              "    <tr>\n",
              "      <th>4</th>\n",
              "      <td>Female</td>\n",
              "      <td>75</td>\n",
              "      <td>Yes</td>\n",
              "      <td>0</td>\n",
              "      <td>Camarillo</td>\n",
              "      <td>3</td>\n",
              "      <td>3</td>\n",
              "      <td>None</td>\n",
              "      <td>Yes</td>\n",
              "      <td>7.38</td>\n",
              "      <td>...</td>\n",
              "      <td>Yes</td>\n",
              "      <td>Month-to-Month</td>\n",
              "      <td>Yes</td>\n",
              "      <td>Credit Card</td>\n",
              "      <td>83.90</td>\n",
              "      <td>267.40</td>\n",
              "      <td>0</td>\n",
              "      <td>22.14</td>\n",
              "      <td>289.54</td>\n",
              "      <td>Churned</td>\n",
              "    </tr>\n",
              "    <tr>\n",
              "      <th>5</th>\n",
              "      <td>Female</td>\n",
              "      <td>23</td>\n",
              "      <td>No</td>\n",
              "      <td>3</td>\n",
              "      <td>Midpines</td>\n",
              "      <td>0</td>\n",
              "      <td>9</td>\n",
              "      <td>Offer E</td>\n",
              "      <td>Yes</td>\n",
              "      <td>16.77</td>\n",
              "      <td>...</td>\n",
              "      <td>Yes</td>\n",
              "      <td>Month-to-Month</td>\n",
              "      <td>Yes</td>\n",
              "      <td>Credit Card</td>\n",
              "      <td>69.40</td>\n",
              "      <td>571.45</td>\n",
              "      <td>0</td>\n",
              "      <td>150.93</td>\n",
              "      <td>722.38</td>\n",
              "      <td>Stayed</td>\n",
              "    </tr>\n",
              "    <tr>\n",
              "      <th>7</th>\n",
              "      <td>Male</td>\n",
              "      <td>52</td>\n",
              "      <td>Yes</td>\n",
              "      <td>0</td>\n",
              "      <td>Napa</td>\n",
              "      <td>8</td>\n",
              "      <td>63</td>\n",
              "      <td>Offer B</td>\n",
              "      <td>Yes</td>\n",
              "      <td>12.96</td>\n",
              "      <td>...</td>\n",
              "      <td>No</td>\n",
              "      <td>Two Year</td>\n",
              "      <td>Yes</td>\n",
              "      <td>Credit Card</td>\n",
              "      <td>84.65</td>\n",
              "      <td>5377.80</td>\n",
              "      <td>20</td>\n",
              "      <td>816.48</td>\n",
              "      <td>6214.28</td>\n",
              "      <td>Stayed</td>\n",
              "    </tr>\n",
              "    <tr>\n",
              "      <th>...</th>\n",
              "      <td>...</td>\n",
              "      <td>...</td>\n",
              "      <td>...</td>\n",
              "      <td>...</td>\n",
              "      <td>...</td>\n",
              "      <td>...</td>\n",
              "      <td>...</td>\n",
              "      <td>...</td>\n",
              "      <td>...</td>\n",
              "      <td>...</td>\n",
              "      <td>...</td>\n",
              "      <td>...</td>\n",
              "      <td>...</td>\n",
              "      <td>...</td>\n",
              "      <td>...</td>\n",
              "      <td>...</td>\n",
              "      <td>...</td>\n",
              "      <td>...</td>\n",
              "      <td>...</td>\n",
              "      <td>...</td>\n",
              "      <td>...</td>\n",
              "    </tr>\n",
              "    <tr>\n",
              "      <th>7035</th>\n",
              "      <td>Female</td>\n",
              "      <td>20</td>\n",
              "      <td>No</td>\n",
              "      <td>0</td>\n",
              "      <td>Los Angeles</td>\n",
              "      <td>0</td>\n",
              "      <td>7</td>\n",
              "      <td>Offer E</td>\n",
              "      <td>Yes</td>\n",
              "      <td>36.49</td>\n",
              "      <td>...</td>\n",
              "      <td>Yes</td>\n",
              "      <td>One Year</td>\n",
              "      <td>Yes</td>\n",
              "      <td>Credit Card</td>\n",
              "      <td>94.05</td>\n",
              "      <td>633.45</td>\n",
              "      <td>0</td>\n",
              "      <td>255.43</td>\n",
              "      <td>888.88</td>\n",
              "      <td>Stayed</td>\n",
              "    </tr>\n",
              "    <tr>\n",
              "      <th>7036</th>\n",
              "      <td>Female</td>\n",
              "      <td>53</td>\n",
              "      <td>No</td>\n",
              "      <td>0</td>\n",
              "      <td>Hume</td>\n",
              "      <td>0</td>\n",
              "      <td>1</td>\n",
              "      <td>Offer E</td>\n",
              "      <td>Yes</td>\n",
              "      <td>42.09</td>\n",
              "      <td>...</td>\n",
              "      <td>Yes</td>\n",
              "      <td>Month-to-Month</td>\n",
              "      <td>Yes</td>\n",
              "      <td>Credit Card</td>\n",
              "      <td>70.15</td>\n",
              "      <td>70.15</td>\n",
              "      <td>0</td>\n",
              "      <td>42.09</td>\n",
              "      <td>112.24</td>\n",
              "      <td>Churned</td>\n",
              "    </tr>\n",
              "    <tr>\n",
              "      <th>7038</th>\n",
              "      <td>Female</td>\n",
              "      <td>20</td>\n",
              "      <td>No</td>\n",
              "      <td>0</td>\n",
              "      <td>La Mesa</td>\n",
              "      <td>0</td>\n",
              "      <td>13</td>\n",
              "      <td>Offer D</td>\n",
              "      <td>Yes</td>\n",
              "      <td>46.68</td>\n",
              "      <td>...</td>\n",
              "      <td>Yes</td>\n",
              "      <td>One Year</td>\n",
              "      <td>No</td>\n",
              "      <td>Credit Card</td>\n",
              "      <td>55.15</td>\n",
              "      <td>742.90</td>\n",
              "      <td>0</td>\n",
              "      <td>606.84</td>\n",
              "      <td>1349.74</td>\n",
              "      <td>Stayed</td>\n",
              "    </tr>\n",
              "    <tr>\n",
              "      <th>7040</th>\n",
              "      <td>Male</td>\n",
              "      <td>22</td>\n",
              "      <td>No</td>\n",
              "      <td>0</td>\n",
              "      <td>Elk</td>\n",
              "      <td>0</td>\n",
              "      <td>2</td>\n",
              "      <td>Offer E</td>\n",
              "      <td>Yes</td>\n",
              "      <td>18.62</td>\n",
              "      <td>...</td>\n",
              "      <td>Yes</td>\n",
              "      <td>Month-to-Month</td>\n",
              "      <td>Yes</td>\n",
              "      <td>Credit Card</td>\n",
              "      <td>50.30</td>\n",
              "      <td>92.75</td>\n",
              "      <td>0</td>\n",
              "      <td>37.24</td>\n",
              "      <td>129.99</td>\n",
              "      <td>Joined</td>\n",
              "    </tr>\n",
              "    <tr>\n",
              "      <th>7041</th>\n",
              "      <td>Male</td>\n",
              "      <td>21</td>\n",
              "      <td>Yes</td>\n",
              "      <td>0</td>\n",
              "      <td>Solana Beach</td>\n",
              "      <td>5</td>\n",
              "      <td>67</td>\n",
              "      <td>Offer A</td>\n",
              "      <td>Yes</td>\n",
              "      <td>2.12</td>\n",
              "      <td>...</td>\n",
              "      <td>Yes</td>\n",
              "      <td>Two Year</td>\n",
              "      <td>No</td>\n",
              "      <td>Credit Card</td>\n",
              "      <td>67.85</td>\n",
              "      <td>4627.65</td>\n",
              "      <td>0</td>\n",
              "      <td>142.04</td>\n",
              "      <td>4769.69</td>\n",
              "      <td>Stayed</td>\n",
              "    </tr>\n",
              "  </tbody>\n",
              "</table>\n",
              "<p>1558 rows × 31 columns</p>\n",
              "</div>\n",
              "      <button class=\"colab-df-convert\" onclick=\"convertToInteractive('df-e4e79658-0837-4919-9a9d-fe597b1969ca')\"\n",
              "              title=\"Convert this dataframe to an interactive table.\"\n",
              "              style=\"display:none;\">\n",
              "        \n",
              "  <svg xmlns=\"http://www.w3.org/2000/svg\" height=\"24px\"viewBox=\"0 0 24 24\"\n",
              "       width=\"24px\">\n",
              "    <path d=\"M0 0h24v24H0V0z\" fill=\"none\"/>\n",
              "    <path d=\"M18.56 5.44l.94 2.06.94-2.06 2.06-.94-2.06-.94-.94-2.06-.94 2.06-2.06.94zm-11 1L8.5 8.5l.94-2.06 2.06-.94-2.06-.94L8.5 2.5l-.94 2.06-2.06.94zm10 10l.94 2.06.94-2.06 2.06-.94-2.06-.94-.94-2.06-.94 2.06-2.06.94z\"/><path d=\"M17.41 7.96l-1.37-1.37c-.4-.4-.92-.59-1.43-.59-.52 0-1.04.2-1.43.59L10.3 9.45l-7.72 7.72c-.78.78-.78 2.05 0 2.83L4 21.41c.39.39.9.59 1.41.59.51 0 1.02-.2 1.41-.59l7.78-7.78 2.81-2.81c.8-.78.8-2.07 0-2.86zM5.41 20L4 18.59l7.72-7.72 1.47 1.35L5.41 20z\"/>\n",
              "  </svg>\n",
              "      </button>\n",
              "      \n",
              "  <style>\n",
              "    .colab-df-container {\n",
              "      display:flex;\n",
              "      flex-wrap:wrap;\n",
              "      gap: 12px;\n",
              "    }\n",
              "\n",
              "    .colab-df-convert {\n",
              "      background-color: #E8F0FE;\n",
              "      border: none;\n",
              "      border-radius: 50%;\n",
              "      cursor: pointer;\n",
              "      display: none;\n",
              "      fill: #1967D2;\n",
              "      height: 32px;\n",
              "      padding: 0 0 0 0;\n",
              "      width: 32px;\n",
              "    }\n",
              "\n",
              "    .colab-df-convert:hover {\n",
              "      background-color: #E2EBFA;\n",
              "      box-shadow: 0px 1px 2px rgba(60, 64, 67, 0.3), 0px 1px 3px 1px rgba(60, 64, 67, 0.15);\n",
              "      fill: #174EA6;\n",
              "    }\n",
              "\n",
              "    [theme=dark] .colab-df-convert {\n",
              "      background-color: #3B4455;\n",
              "      fill: #D2E3FC;\n",
              "    }\n",
              "\n",
              "    [theme=dark] .colab-df-convert:hover {\n",
              "      background-color: #434B5C;\n",
              "      box-shadow: 0px 1px 3px 1px rgba(0, 0, 0, 0.15);\n",
              "      filter: drop-shadow(0px 1px 2px rgba(0, 0, 0, 0.3));\n",
              "      fill: #FFFFFF;\n",
              "    }\n",
              "  </style>\n",
              "\n",
              "      <script>\n",
              "        const buttonEl =\n",
              "          document.querySelector('#df-e4e79658-0837-4919-9a9d-fe597b1969ca button.colab-df-convert');\n",
              "        buttonEl.style.display =\n",
              "          google.colab.kernel.accessAllowed ? 'block' : 'none';\n",
              "\n",
              "        async function convertToInteractive(key) {\n",
              "          const element = document.querySelector('#df-e4e79658-0837-4919-9a9d-fe597b1969ca');\n",
              "          const dataTable =\n",
              "            await google.colab.kernel.invokeFunction('convertToInteractive',\n",
              "                                                     [key], {});\n",
              "          if (!dataTable) return;\n",
              "\n",
              "          const docLinkHtml = 'Like what you see? Visit the ' +\n",
              "            '<a target=\"_blank\" href=https://colab.research.google.com/notebooks/data_table.ipynb>data table notebook</a>'\n",
              "            + ' to learn more about interactive tables.';\n",
              "          element.innerHTML = '';\n",
              "          dataTable['output_type'] = 'display_data';\n",
              "          await google.colab.output.renderOutput(dataTable, element);\n",
              "          const docLink = document.createElement('div');\n",
              "          docLink.innerHTML = docLinkHtml;\n",
              "          element.appendChild(docLink);\n",
              "        }\n",
              "      </script>\n",
              "    </div>\n",
              "  </div>\n",
              "  "
            ]
          },
          "metadata": {},
          "execution_count": 136
        }
      ],
      "source": [
        "Roles['Credit Card']"
      ]
    },
    {
      "cell_type": "code",
      "execution_count": 137,
      "id": "b5a4315f",
      "metadata": {
        "execution": {
          "iopub.execute_input": "2022-10-14T19:27:34.305502Z",
          "iopub.status.busy": "2022-10-14T19:27:34.305086Z",
          "iopub.status.idle": "2022-10-14T19:27:34.311559Z",
          "shell.execute_reply": "2022-10-14T19:27:34.310565Z"
        },
        "papermill": {
          "duration": 0.035473,
          "end_time": "2022-10-14T19:27:34.313833",
          "exception": false,
          "start_time": "2022-10-14T19:27:34.278360",
          "status": "completed"
        },
        "tags": [],
        "id": "b5a4315f",
        "outputId": "f5cfe268-32df-4664-d5ce-3d8112359cc0",
        "colab": {
          "base_uri": "https://localhost:8080/"
        }
      },
      "outputs": [
        {
          "output_type": "execute_result",
          "data": {
            "text/plain": [
              "3"
            ]
          },
          "metadata": {},
          "execution_count": 137
        }
      ],
      "source": [
        "len(Roles)\n"
      ]
    },
    {
      "cell_type": "markdown",
      "source": [
        "Checking the number of Offers in the dataset"
      ],
      "metadata": {
        "id": "MhnCkIwbEGtA"
      },
      "id": "MhnCkIwbEGtA"
    },
    {
      "cell_type": "code",
      "execution_count": 138,
      "id": "65e2aaa7",
      "metadata": {
        "execution": {
          "iopub.execute_input": "2022-10-14T19:27:34.364863Z",
          "iopub.status.busy": "2022-10-14T19:27:34.364114Z",
          "iopub.status.idle": "2022-10-14T19:27:34.372716Z",
          "shell.execute_reply": "2022-10-14T19:27:34.371687Z"
        },
        "papermill": {
          "duration": 0.036394,
          "end_time": "2022-10-14T19:27:34.374910",
          "exception": false,
          "start_time": "2022-10-14T19:27:34.338516",
          "status": "completed"
        },
        "tags": [],
        "id": "65e2aaa7",
        "outputId": "07958600-6c86-40f9-b013-d37038f448a5",
        "colab": {
          "base_uri": "https://localhost:8080/"
        }
      },
      "outputs": [
        {
          "output_type": "execute_result",
          "data": {
            "text/plain": [
              "None       2641\n",
              "Offer B     585\n",
              "Offer E     544\n",
              "Offer D     392\n",
              "Offer A     382\n",
              "Offer C     291\n",
              "Name: Offer, dtype: int64"
            ]
          },
          "metadata": {},
          "execution_count": 138
        }
      ],
      "source": [
        "off = df1['Offer'].value_counts()\n",
        "off\n"
      ]
    },
    {
      "cell_type": "code",
      "source": [
        "import plotly.graph_objects as go"
      ],
      "metadata": {
        "id": "mapWd4bk74TS"
      },
      "id": "mapWd4bk74TS",
      "execution_count": 139,
      "outputs": []
    },
    {
      "cell_type": "code",
      "execution_count": 140,
      "id": "fc06e605",
      "metadata": {
        "execution": {
          "iopub.execute_input": "2022-10-14T19:27:34.427356Z",
          "iopub.status.busy": "2022-10-14T19:27:34.426948Z",
          "iopub.status.idle": "2022-10-14T19:27:34.441228Z",
          "shell.execute_reply": "2022-10-14T19:27:34.440071Z"
        },
        "papermill": {
          "duration": 0.044138,
          "end_time": "2022-10-14T19:27:34.443724",
          "exception": false,
          "start_time": "2022-10-14T19:27:34.399586",
          "status": "completed"
        },
        "tags": [],
        "id": "fc06e605",
        "outputId": "03986938-57e5-4749-8238-ca4d03b9beda",
        "colab": {
          "base_uri": "https://localhost:8080/",
          "height": 542
        }
      },
      "outputs": [
        {
          "output_type": "display_data",
          "data": {
            "text/html": [
              "<html>\n",
              "<head><meta charset=\"utf-8\" /></head>\n",
              "<body>\n",
              "    <div>            <script src=\"https://cdnjs.cloudflare.com/ajax/libs/mathjax/2.7.5/MathJax.js?config=TeX-AMS-MML_SVG\"></script><script type=\"text/javascript\">if (window.MathJax) {MathJax.Hub.Config({SVG: {font: \"STIX-Web\"}});}</script>                <script type=\"text/javascript\">window.PlotlyConfig = {MathJaxConfig: 'local'};</script>\n",
              "        <script src=\"https://cdn.plot.ly/plotly-2.8.3.min.js\"></script>                <div id=\"cfba3519-9770-46a4-af1d-b3cb096d7bd6\" class=\"plotly-graph-div\" style=\"height:525px; width:100%;\"></div>            <script type=\"text/javascript\">                                    window.PLOTLYENV=window.PLOTLYENV || {};                                    if (document.getElementById(\"cfba3519-9770-46a4-af1d-b3cb096d7bd6\")) {                    Plotly.newPlot(                        \"cfba3519-9770-46a4-af1d-b3cb096d7bd6\",                        [{\"x\":[\"None\",\"Offer B\",\"Offer E\",\"Offer D\",\"Offer A\",\"Offer C\"],\"y\":[2641,585,544,392,382,291],\"type\":\"bar\"}],                        {\"template\":{\"data\":{\"bar\":[{\"error_x\":{\"color\":\"#2a3f5f\"},\"error_y\":{\"color\":\"#2a3f5f\"},\"marker\":{\"line\":{\"color\":\"#E5ECF6\",\"width\":0.5},\"pattern\":{\"fillmode\":\"overlay\",\"size\":10,\"solidity\":0.2}},\"type\":\"bar\"}],\"barpolar\":[{\"marker\":{\"line\":{\"color\":\"#E5ECF6\",\"width\":0.5},\"pattern\":{\"fillmode\":\"overlay\",\"size\":10,\"solidity\":0.2}},\"type\":\"barpolar\"}],\"carpet\":[{\"aaxis\":{\"endlinecolor\":\"#2a3f5f\",\"gridcolor\":\"white\",\"linecolor\":\"white\",\"minorgridcolor\":\"white\",\"startlinecolor\":\"#2a3f5f\"},\"baxis\":{\"endlinecolor\":\"#2a3f5f\",\"gridcolor\":\"white\",\"linecolor\":\"white\",\"minorgridcolor\":\"white\",\"startlinecolor\":\"#2a3f5f\"},\"type\":\"carpet\"}],\"choropleth\":[{\"colorbar\":{\"outlinewidth\":0,\"ticks\":\"\"},\"type\":\"choropleth\"}],\"contour\":[{\"colorbar\":{\"outlinewidth\":0,\"ticks\":\"\"},\"colorscale\":[[0.0,\"#0d0887\"],[0.1111111111111111,\"#46039f\"],[0.2222222222222222,\"#7201a8\"],[0.3333333333333333,\"#9c179e\"],[0.4444444444444444,\"#bd3786\"],[0.5555555555555556,\"#d8576b\"],[0.6666666666666666,\"#ed7953\"],[0.7777777777777778,\"#fb9f3a\"],[0.8888888888888888,\"#fdca26\"],[1.0,\"#f0f921\"]],\"type\":\"contour\"}],\"contourcarpet\":[{\"colorbar\":{\"outlinewidth\":0,\"ticks\":\"\"},\"type\":\"contourcarpet\"}],\"heatmap\":[{\"colorbar\":{\"outlinewidth\":0,\"ticks\":\"\"},\"colorscale\":[[0.0,\"#0d0887\"],[0.1111111111111111,\"#46039f\"],[0.2222222222222222,\"#7201a8\"],[0.3333333333333333,\"#9c179e\"],[0.4444444444444444,\"#bd3786\"],[0.5555555555555556,\"#d8576b\"],[0.6666666666666666,\"#ed7953\"],[0.7777777777777778,\"#fb9f3a\"],[0.8888888888888888,\"#fdca26\"],[1.0,\"#f0f921\"]],\"type\":\"heatmap\"}],\"heatmapgl\":[{\"colorbar\":{\"outlinewidth\":0,\"ticks\":\"\"},\"colorscale\":[[0.0,\"#0d0887\"],[0.1111111111111111,\"#46039f\"],[0.2222222222222222,\"#7201a8\"],[0.3333333333333333,\"#9c179e\"],[0.4444444444444444,\"#bd3786\"],[0.5555555555555556,\"#d8576b\"],[0.6666666666666666,\"#ed7953\"],[0.7777777777777778,\"#fb9f3a\"],[0.8888888888888888,\"#fdca26\"],[1.0,\"#f0f921\"]],\"type\":\"heatmapgl\"}],\"histogram\":[{\"marker\":{\"pattern\":{\"fillmode\":\"overlay\",\"size\":10,\"solidity\":0.2}},\"type\":\"histogram\"}],\"histogram2d\":[{\"colorbar\":{\"outlinewidth\":0,\"ticks\":\"\"},\"colorscale\":[[0.0,\"#0d0887\"],[0.1111111111111111,\"#46039f\"],[0.2222222222222222,\"#7201a8\"],[0.3333333333333333,\"#9c179e\"],[0.4444444444444444,\"#bd3786\"],[0.5555555555555556,\"#d8576b\"],[0.6666666666666666,\"#ed7953\"],[0.7777777777777778,\"#fb9f3a\"],[0.8888888888888888,\"#fdca26\"],[1.0,\"#f0f921\"]],\"type\":\"histogram2d\"}],\"histogram2dcontour\":[{\"colorbar\":{\"outlinewidth\":0,\"ticks\":\"\"},\"colorscale\":[[0.0,\"#0d0887\"],[0.1111111111111111,\"#46039f\"],[0.2222222222222222,\"#7201a8\"],[0.3333333333333333,\"#9c179e\"],[0.4444444444444444,\"#bd3786\"],[0.5555555555555556,\"#d8576b\"],[0.6666666666666666,\"#ed7953\"],[0.7777777777777778,\"#fb9f3a\"],[0.8888888888888888,\"#fdca26\"],[1.0,\"#f0f921\"]],\"type\":\"histogram2dcontour\"}],\"mesh3d\":[{\"colorbar\":{\"outlinewidth\":0,\"ticks\":\"\"},\"type\":\"mesh3d\"}],\"parcoords\":[{\"line\":{\"colorbar\":{\"outlinewidth\":0,\"ticks\":\"\"}},\"type\":\"parcoords\"}],\"pie\":[{\"automargin\":true,\"type\":\"pie\"}],\"scatter\":[{\"marker\":{\"colorbar\":{\"outlinewidth\":0,\"ticks\":\"\"}},\"type\":\"scatter\"}],\"scatter3d\":[{\"line\":{\"colorbar\":{\"outlinewidth\":0,\"ticks\":\"\"}},\"marker\":{\"colorbar\":{\"outlinewidth\":0,\"ticks\":\"\"}},\"type\":\"scatter3d\"}],\"scattercarpet\":[{\"marker\":{\"colorbar\":{\"outlinewidth\":0,\"ticks\":\"\"}},\"type\":\"scattercarpet\"}],\"scattergeo\":[{\"marker\":{\"colorbar\":{\"outlinewidth\":0,\"ticks\":\"\"}},\"type\":\"scattergeo\"}],\"scattergl\":[{\"marker\":{\"colorbar\":{\"outlinewidth\":0,\"ticks\":\"\"}},\"type\":\"scattergl\"}],\"scattermapbox\":[{\"marker\":{\"colorbar\":{\"outlinewidth\":0,\"ticks\":\"\"}},\"type\":\"scattermapbox\"}],\"scatterpolar\":[{\"marker\":{\"colorbar\":{\"outlinewidth\":0,\"ticks\":\"\"}},\"type\":\"scatterpolar\"}],\"scatterpolargl\":[{\"marker\":{\"colorbar\":{\"outlinewidth\":0,\"ticks\":\"\"}},\"type\":\"scatterpolargl\"}],\"scatterternary\":[{\"marker\":{\"colorbar\":{\"outlinewidth\":0,\"ticks\":\"\"}},\"type\":\"scatterternary\"}],\"surface\":[{\"colorbar\":{\"outlinewidth\":0,\"ticks\":\"\"},\"colorscale\":[[0.0,\"#0d0887\"],[0.1111111111111111,\"#46039f\"],[0.2222222222222222,\"#7201a8\"],[0.3333333333333333,\"#9c179e\"],[0.4444444444444444,\"#bd3786\"],[0.5555555555555556,\"#d8576b\"],[0.6666666666666666,\"#ed7953\"],[0.7777777777777778,\"#fb9f3a\"],[0.8888888888888888,\"#fdca26\"],[1.0,\"#f0f921\"]],\"type\":\"surface\"}],\"table\":[{\"cells\":{\"fill\":{\"color\":\"#EBF0F8\"},\"line\":{\"color\":\"white\"}},\"header\":{\"fill\":{\"color\":\"#C8D4E3\"},\"line\":{\"color\":\"white\"}},\"type\":\"table\"}]},\"layout\":{\"annotationdefaults\":{\"arrowcolor\":\"#2a3f5f\",\"arrowhead\":0,\"arrowwidth\":1},\"autotypenumbers\":\"strict\",\"coloraxis\":{\"colorbar\":{\"outlinewidth\":0,\"ticks\":\"\"}},\"colorscale\":{\"diverging\":[[0,\"#8e0152\"],[0.1,\"#c51b7d\"],[0.2,\"#de77ae\"],[0.3,\"#f1b6da\"],[0.4,\"#fde0ef\"],[0.5,\"#f7f7f7\"],[0.6,\"#e6f5d0\"],[0.7,\"#b8e186\"],[0.8,\"#7fbc41\"],[0.9,\"#4d9221\"],[1,\"#276419\"]],\"sequential\":[[0.0,\"#0d0887\"],[0.1111111111111111,\"#46039f\"],[0.2222222222222222,\"#7201a8\"],[0.3333333333333333,\"#9c179e\"],[0.4444444444444444,\"#bd3786\"],[0.5555555555555556,\"#d8576b\"],[0.6666666666666666,\"#ed7953\"],[0.7777777777777778,\"#fb9f3a\"],[0.8888888888888888,\"#fdca26\"],[1.0,\"#f0f921\"]],\"sequentialminus\":[[0.0,\"#0d0887\"],[0.1111111111111111,\"#46039f\"],[0.2222222222222222,\"#7201a8\"],[0.3333333333333333,\"#9c179e\"],[0.4444444444444444,\"#bd3786\"],[0.5555555555555556,\"#d8576b\"],[0.6666666666666666,\"#ed7953\"],[0.7777777777777778,\"#fb9f3a\"],[0.8888888888888888,\"#fdca26\"],[1.0,\"#f0f921\"]]},\"colorway\":[\"#636efa\",\"#EF553B\",\"#00cc96\",\"#ab63fa\",\"#FFA15A\",\"#19d3f3\",\"#FF6692\",\"#B6E880\",\"#FF97FF\",\"#FECB52\"],\"font\":{\"color\":\"#2a3f5f\"},\"geo\":{\"bgcolor\":\"white\",\"lakecolor\":\"white\",\"landcolor\":\"#E5ECF6\",\"showlakes\":true,\"showland\":true,\"subunitcolor\":\"white\"},\"hoverlabel\":{\"align\":\"left\"},\"hovermode\":\"closest\",\"mapbox\":{\"style\":\"light\"},\"paper_bgcolor\":\"white\",\"plot_bgcolor\":\"#E5ECF6\",\"polar\":{\"angularaxis\":{\"gridcolor\":\"white\",\"linecolor\":\"white\",\"ticks\":\"\"},\"bgcolor\":\"#E5ECF6\",\"radialaxis\":{\"gridcolor\":\"white\",\"linecolor\":\"white\",\"ticks\":\"\"}},\"scene\":{\"xaxis\":{\"backgroundcolor\":\"#E5ECF6\",\"gridcolor\":\"white\",\"gridwidth\":2,\"linecolor\":\"white\",\"showbackground\":true,\"ticks\":\"\",\"zerolinecolor\":\"white\"},\"yaxis\":{\"backgroundcolor\":\"#E5ECF6\",\"gridcolor\":\"white\",\"gridwidth\":2,\"linecolor\":\"white\",\"showbackground\":true,\"ticks\":\"\",\"zerolinecolor\":\"white\"},\"zaxis\":{\"backgroundcolor\":\"#E5ECF6\",\"gridcolor\":\"white\",\"gridwidth\":2,\"linecolor\":\"white\",\"showbackground\":true,\"ticks\":\"\",\"zerolinecolor\":\"white\"}},\"shapedefaults\":{\"line\":{\"color\":\"#2a3f5f\"}},\"ternary\":{\"aaxis\":{\"gridcolor\":\"white\",\"linecolor\":\"white\",\"ticks\":\"\"},\"baxis\":{\"gridcolor\":\"white\",\"linecolor\":\"white\",\"ticks\":\"\"},\"bgcolor\":\"#E5ECF6\",\"caxis\":{\"gridcolor\":\"white\",\"linecolor\":\"white\",\"ticks\":\"\"}},\"title\":{\"x\":0.05},\"xaxis\":{\"automargin\":true,\"gridcolor\":\"white\",\"linecolor\":\"white\",\"ticks\":\"\",\"title\":{\"standoff\":15},\"zerolinecolor\":\"white\",\"zerolinewidth\":2},\"yaxis\":{\"automargin\":true,\"gridcolor\":\"white\",\"linecolor\":\"white\",\"ticks\":\"\",\"title\":{\"standoff\":15},\"zerolinecolor\":\"white\",\"zerolinewidth\":2}}}},                        {\"responsive\": true}                    ).then(function(){\n",
              "                            \n",
              "var gd = document.getElementById('cfba3519-9770-46a4-af1d-b3cb096d7bd6');\n",
              "var x = new MutationObserver(function (mutations, observer) {{\n",
              "        var display = window.getComputedStyle(gd).display;\n",
              "        if (!display || display === 'none') {{\n",
              "            console.log([gd, 'removed!']);\n",
              "            Plotly.purge(gd);\n",
              "            observer.disconnect();\n",
              "        }}\n",
              "}});\n",
              "\n",
              "// Listen for the removal of the full notebook cells\n",
              "var notebookContainer = gd.closest('#notebook-container');\n",
              "if (notebookContainer) {{\n",
              "    x.observe(notebookContainer, {childList: true});\n",
              "}}\n",
              "\n",
              "// Listen for the clearing of the current output cell\n",
              "var outputEl = gd.closest('.output');\n",
              "if (outputEl) {{\n",
              "    x.observe(outputEl, {childList: true});\n",
              "}}\n",
              "\n",
              "                        })                };                            </script>        </div>\n",
              "</body>\n",
              "</html>"
            ]
          },
          "metadata": {}
        }
      ],
      "source": [
        "fig = go.Figure([go.Bar(x=off.index, y=off.values)])\n",
        "fig.show()"
      ]
    },
    {
      "cell_type": "code",
      "execution_count": 141,
      "id": "56fbeefb",
      "metadata": {
        "execution": {
          "iopub.execute_input": "2022-10-14T19:27:34.496529Z",
          "iopub.status.busy": "2022-10-14T19:27:34.496124Z",
          "iopub.status.idle": "2022-10-14T19:27:34.504946Z",
          "shell.execute_reply": "2022-10-14T19:27:34.503989Z"
        },
        "papermill": {
          "duration": 0.03816,
          "end_time": "2022-10-14T19:27:34.507117",
          "exception": false,
          "start_time": "2022-10-14T19:27:34.468957",
          "status": "completed"
        },
        "tags": [],
        "id": "56fbeefb",
        "outputId": "b3c3416a-9024-401b-b934-848d838b0c6e",
        "colab": {
          "base_uri": "https://localhost:8080/"
        }
      },
      "outputs": [
        {
          "output_type": "execute_result",
          "data": {
            "text/plain": [
              "None       842\n",
              "Offer B    204\n",
              "Offer A    171\n",
              "Offer E    126\n",
              "Offer D    119\n",
              "Offer C     96\n",
              "Name: Offer, dtype: int64"
            ]
          },
          "metadata": {},
          "execution_count": 141
        }
      ],
      "source": [
        "df1_off = Roles['Credit Card'].Offer.value_counts()\n",
        "df1_off"
      ]
    },
    {
      "cell_type": "code",
      "execution_count": 142,
      "id": "322f15f8",
      "metadata": {
        "execution": {
          "iopub.execute_input": "2022-10-14T19:27:34.561097Z",
          "iopub.status.busy": "2022-10-14T19:27:34.560006Z",
          "iopub.status.idle": "2022-10-14T19:27:34.571294Z",
          "shell.execute_reply": "2022-10-14T19:27:34.570257Z"
        },
        "papermill": {
          "duration": 0.040662,
          "end_time": "2022-10-14T19:27:34.573417",
          "exception": false,
          "start_time": "2022-10-14T19:27:34.532755",
          "status": "completed"
        },
        "tags": [],
        "id": "322f15f8",
        "outputId": "b708dfcd-a01f-42b0-c0e3-c7811411e217",
        "colab": {
          "base_uri": "https://localhost:8080/",
          "height": 542
        }
      },
      "outputs": [
        {
          "output_type": "display_data",
          "data": {
            "text/html": [
              "<html>\n",
              "<head><meta charset=\"utf-8\" /></head>\n",
              "<body>\n",
              "    <div>            <script src=\"https://cdnjs.cloudflare.com/ajax/libs/mathjax/2.7.5/MathJax.js?config=TeX-AMS-MML_SVG\"></script><script type=\"text/javascript\">if (window.MathJax) {MathJax.Hub.Config({SVG: {font: \"STIX-Web\"}});}</script>                <script type=\"text/javascript\">window.PlotlyConfig = {MathJaxConfig: 'local'};</script>\n",
              "        <script src=\"https://cdn.plot.ly/plotly-2.8.3.min.js\"></script>                <div id=\"0fabf496-1c0a-4f1c-a2e5-79c6fe3629bb\" class=\"plotly-graph-div\" style=\"height:525px; width:100%;\"></div>            <script type=\"text/javascript\">                                    window.PLOTLYENV=window.PLOTLYENV || {};                                    if (document.getElementById(\"0fabf496-1c0a-4f1c-a2e5-79c6fe3629bb\")) {                    Plotly.newPlot(                        \"0fabf496-1c0a-4f1c-a2e5-79c6fe3629bb\",                        [{\"x\":[\"None\",\"Offer B\",\"Offer A\",\"Offer E\",\"Offer D\",\"Offer C\"],\"y\":[842,204,171,126,119,96],\"type\":\"bar\"}],                        {\"template\":{\"data\":{\"bar\":[{\"error_x\":{\"color\":\"#2a3f5f\"},\"error_y\":{\"color\":\"#2a3f5f\"},\"marker\":{\"line\":{\"color\":\"#E5ECF6\",\"width\":0.5},\"pattern\":{\"fillmode\":\"overlay\",\"size\":10,\"solidity\":0.2}},\"type\":\"bar\"}],\"barpolar\":[{\"marker\":{\"line\":{\"color\":\"#E5ECF6\",\"width\":0.5},\"pattern\":{\"fillmode\":\"overlay\",\"size\":10,\"solidity\":0.2}},\"type\":\"barpolar\"}],\"carpet\":[{\"aaxis\":{\"endlinecolor\":\"#2a3f5f\",\"gridcolor\":\"white\",\"linecolor\":\"white\",\"minorgridcolor\":\"white\",\"startlinecolor\":\"#2a3f5f\"},\"baxis\":{\"endlinecolor\":\"#2a3f5f\",\"gridcolor\":\"white\",\"linecolor\":\"white\",\"minorgridcolor\":\"white\",\"startlinecolor\":\"#2a3f5f\"},\"type\":\"carpet\"}],\"choropleth\":[{\"colorbar\":{\"outlinewidth\":0,\"ticks\":\"\"},\"type\":\"choropleth\"}],\"contour\":[{\"colorbar\":{\"outlinewidth\":0,\"ticks\":\"\"},\"colorscale\":[[0.0,\"#0d0887\"],[0.1111111111111111,\"#46039f\"],[0.2222222222222222,\"#7201a8\"],[0.3333333333333333,\"#9c179e\"],[0.4444444444444444,\"#bd3786\"],[0.5555555555555556,\"#d8576b\"],[0.6666666666666666,\"#ed7953\"],[0.7777777777777778,\"#fb9f3a\"],[0.8888888888888888,\"#fdca26\"],[1.0,\"#f0f921\"]],\"type\":\"contour\"}],\"contourcarpet\":[{\"colorbar\":{\"outlinewidth\":0,\"ticks\":\"\"},\"type\":\"contourcarpet\"}],\"heatmap\":[{\"colorbar\":{\"outlinewidth\":0,\"ticks\":\"\"},\"colorscale\":[[0.0,\"#0d0887\"],[0.1111111111111111,\"#46039f\"],[0.2222222222222222,\"#7201a8\"],[0.3333333333333333,\"#9c179e\"],[0.4444444444444444,\"#bd3786\"],[0.5555555555555556,\"#d8576b\"],[0.6666666666666666,\"#ed7953\"],[0.7777777777777778,\"#fb9f3a\"],[0.8888888888888888,\"#fdca26\"],[1.0,\"#f0f921\"]],\"type\":\"heatmap\"}],\"heatmapgl\":[{\"colorbar\":{\"outlinewidth\":0,\"ticks\":\"\"},\"colorscale\":[[0.0,\"#0d0887\"],[0.1111111111111111,\"#46039f\"],[0.2222222222222222,\"#7201a8\"],[0.3333333333333333,\"#9c179e\"],[0.4444444444444444,\"#bd3786\"],[0.5555555555555556,\"#d8576b\"],[0.6666666666666666,\"#ed7953\"],[0.7777777777777778,\"#fb9f3a\"],[0.8888888888888888,\"#fdca26\"],[1.0,\"#f0f921\"]],\"type\":\"heatmapgl\"}],\"histogram\":[{\"marker\":{\"pattern\":{\"fillmode\":\"overlay\",\"size\":10,\"solidity\":0.2}},\"type\":\"histogram\"}],\"histogram2d\":[{\"colorbar\":{\"outlinewidth\":0,\"ticks\":\"\"},\"colorscale\":[[0.0,\"#0d0887\"],[0.1111111111111111,\"#46039f\"],[0.2222222222222222,\"#7201a8\"],[0.3333333333333333,\"#9c179e\"],[0.4444444444444444,\"#bd3786\"],[0.5555555555555556,\"#d8576b\"],[0.6666666666666666,\"#ed7953\"],[0.7777777777777778,\"#fb9f3a\"],[0.8888888888888888,\"#fdca26\"],[1.0,\"#f0f921\"]],\"type\":\"histogram2d\"}],\"histogram2dcontour\":[{\"colorbar\":{\"outlinewidth\":0,\"ticks\":\"\"},\"colorscale\":[[0.0,\"#0d0887\"],[0.1111111111111111,\"#46039f\"],[0.2222222222222222,\"#7201a8\"],[0.3333333333333333,\"#9c179e\"],[0.4444444444444444,\"#bd3786\"],[0.5555555555555556,\"#d8576b\"],[0.6666666666666666,\"#ed7953\"],[0.7777777777777778,\"#fb9f3a\"],[0.8888888888888888,\"#fdca26\"],[1.0,\"#f0f921\"]],\"type\":\"histogram2dcontour\"}],\"mesh3d\":[{\"colorbar\":{\"outlinewidth\":0,\"ticks\":\"\"},\"type\":\"mesh3d\"}],\"parcoords\":[{\"line\":{\"colorbar\":{\"outlinewidth\":0,\"ticks\":\"\"}},\"type\":\"parcoords\"}],\"pie\":[{\"automargin\":true,\"type\":\"pie\"}],\"scatter\":[{\"marker\":{\"colorbar\":{\"outlinewidth\":0,\"ticks\":\"\"}},\"type\":\"scatter\"}],\"scatter3d\":[{\"line\":{\"colorbar\":{\"outlinewidth\":0,\"ticks\":\"\"}},\"marker\":{\"colorbar\":{\"outlinewidth\":0,\"ticks\":\"\"}},\"type\":\"scatter3d\"}],\"scattercarpet\":[{\"marker\":{\"colorbar\":{\"outlinewidth\":0,\"ticks\":\"\"}},\"type\":\"scattercarpet\"}],\"scattergeo\":[{\"marker\":{\"colorbar\":{\"outlinewidth\":0,\"ticks\":\"\"}},\"type\":\"scattergeo\"}],\"scattergl\":[{\"marker\":{\"colorbar\":{\"outlinewidth\":0,\"ticks\":\"\"}},\"type\":\"scattergl\"}],\"scattermapbox\":[{\"marker\":{\"colorbar\":{\"outlinewidth\":0,\"ticks\":\"\"}},\"type\":\"scattermapbox\"}],\"scatterpolar\":[{\"marker\":{\"colorbar\":{\"outlinewidth\":0,\"ticks\":\"\"}},\"type\":\"scatterpolar\"}],\"scatterpolargl\":[{\"marker\":{\"colorbar\":{\"outlinewidth\":0,\"ticks\":\"\"}},\"type\":\"scatterpolargl\"}],\"scatterternary\":[{\"marker\":{\"colorbar\":{\"outlinewidth\":0,\"ticks\":\"\"}},\"type\":\"scatterternary\"}],\"surface\":[{\"colorbar\":{\"outlinewidth\":0,\"ticks\":\"\"},\"colorscale\":[[0.0,\"#0d0887\"],[0.1111111111111111,\"#46039f\"],[0.2222222222222222,\"#7201a8\"],[0.3333333333333333,\"#9c179e\"],[0.4444444444444444,\"#bd3786\"],[0.5555555555555556,\"#d8576b\"],[0.6666666666666666,\"#ed7953\"],[0.7777777777777778,\"#fb9f3a\"],[0.8888888888888888,\"#fdca26\"],[1.0,\"#f0f921\"]],\"type\":\"surface\"}],\"table\":[{\"cells\":{\"fill\":{\"color\":\"#EBF0F8\"},\"line\":{\"color\":\"white\"}},\"header\":{\"fill\":{\"color\":\"#C8D4E3\"},\"line\":{\"color\":\"white\"}},\"type\":\"table\"}]},\"layout\":{\"annotationdefaults\":{\"arrowcolor\":\"#2a3f5f\",\"arrowhead\":0,\"arrowwidth\":1},\"autotypenumbers\":\"strict\",\"coloraxis\":{\"colorbar\":{\"outlinewidth\":0,\"ticks\":\"\"}},\"colorscale\":{\"diverging\":[[0,\"#8e0152\"],[0.1,\"#c51b7d\"],[0.2,\"#de77ae\"],[0.3,\"#f1b6da\"],[0.4,\"#fde0ef\"],[0.5,\"#f7f7f7\"],[0.6,\"#e6f5d0\"],[0.7,\"#b8e186\"],[0.8,\"#7fbc41\"],[0.9,\"#4d9221\"],[1,\"#276419\"]],\"sequential\":[[0.0,\"#0d0887\"],[0.1111111111111111,\"#46039f\"],[0.2222222222222222,\"#7201a8\"],[0.3333333333333333,\"#9c179e\"],[0.4444444444444444,\"#bd3786\"],[0.5555555555555556,\"#d8576b\"],[0.6666666666666666,\"#ed7953\"],[0.7777777777777778,\"#fb9f3a\"],[0.8888888888888888,\"#fdca26\"],[1.0,\"#f0f921\"]],\"sequentialminus\":[[0.0,\"#0d0887\"],[0.1111111111111111,\"#46039f\"],[0.2222222222222222,\"#7201a8\"],[0.3333333333333333,\"#9c179e\"],[0.4444444444444444,\"#bd3786\"],[0.5555555555555556,\"#d8576b\"],[0.6666666666666666,\"#ed7953\"],[0.7777777777777778,\"#fb9f3a\"],[0.8888888888888888,\"#fdca26\"],[1.0,\"#f0f921\"]]},\"colorway\":[\"#636efa\",\"#EF553B\",\"#00cc96\",\"#ab63fa\",\"#FFA15A\",\"#19d3f3\",\"#FF6692\",\"#B6E880\",\"#FF97FF\",\"#FECB52\"],\"font\":{\"color\":\"#2a3f5f\"},\"geo\":{\"bgcolor\":\"white\",\"lakecolor\":\"white\",\"landcolor\":\"#E5ECF6\",\"showlakes\":true,\"showland\":true,\"subunitcolor\":\"white\"},\"hoverlabel\":{\"align\":\"left\"},\"hovermode\":\"closest\",\"mapbox\":{\"style\":\"light\"},\"paper_bgcolor\":\"white\",\"plot_bgcolor\":\"#E5ECF6\",\"polar\":{\"angularaxis\":{\"gridcolor\":\"white\",\"linecolor\":\"white\",\"ticks\":\"\"},\"bgcolor\":\"#E5ECF6\",\"radialaxis\":{\"gridcolor\":\"white\",\"linecolor\":\"white\",\"ticks\":\"\"}},\"scene\":{\"xaxis\":{\"backgroundcolor\":\"#E5ECF6\",\"gridcolor\":\"white\",\"gridwidth\":2,\"linecolor\":\"white\",\"showbackground\":true,\"ticks\":\"\",\"zerolinecolor\":\"white\"},\"yaxis\":{\"backgroundcolor\":\"#E5ECF6\",\"gridcolor\":\"white\",\"gridwidth\":2,\"linecolor\":\"white\",\"showbackground\":true,\"ticks\":\"\",\"zerolinecolor\":\"white\"},\"zaxis\":{\"backgroundcolor\":\"#E5ECF6\",\"gridcolor\":\"white\",\"gridwidth\":2,\"linecolor\":\"white\",\"showbackground\":true,\"ticks\":\"\",\"zerolinecolor\":\"white\"}},\"shapedefaults\":{\"line\":{\"color\":\"#2a3f5f\"}},\"ternary\":{\"aaxis\":{\"gridcolor\":\"white\",\"linecolor\":\"white\",\"ticks\":\"\"},\"baxis\":{\"gridcolor\":\"white\",\"linecolor\":\"white\",\"ticks\":\"\"},\"bgcolor\":\"#E5ECF6\",\"caxis\":{\"gridcolor\":\"white\",\"linecolor\":\"white\",\"ticks\":\"\"}},\"title\":{\"x\":0.05},\"xaxis\":{\"automargin\":true,\"gridcolor\":\"white\",\"linecolor\":\"white\",\"ticks\":\"\",\"title\":{\"standoff\":15},\"zerolinecolor\":\"white\",\"zerolinewidth\":2},\"yaxis\":{\"automargin\":true,\"gridcolor\":\"white\",\"linecolor\":\"white\",\"ticks\":\"\",\"title\":{\"standoff\":15},\"zerolinecolor\":\"white\",\"zerolinewidth\":2}}}},                        {\"responsive\": true}                    ).then(function(){\n",
              "                            \n",
              "var gd = document.getElementById('0fabf496-1c0a-4f1c-a2e5-79c6fe3629bb');\n",
              "var x = new MutationObserver(function (mutations, observer) {{\n",
              "        var display = window.getComputedStyle(gd).display;\n",
              "        if (!display || display === 'none') {{\n",
              "            console.log([gd, 'removed!']);\n",
              "            Plotly.purge(gd);\n",
              "            observer.disconnect();\n",
              "        }}\n",
              "}});\n",
              "\n",
              "// Listen for the removal of the full notebook cells\n",
              "var notebookContainer = gd.closest('#notebook-container');\n",
              "if (notebookContainer) {{\n",
              "    x.observe(notebookContainer, {childList: true});\n",
              "}}\n",
              "\n",
              "// Listen for the clearing of the current output cell\n",
              "var outputEl = gd.closest('.output');\n",
              "if (outputEl) {{\n",
              "    x.observe(outputEl, {childList: true});\n",
              "}}\n",
              "\n",
              "                        })                };                            </script>        </div>\n",
              "</body>\n",
              "</html>"
            ]
          },
          "metadata": {}
        }
      ],
      "source": [
        "fig = go.Figure([go.Bar(x= df1_off.index, y=df1_off.values)])\n",
        "fig.show()"
      ]
    },
    {
      "cell_type": "code",
      "execution_count": 144,
      "id": "52a076a2",
      "metadata": {
        "execution": {
          "iopub.execute_input": "2022-10-14T19:27:34.834255Z",
          "iopub.status.busy": "2022-10-14T19:27:34.833705Z",
          "iopub.status.idle": "2022-10-14T19:27:34.841525Z",
          "shell.execute_reply": "2022-10-14T19:27:34.840625Z"
        },
        "papermill": {
          "duration": 0.040141,
          "end_time": "2022-10-14T19:27:34.843979",
          "exception": false,
          "start_time": "2022-10-14T19:27:34.803838",
          "status": "completed"
        },
        "tags": [],
        "id": "52a076a2"
      },
      "outputs": [],
      "source": [
        "df1 = df1.rename(columns = {'Customer Status':'Customer_Status'})"
      ]
    },
    {
      "cell_type": "code",
      "execution_count": 145,
      "id": "77eaeec8",
      "metadata": {
        "execution": {
          "iopub.execute_input": "2022-10-14T19:27:34.898698Z",
          "iopub.status.busy": "2022-10-14T19:27:34.898321Z",
          "iopub.status.idle": "2022-10-14T19:27:34.911705Z",
          "shell.execute_reply": "2022-10-14T19:27:34.910590Z"
        },
        "papermill": {
          "duration": 0.043025,
          "end_time": "2022-10-14T19:27:34.913905",
          "exception": false,
          "start_time": "2022-10-14T19:27:34.870880",
          "status": "completed"
        },
        "tags": [],
        "id": "77eaeec8",
        "outputId": "98e74e8b-981a-4e5f-996c-88b7bacf40ac",
        "colab": {
          "base_uri": "https://localhost:8080/"
        }
      },
      "outputs": [
        {
          "output_type": "execute_result",
          "data": {
            "text/plain": [
              "dict_keys(['Stayed', 'Churned', 'Joined'])"
            ]
          },
          "metadata": {},
          "execution_count": 145
        }
      ],
      "source": [
        "Roles1 = {}\n",
        "for k in df1['Customer_Status'].unique():\n",
        "    Roles1[k] = df1[df1['Customer_Status'] == k]\n",
        "Roles1.keys()"
      ]
    },
    {
      "cell_type": "code",
      "execution_count": 146,
      "id": "9c7e3068",
      "metadata": {
        "execution": {
          "iopub.execute_input": "2022-10-14T19:27:34.969365Z",
          "iopub.status.busy": "2022-10-14T19:27:34.968519Z",
          "iopub.status.idle": "2022-10-14T19:27:34.977299Z",
          "shell.execute_reply": "2022-10-14T19:27:34.976174Z"
        },
        "papermill": {
          "duration": 0.039495,
          "end_time": "2022-10-14T19:27:34.979541",
          "exception": false,
          "start_time": "2022-10-14T19:27:34.940046",
          "status": "completed"
        },
        "tags": [],
        "id": "9c7e3068",
        "outputId": "884a9477-5052-4c1d-9a9d-db3bb1bdccbb",
        "colab": {
          "base_uri": "https://localhost:8080/"
        }
      },
      "outputs": [
        {
          "output_type": "execute_result",
          "data": {
            "text/plain": [
              "None       1601\n",
              "Offer B     497\n",
              "Offer A     348\n",
              "Offer D     250\n",
              "Offer C     204\n",
              "Offer E     115\n",
              "Name: Offer, dtype: int64"
            ]
          },
          "metadata": {},
          "execution_count": 146
        }
      ],
      "source": [
        "df1_state = Roles1['Stayed'].Offer.value_counts()\n",
        "df1_state"
      ]
    },
    {
      "cell_type": "markdown",
      "source": [
        "# Data Modelling"
      ],
      "metadata": {
        "id": "Yg1HCCWcEtx4"
      },
      "id": "Yg1HCCWcEtx4"
    },
    {
      "cell_type": "markdown",
      "source": [
        "Replacing the Gender column in the dataset with Label Encoding\n",
        "\n",
        "0 for Female\n",
        "\n",
        "1 for Male"
      ],
      "metadata": {
        "id": "PftsPlJeE4NW"
      },
      "id": "PftsPlJeE4NW"
    },
    {
      "cell_type": "code",
      "execution_count": 56,
      "id": "85c77767",
      "metadata": {
        "execution": {
          "iopub.execute_input": "2022-10-14T19:27:35.202098Z",
          "iopub.status.busy": "2022-10-14T19:27:35.201695Z",
          "iopub.status.idle": "2022-10-14T19:27:35.212163Z",
          "shell.execute_reply": "2022-10-14T19:27:35.211093Z"
        },
        "papermill": {
          "duration": 0.040413,
          "end_time": "2022-10-14T19:27:35.214369",
          "exception": false,
          "start_time": "2022-10-14T19:27:35.173956",
          "status": "completed"
        },
        "tags": [],
        "id": "85c77767"
      },
      "outputs": [],
      "source": [
        "df1.replace({\"Gender\":{'Female':0,'Male':1}},inplace=True)"
      ]
    },
    {
      "cell_type": "markdown",
      "source": [
        "Replacing the columns with 'yes' and 'no' output by Label Encoding\n",
        "\n",
        "0 for No\n",
        "\n",
        "1 for Yes"
      ],
      "metadata": {
        "id": "J5zHscVrFH1H"
      },
      "id": "J5zHscVrFH1H"
    },
    {
      "cell_type": "code",
      "execution_count": 57,
      "id": "7a327c67",
      "metadata": {
        "execution": {
          "iopub.execute_input": "2022-10-14T19:27:35.270763Z",
          "iopub.status.busy": "2022-10-14T19:27:35.270340Z",
          "iopub.status.idle": "2022-10-14T19:27:35.342971Z",
          "shell.execute_reply": "2022-10-14T19:27:35.341855Z"
        },
        "papermill": {
          "duration": 0.104966,
          "end_time": "2022-10-14T19:27:35.345559",
          "exception": false,
          "start_time": "2022-10-14T19:27:35.240593",
          "status": "completed"
        },
        "tags": [],
        "id": "7a327c67"
      },
      "outputs": [],
      "source": [
        "yes_and_no=[  'Paperless Billing', 'Unlimited Data', \n",
        "       'Streaming Movies', 'Streaming Music',  'Streaming TV',\n",
        "       'Premium Tech Support', 'Device Protection Plan', 'Online Backup', 'Online Security',\n",
        "       'Multiple Lines',  'Married']\n",
        "for i in yes_and_no:\n",
        "    df1.replace({'No':0,'Yes':1},inplace=True)"
      ]
    },
    {
      "cell_type": "markdown",
      "source": [
        "Replacing 'Phone Service' with '1'"
      ],
      "metadata": {
        "id": "IOCkhHKwFVGa"
      },
      "id": "IOCkhHKwFVGa"
    },
    {
      "cell_type": "code",
      "execution_count": 58,
      "id": "59dc1c68",
      "metadata": {
        "execution": {
          "iopub.execute_input": "2022-10-14T19:27:35.400064Z",
          "iopub.status.busy": "2022-10-14T19:27:35.399660Z",
          "iopub.status.idle": "2022-10-14T19:27:35.405480Z",
          "shell.execute_reply": "2022-10-14T19:27:35.404532Z"
        },
        "papermill": {
          "duration": 0.035833,
          "end_time": "2022-10-14T19:27:35.407539",
          "exception": false,
          "start_time": "2022-10-14T19:27:35.371706",
          "status": "completed"
        },
        "tags": [],
        "id": "59dc1c68"
      },
      "outputs": [],
      "source": [
        "df1.replace({\"Phone Service\":{'Yes':1}},inplace=True)"
      ]
    },
    {
      "cell_type": "code",
      "execution_count": 59,
      "id": "eb367c0c",
      "metadata": {
        "execution": {
          "iopub.execute_input": "2022-10-14T19:27:35.463686Z",
          "iopub.status.busy": "2022-10-14T19:27:35.463271Z",
          "iopub.status.idle": "2022-10-14T19:27:35.471349Z",
          "shell.execute_reply": "2022-10-14T19:27:35.470004Z"
        },
        "papermill": {
          "duration": 0.039663,
          "end_time": "2022-10-14T19:27:35.473711",
          "exception": false,
          "start_time": "2022-10-14T19:27:35.434048",
          "status": "completed"
        },
        "tags": [],
        "id": "eb367c0c"
      },
      "outputs": [],
      "source": [
        "from sklearn.preprocessing import LabelEncoder\n",
        "le = LabelEncoder()\n",
        "df1.Customer_Status = le.fit_transform(df1.Customer_Status)\n"
      ]
    },
    {
      "cell_type": "code",
      "execution_count": 60,
      "id": "b7c49b6c",
      "metadata": {
        "execution": {
          "iopub.execute_input": "2022-10-14T19:27:35.528671Z",
          "iopub.status.busy": "2022-10-14T19:27:35.528257Z",
          "iopub.status.idle": "2022-10-14T19:27:35.583180Z",
          "shell.execute_reply": "2022-10-14T19:27:35.581768Z"
        },
        "papermill": {
          "duration": 0.084858,
          "end_time": "2022-10-14T19:27:35.585654",
          "exception": false,
          "start_time": "2022-10-14T19:27:35.500796",
          "status": "completed"
        },
        "tags": [],
        "id": "b7c49b6c"
      },
      "outputs": [],
      "source": [
        "df1 = pd.get_dummies(data=df1, columns=['Payment Method','Contract','Internet Type','Offer','City'])\n"
      ]
    },
    {
      "cell_type": "code",
      "execution_count": 61,
      "id": "09530a5e",
      "metadata": {
        "execution": {
          "iopub.execute_input": "2022-10-14T19:27:35.641694Z",
          "iopub.status.busy": "2022-10-14T19:27:35.641333Z",
          "iopub.status.idle": "2022-10-14T19:27:35.662486Z",
          "shell.execute_reply": "2022-10-14T19:27:35.661266Z"
        },
        "papermill": {
          "duration": 0.052448,
          "end_time": "2022-10-14T19:27:35.665111",
          "exception": false,
          "start_time": "2022-10-14T19:27:35.612663",
          "status": "completed"
        },
        "tags": [],
        "id": "09530a5e"
      },
      "outputs": [],
      "source": [
        "cols_to_scale = ['Age','Number of Dependents','Number of Referrals','Tenure in Months','Avg Monthly Long Distance Charges','Avg Monthly GB Download','Monthly Charge', 'Total Charges',\n",
        "       'Total Extra Data Charges', 'Total Long Distance Charges','Total Revenue']\n",
        "\n",
        "from sklearn.preprocessing import MinMaxScaler\n",
        "scaler = MinMaxScaler()\n",
        "df1[cols_to_scale] = scaler.fit_transform(df1[cols_to_scale])"
      ]
    },
    {
      "cell_type": "markdown",
      "source": [
        "## Dealing with Imbalance Data"
      ],
      "metadata": {
        "id": "uxHvvwfmFe7Y"
      },
      "id": "uxHvvwfmFe7Y"
    },
    {
      "cell_type": "markdown",
      "source": [
        "Dropping the Customer_Status\n",
        "\n",
        "i.e. The column tht we have to predict and set as a dependent variable"
      ],
      "metadata": {
        "id": "-DCSCSzyFlGG"
      },
      "id": "-DCSCSzyFlGG"
    },
    {
      "cell_type": "code",
      "execution_count": 64,
      "id": "ec5c4b60",
      "metadata": {
        "execution": {
          "iopub.execute_input": "2022-10-14T19:27:35.780777Z",
          "iopub.status.busy": "2022-10-14T19:27:35.780346Z",
          "iopub.status.idle": "2022-10-14T19:27:35.800628Z",
          "shell.execute_reply": "2022-10-14T19:27:35.799398Z"
        },
        "papermill": {
          "duration": 0.050573,
          "end_time": "2022-10-14T19:27:35.803202",
          "exception": false,
          "start_time": "2022-10-14T19:27:35.752629",
          "status": "completed"
        },
        "tags": [],
        "id": "ec5c4b60"
      },
      "outputs": [],
      "source": [
        "X = df1.drop('Customer_Status',axis='columns')\n",
        "y = df1['Customer_Status']"
      ]
    },
    {
      "cell_type": "code",
      "execution_count": 65,
      "id": "5b11c9f5",
      "metadata": {
        "execution": {
          "iopub.execute_input": "2022-10-14T19:27:35.858156Z",
          "iopub.status.busy": "2022-10-14T19:27:35.857762Z",
          "iopub.status.idle": "2022-10-14T19:27:35.879962Z",
          "shell.execute_reply": "2022-10-14T19:27:35.879201Z"
        },
        "papermill": {
          "duration": 0.051863,
          "end_time": "2022-10-14T19:27:35.881961",
          "exception": false,
          "start_time": "2022-10-14T19:27:35.830098",
          "status": "completed"
        },
        "tags": [],
        "id": "5b11c9f5",
        "outputId": "8107669d-1569-4cd5-85e9-7abf0c8e8d89",
        "colab": {
          "base_uri": "https://localhost:8080/",
          "height": 369
        }
      },
      "outputs": [
        {
          "output_type": "execute_result",
          "data": {
            "text/plain": [
              "   Gender       Age  Married  Number of Dependents  Number of Referrals  \\\n",
              "0       0  0.295082        1                   0.0             0.181818   \n",
              "1       1  0.442623        0                   0.0             0.000000   \n",
              "2       1  0.508197        0                   0.0             0.000000   \n",
              "3       1  0.967213        1                   0.0             0.090909   \n",
              "4       0  0.918033        1                   0.0             0.272727   \n",
              "\n",
              "   Tenure in Months  Phone Service  Avg Monthly Long Distance Charges  \\\n",
              "0          0.112676              1                           0.844835   \n",
              "1          0.112676              1                           0.197632   \n",
              "2          0.042254              1                           0.666394   \n",
              "3          0.169014              1                           0.547366   \n",
              "4          0.028169              1                           0.130053   \n",
              "\n",
              "   Multiple Lines  Internet Service  ...  City_Wrightwood  City_Yermo  \\\n",
              "0               0                 1  ...                0           0   \n",
              "1               1                 1  ...                0           0   \n",
              "2               0                 1  ...                0           0   \n",
              "3               0                 1  ...                0           0   \n",
              "4               0                 1  ...                0           0   \n",
              "\n",
              "   City_Yorba Linda  City_Yorkville  City_Yountville  City_Yreka  \\\n",
              "0                 0               0                0           0   \n",
              "1                 0               0                0           0   \n",
              "2                 0               0                0           0   \n",
              "3                 0               0                0           0   \n",
              "4                 0               0                0           0   \n",
              "\n",
              "   City_Yuba City  City_Yucaipa  City_Yucca Valley  City_Zenia  \n",
              "0               0             0                  0           0  \n",
              "1               0             0                  0           0  \n",
              "2               0             0                  0           0  \n",
              "3               0             0                  0           0  \n",
              "4               0             0                  0           0  \n",
              "\n",
              "[5 rows x 1129 columns]"
            ],
            "text/html": [
              "\n",
              "  <div id=\"df-15527e8f-9a3c-4e6f-aadb-427b9a16c296\">\n",
              "    <div class=\"colab-df-container\">\n",
              "      <div>\n",
              "<style scoped>\n",
              "    .dataframe tbody tr th:only-of-type {\n",
              "        vertical-align: middle;\n",
              "    }\n",
              "\n",
              "    .dataframe tbody tr th {\n",
              "        vertical-align: top;\n",
              "    }\n",
              "\n",
              "    .dataframe thead th {\n",
              "        text-align: right;\n",
              "    }\n",
              "</style>\n",
              "<table border=\"1\" class=\"dataframe\">\n",
              "  <thead>\n",
              "    <tr style=\"text-align: right;\">\n",
              "      <th></th>\n",
              "      <th>Gender</th>\n",
              "      <th>Age</th>\n",
              "      <th>Married</th>\n",
              "      <th>Number of Dependents</th>\n",
              "      <th>Number of Referrals</th>\n",
              "      <th>Tenure in Months</th>\n",
              "      <th>Phone Service</th>\n",
              "      <th>Avg Monthly Long Distance Charges</th>\n",
              "      <th>Multiple Lines</th>\n",
              "      <th>Internet Service</th>\n",
              "      <th>...</th>\n",
              "      <th>City_Wrightwood</th>\n",
              "      <th>City_Yermo</th>\n",
              "      <th>City_Yorba Linda</th>\n",
              "      <th>City_Yorkville</th>\n",
              "      <th>City_Yountville</th>\n",
              "      <th>City_Yreka</th>\n",
              "      <th>City_Yuba City</th>\n",
              "      <th>City_Yucaipa</th>\n",
              "      <th>City_Yucca Valley</th>\n",
              "      <th>City_Zenia</th>\n",
              "    </tr>\n",
              "  </thead>\n",
              "  <tbody>\n",
              "    <tr>\n",
              "      <th>0</th>\n",
              "      <td>0</td>\n",
              "      <td>0.295082</td>\n",
              "      <td>1</td>\n",
              "      <td>0.0</td>\n",
              "      <td>0.181818</td>\n",
              "      <td>0.112676</td>\n",
              "      <td>1</td>\n",
              "      <td>0.844835</td>\n",
              "      <td>0</td>\n",
              "      <td>1</td>\n",
              "      <td>...</td>\n",
              "      <td>0</td>\n",
              "      <td>0</td>\n",
              "      <td>0</td>\n",
              "      <td>0</td>\n",
              "      <td>0</td>\n",
              "      <td>0</td>\n",
              "      <td>0</td>\n",
              "      <td>0</td>\n",
              "      <td>0</td>\n",
              "      <td>0</td>\n",
              "    </tr>\n",
              "    <tr>\n",
              "      <th>1</th>\n",
              "      <td>1</td>\n",
              "      <td>0.442623</td>\n",
              "      <td>0</td>\n",
              "      <td>0.0</td>\n",
              "      <td>0.000000</td>\n",
              "      <td>0.112676</td>\n",
              "      <td>1</td>\n",
              "      <td>0.197632</td>\n",
              "      <td>1</td>\n",
              "      <td>1</td>\n",
              "      <td>...</td>\n",
              "      <td>0</td>\n",
              "      <td>0</td>\n",
              "      <td>0</td>\n",
              "      <td>0</td>\n",
              "      <td>0</td>\n",
              "      <td>0</td>\n",
              "      <td>0</td>\n",
              "      <td>0</td>\n",
              "      <td>0</td>\n",
              "      <td>0</td>\n",
              "    </tr>\n",
              "    <tr>\n",
              "      <th>2</th>\n",
              "      <td>1</td>\n",
              "      <td>0.508197</td>\n",
              "      <td>0</td>\n",
              "      <td>0.0</td>\n",
              "      <td>0.000000</td>\n",
              "      <td>0.042254</td>\n",
              "      <td>1</td>\n",
              "      <td>0.666394</td>\n",
              "      <td>0</td>\n",
              "      <td>1</td>\n",
              "      <td>...</td>\n",
              "      <td>0</td>\n",
              "      <td>0</td>\n",
              "      <td>0</td>\n",
              "      <td>0</td>\n",
              "      <td>0</td>\n",
              "      <td>0</td>\n",
              "      <td>0</td>\n",
              "      <td>0</td>\n",
              "      <td>0</td>\n",
              "      <td>0</td>\n",
              "    </tr>\n",
              "    <tr>\n",
              "      <th>3</th>\n",
              "      <td>1</td>\n",
              "      <td>0.967213</td>\n",
              "      <td>1</td>\n",
              "      <td>0.0</td>\n",
              "      <td>0.090909</td>\n",
              "      <td>0.169014</td>\n",
              "      <td>1</td>\n",
              "      <td>0.547366</td>\n",
              "      <td>0</td>\n",
              "      <td>1</td>\n",
              "      <td>...</td>\n",
              "      <td>0</td>\n",
              "      <td>0</td>\n",
              "      <td>0</td>\n",
              "      <td>0</td>\n",
              "      <td>0</td>\n",
              "      <td>0</td>\n",
              "      <td>0</td>\n",
              "      <td>0</td>\n",
              "      <td>0</td>\n",
              "      <td>0</td>\n",
              "    </tr>\n",
              "    <tr>\n",
              "      <th>4</th>\n",
              "      <td>0</td>\n",
              "      <td>0.918033</td>\n",
              "      <td>1</td>\n",
              "      <td>0.0</td>\n",
              "      <td>0.272727</td>\n",
              "      <td>0.028169</td>\n",
              "      <td>1</td>\n",
              "      <td>0.130053</td>\n",
              "      <td>0</td>\n",
              "      <td>1</td>\n",
              "      <td>...</td>\n",
              "      <td>0</td>\n",
              "      <td>0</td>\n",
              "      <td>0</td>\n",
              "      <td>0</td>\n",
              "      <td>0</td>\n",
              "      <td>0</td>\n",
              "      <td>0</td>\n",
              "      <td>0</td>\n",
              "      <td>0</td>\n",
              "      <td>0</td>\n",
              "    </tr>\n",
              "  </tbody>\n",
              "</table>\n",
              "<p>5 rows × 1129 columns</p>\n",
              "</div>\n",
              "      <button class=\"colab-df-convert\" onclick=\"convertToInteractive('df-15527e8f-9a3c-4e6f-aadb-427b9a16c296')\"\n",
              "              title=\"Convert this dataframe to an interactive table.\"\n",
              "              style=\"display:none;\">\n",
              "        \n",
              "  <svg xmlns=\"http://www.w3.org/2000/svg\" height=\"24px\"viewBox=\"0 0 24 24\"\n",
              "       width=\"24px\">\n",
              "    <path d=\"M0 0h24v24H0V0z\" fill=\"none\"/>\n",
              "    <path d=\"M18.56 5.44l.94 2.06.94-2.06 2.06-.94-2.06-.94-.94-2.06-.94 2.06-2.06.94zm-11 1L8.5 8.5l.94-2.06 2.06-.94-2.06-.94L8.5 2.5l-.94 2.06-2.06.94zm10 10l.94 2.06.94-2.06 2.06-.94-2.06-.94-.94-2.06-.94 2.06-2.06.94z\"/><path d=\"M17.41 7.96l-1.37-1.37c-.4-.4-.92-.59-1.43-.59-.52 0-1.04.2-1.43.59L10.3 9.45l-7.72 7.72c-.78.78-.78 2.05 0 2.83L4 21.41c.39.39.9.59 1.41.59.51 0 1.02-.2 1.41-.59l7.78-7.78 2.81-2.81c.8-.78.8-2.07 0-2.86zM5.41 20L4 18.59l7.72-7.72 1.47 1.35L5.41 20z\"/>\n",
              "  </svg>\n",
              "      </button>\n",
              "      \n",
              "  <style>\n",
              "    .colab-df-container {\n",
              "      display:flex;\n",
              "      flex-wrap:wrap;\n",
              "      gap: 12px;\n",
              "    }\n",
              "\n",
              "    .colab-df-convert {\n",
              "      background-color: #E8F0FE;\n",
              "      border: none;\n",
              "      border-radius: 50%;\n",
              "      cursor: pointer;\n",
              "      display: none;\n",
              "      fill: #1967D2;\n",
              "      height: 32px;\n",
              "      padding: 0 0 0 0;\n",
              "      width: 32px;\n",
              "    }\n",
              "\n",
              "    .colab-df-convert:hover {\n",
              "      background-color: #E2EBFA;\n",
              "      box-shadow: 0px 1px 2px rgba(60, 64, 67, 0.3), 0px 1px 3px 1px rgba(60, 64, 67, 0.15);\n",
              "      fill: #174EA6;\n",
              "    }\n",
              "\n",
              "    [theme=dark] .colab-df-convert {\n",
              "      background-color: #3B4455;\n",
              "      fill: #D2E3FC;\n",
              "    }\n",
              "\n",
              "    [theme=dark] .colab-df-convert:hover {\n",
              "      background-color: #434B5C;\n",
              "      box-shadow: 0px 1px 3px 1px rgba(0, 0, 0, 0.15);\n",
              "      filter: drop-shadow(0px 1px 2px rgba(0, 0, 0, 0.3));\n",
              "      fill: #FFFFFF;\n",
              "    }\n",
              "  </style>\n",
              "\n",
              "      <script>\n",
              "        const buttonEl =\n",
              "          document.querySelector('#df-15527e8f-9a3c-4e6f-aadb-427b9a16c296 button.colab-df-convert');\n",
              "        buttonEl.style.display =\n",
              "          google.colab.kernel.accessAllowed ? 'block' : 'none';\n",
              "\n",
              "        async function convertToInteractive(key) {\n",
              "          const element = document.querySelector('#df-15527e8f-9a3c-4e6f-aadb-427b9a16c296');\n",
              "          const dataTable =\n",
              "            await google.colab.kernel.invokeFunction('convertToInteractive',\n",
              "                                                     [key], {});\n",
              "          if (!dataTable) return;\n",
              "\n",
              "          const docLinkHtml = 'Like what you see? Visit the ' +\n",
              "            '<a target=\"_blank\" href=https://colab.research.google.com/notebooks/data_table.ipynb>data table notebook</a>'\n",
              "            + ' to learn more about interactive tables.';\n",
              "          element.innerHTML = '';\n",
              "          dataTable['output_type'] = 'display_data';\n",
              "          await google.colab.output.renderOutput(dataTable, element);\n",
              "          const docLink = document.createElement('div');\n",
              "          docLink.innerHTML = docLinkHtml;\n",
              "          element.appendChild(docLink);\n",
              "        }\n",
              "      </script>\n",
              "    </div>\n",
              "  </div>\n",
              "  "
            ]
          },
          "metadata": {},
          "execution_count": 65
        }
      ],
      "source": [
        "X.head(5)"
      ]
    },
    {
      "cell_type": "code",
      "execution_count": null,
      "id": "cbb1f0ae",
      "metadata": {
        "execution": {
          "iopub.execute_input": "2022-10-14T19:27:35.938049Z",
          "iopub.status.busy": "2022-10-14T19:27:35.937000Z",
          "iopub.status.idle": "2022-10-14T19:27:35.945249Z",
          "shell.execute_reply": "2022-10-14T19:27:35.944259Z"
        },
        "papermill": {
          "duration": 0.039358,
          "end_time": "2022-10-14T19:27:35.947447",
          "exception": false,
          "start_time": "2022-10-14T19:27:35.908089",
          "status": "completed"
        },
        "tags": [],
        "id": "cbb1f0ae",
        "outputId": "10f6fe9a-9aa2-41d1-a356-74fbb4699b96"
      },
      "outputs": [
        {
          "data": {
            "text/plain": [
              "0    2\n",
              "1    2\n",
              "2    0\n",
              "3    0\n",
              "4    0\n",
              "Name: Customer_Status, dtype: int64"
            ]
          },
          "execution_count": 56,
          "metadata": {},
          "output_type": "execute_result"
        }
      ],
      "source": [
        "y.head(5)\n"
      ]
    },
    {
      "cell_type": "markdown",
      "id": "e29c960a",
      "metadata": {
        "papermill": {
          "duration": 0.026571,
          "end_time": "2022-10-14T19:27:36.000528",
          "exception": false,
          "start_time": "2022-10-14T19:27:35.973957",
          "status": "completed"
        },
        "tags": [],
        "id": "e29c960a"
      },
      "source": [
        "# Data Model Building"
      ]
    },
    {
      "cell_type": "markdown",
      "source": [
        "## Spliiting the data in Training and Test Data"
      ],
      "metadata": {
        "id": "r69ylpj8IF5O"
      },
      "id": "r69ylpj8IF5O"
    },
    {
      "cell_type": "code",
      "execution_count": 67,
      "id": "69489d3c",
      "metadata": {
        "execution": {
          "iopub.execute_input": "2022-10-14T19:27:36.117068Z",
          "iopub.status.busy": "2022-10-14T19:27:36.116367Z",
          "iopub.status.idle": "2022-10-14T19:27:36.156822Z",
          "shell.execute_reply": "2022-10-14T19:27:36.155558Z"
        },
        "papermill": {
          "duration": 0.071402,
          "end_time": "2022-10-14T19:27:36.159382",
          "exception": false,
          "start_time": "2022-10-14T19:27:36.087980",
          "status": "completed"
        },
        "tags": [],
        "id": "69489d3c"
      },
      "outputs": [],
      "source": [
        "from sklearn.model_selection import train_test_split\n",
        "X_train, X_test, y_train, y_test = train_test_split(X, y,test_size=0.2,random_state=5)"
      ]
    },
    {
      "cell_type": "code",
      "execution_count": 68,
      "id": "75476471",
      "metadata": {
        "execution": {
          "iopub.execute_input": "2022-10-14T19:27:36.214162Z",
          "iopub.status.busy": "2022-10-14T19:27:36.213764Z",
          "iopub.status.idle": "2022-10-14T19:27:36.220750Z",
          "shell.execute_reply": "2022-10-14T19:27:36.219809Z"
        },
        "papermill": {
          "duration": 0.036982,
          "end_time": "2022-10-14T19:27:36.222780",
          "exception": false,
          "start_time": "2022-10-14T19:27:36.185798",
          "status": "completed"
        },
        "tags": [],
        "id": "75476471",
        "outputId": "c78621fd-aa8a-47ac-e2ce-fa04853a0110",
        "colab": {
          "base_uri": "https://localhost:8080/"
        }
      },
      "outputs": [
        {
          "output_type": "execute_result",
          "data": {
            "text/plain": [
              "3868"
            ]
          },
          "metadata": {},
          "execution_count": 68
        }
      ],
      "source": [
        "len(X_train)"
      ]
    },
    {
      "cell_type": "code",
      "execution_count": 69,
      "id": "1230500d",
      "metadata": {
        "execution": {
          "iopub.execute_input": "2022-10-14T19:27:36.287668Z",
          "iopub.status.busy": "2022-10-14T19:27:36.286621Z",
          "iopub.status.idle": "2022-10-14T19:27:36.321042Z",
          "shell.execute_reply": "2022-10-14T19:27:36.319119Z"
        },
        "papermill": {
          "duration": 0.073947,
          "end_time": "2022-10-14T19:27:36.323777",
          "exception": false,
          "start_time": "2022-10-14T19:27:36.249830",
          "status": "completed"
        },
        "tags": [],
        "id": "1230500d",
        "outputId": "b99660bb-7f3b-436a-e699-4773fe4e0ac0",
        "colab": {
          "base_uri": "https://localhost:8080/",
          "height": 526
        }
      },
      "outputs": [
        {
          "output_type": "execute_result",
          "data": {
            "text/plain": [
              "      Gender       Age  Married  Number of Dependents  Number of Referrals  \\\n",
              "1931       1  0.983607        1                 0.000             0.363636   \n",
              "1244       1  0.147541        1                 0.000             0.090909   \n",
              "3167       1  0.475410        1                 0.250             0.090909   \n",
              "5573       1  0.983607        1                 0.000             0.727273   \n",
              "2741       0  0.852459        0                 0.000             0.000000   \n",
              "1184       1  0.377049        1                 0.375             0.727273   \n",
              "4120       1  0.803279        1                 0.000             0.363636   \n",
              "373        1  0.114754        0                 0.000             0.000000   \n",
              "1499       1  0.606557        0                 0.000             0.000000   \n",
              "6702       0  0.327869        0                 0.000             0.000000   \n",
              "\n",
              "      Tenure in Months  Phone Service  Avg Monthly Long Distance Charges  \\\n",
              "1931          0.718310              1                           0.574520   \n",
              "1244          0.690141              1                           0.676399   \n",
              "3167          0.098592              1                           0.117803   \n",
              "5573          0.169014              1                           0.962434   \n",
              "2741          0.619718              1                           0.238056   \n",
              "1184          0.774648              1                           0.813597   \n",
              "4120          0.859155              1                           0.076562   \n",
              "373           0.802817              1                           0.948550   \n",
              "1499          0.084507              1                           0.683544   \n",
              "6702          0.887324              1                           0.553695   \n",
              "\n",
              "      Multiple Lines  Internet Service  ...  City_Wrightwood  City_Yermo  \\\n",
              "1931               1                 1  ...                0           0   \n",
              "1244               1                 1  ...                0           0   \n",
              "3167               0                 1  ...                0           0   \n",
              "5573               1                 1  ...                0           0   \n",
              "2741               1                 1  ...                0           0   \n",
              "1184               1                 1  ...                0           0   \n",
              "4120               1                 1  ...                0           0   \n",
              "373                0                 1  ...                0           0   \n",
              "1499               0                 1  ...                0           0   \n",
              "6702               1                 1  ...                0           0   \n",
              "\n",
              "      City_Yorba Linda  City_Yorkville  City_Yountville  City_Yreka  \\\n",
              "1931                 0               0                0           0   \n",
              "1244                 0               0                0           0   \n",
              "3167                 0               0                0           0   \n",
              "5573                 0               0                0           0   \n",
              "2741                 0               0                0           0   \n",
              "1184                 0               0                0           0   \n",
              "4120                 0               0                0           0   \n",
              "373                  0               0                0           0   \n",
              "1499                 0               0                0           0   \n",
              "6702                 0               0                0           0   \n",
              "\n",
              "      City_Yuba City  City_Yucaipa  City_Yucca Valley  City_Zenia  \n",
              "1931               0             0                  0           0  \n",
              "1244               0             0                  0           0  \n",
              "3167               0             0                  0           0  \n",
              "5573               0             0                  0           0  \n",
              "2741               0             0                  0           0  \n",
              "1184               0             0                  0           0  \n",
              "4120               0             0                  0           0  \n",
              "373                0             0                  0           0  \n",
              "1499               0             0                  0           0  \n",
              "6702               0             0                  0           0  \n",
              "\n",
              "[10 rows x 1129 columns]"
            ],
            "text/html": [
              "\n",
              "  <div id=\"df-b7225efc-6c6b-4c56-989b-2644582cce52\">\n",
              "    <div class=\"colab-df-container\">\n",
              "      <div>\n",
              "<style scoped>\n",
              "    .dataframe tbody tr th:only-of-type {\n",
              "        vertical-align: middle;\n",
              "    }\n",
              "\n",
              "    .dataframe tbody tr th {\n",
              "        vertical-align: top;\n",
              "    }\n",
              "\n",
              "    .dataframe thead th {\n",
              "        text-align: right;\n",
              "    }\n",
              "</style>\n",
              "<table border=\"1\" class=\"dataframe\">\n",
              "  <thead>\n",
              "    <tr style=\"text-align: right;\">\n",
              "      <th></th>\n",
              "      <th>Gender</th>\n",
              "      <th>Age</th>\n",
              "      <th>Married</th>\n",
              "      <th>Number of Dependents</th>\n",
              "      <th>Number of Referrals</th>\n",
              "      <th>Tenure in Months</th>\n",
              "      <th>Phone Service</th>\n",
              "      <th>Avg Monthly Long Distance Charges</th>\n",
              "      <th>Multiple Lines</th>\n",
              "      <th>Internet Service</th>\n",
              "      <th>...</th>\n",
              "      <th>City_Wrightwood</th>\n",
              "      <th>City_Yermo</th>\n",
              "      <th>City_Yorba Linda</th>\n",
              "      <th>City_Yorkville</th>\n",
              "      <th>City_Yountville</th>\n",
              "      <th>City_Yreka</th>\n",
              "      <th>City_Yuba City</th>\n",
              "      <th>City_Yucaipa</th>\n",
              "      <th>City_Yucca Valley</th>\n",
              "      <th>City_Zenia</th>\n",
              "    </tr>\n",
              "  </thead>\n",
              "  <tbody>\n",
              "    <tr>\n",
              "      <th>1931</th>\n",
              "      <td>1</td>\n",
              "      <td>0.983607</td>\n",
              "      <td>1</td>\n",
              "      <td>0.000</td>\n",
              "      <td>0.363636</td>\n",
              "      <td>0.718310</td>\n",
              "      <td>1</td>\n",
              "      <td>0.574520</td>\n",
              "      <td>1</td>\n",
              "      <td>1</td>\n",
              "      <td>...</td>\n",
              "      <td>0</td>\n",
              "      <td>0</td>\n",
              "      <td>0</td>\n",
              "      <td>0</td>\n",
              "      <td>0</td>\n",
              "      <td>0</td>\n",
              "      <td>0</td>\n",
              "      <td>0</td>\n",
              "      <td>0</td>\n",
              "      <td>0</td>\n",
              "    </tr>\n",
              "    <tr>\n",
              "      <th>1244</th>\n",
              "      <td>1</td>\n",
              "      <td>0.147541</td>\n",
              "      <td>1</td>\n",
              "      <td>0.000</td>\n",
              "      <td>0.090909</td>\n",
              "      <td>0.690141</td>\n",
              "      <td>1</td>\n",
              "      <td>0.676399</td>\n",
              "      <td>1</td>\n",
              "      <td>1</td>\n",
              "      <td>...</td>\n",
              "      <td>0</td>\n",
              "      <td>0</td>\n",
              "      <td>0</td>\n",
              "      <td>0</td>\n",
              "      <td>0</td>\n",
              "      <td>0</td>\n",
              "      <td>0</td>\n",
              "      <td>0</td>\n",
              "      <td>0</td>\n",
              "      <td>0</td>\n",
              "    </tr>\n",
              "    <tr>\n",
              "      <th>3167</th>\n",
              "      <td>1</td>\n",
              "      <td>0.475410</td>\n",
              "      <td>1</td>\n",
              "      <td>0.250</td>\n",
              "      <td>0.090909</td>\n",
              "      <td>0.098592</td>\n",
              "      <td>1</td>\n",
              "      <td>0.117803</td>\n",
              "      <td>0</td>\n",
              "      <td>1</td>\n",
              "      <td>...</td>\n",
              "      <td>0</td>\n",
              "      <td>0</td>\n",
              "      <td>0</td>\n",
              "      <td>0</td>\n",
              "      <td>0</td>\n",
              "      <td>0</td>\n",
              "      <td>0</td>\n",
              "      <td>0</td>\n",
              "      <td>0</td>\n",
              "      <td>0</td>\n",
              "    </tr>\n",
              "    <tr>\n",
              "      <th>5573</th>\n",
              "      <td>1</td>\n",
              "      <td>0.983607</td>\n",
              "      <td>1</td>\n",
              "      <td>0.000</td>\n",
              "      <td>0.727273</td>\n",
              "      <td>0.169014</td>\n",
              "      <td>1</td>\n",
              "      <td>0.962434</td>\n",
              "      <td>1</td>\n",
              "      <td>1</td>\n",
              "      <td>...</td>\n",
              "      <td>0</td>\n",
              "      <td>0</td>\n",
              "      <td>0</td>\n",
              "      <td>0</td>\n",
              "      <td>0</td>\n",
              "      <td>0</td>\n",
              "      <td>0</td>\n",
              "      <td>0</td>\n",
              "      <td>0</td>\n",
              "      <td>0</td>\n",
              "    </tr>\n",
              "    <tr>\n",
              "      <th>2741</th>\n",
              "      <td>0</td>\n",
              "      <td>0.852459</td>\n",
              "      <td>0</td>\n",
              "      <td>0.000</td>\n",
              "      <td>0.000000</td>\n",
              "      <td>0.619718</td>\n",
              "      <td>1</td>\n",
              "      <td>0.238056</td>\n",
              "      <td>1</td>\n",
              "      <td>1</td>\n",
              "      <td>...</td>\n",
              "      <td>0</td>\n",
              "      <td>0</td>\n",
              "      <td>0</td>\n",
              "      <td>0</td>\n",
              "      <td>0</td>\n",
              "      <td>0</td>\n",
              "      <td>0</td>\n",
              "      <td>0</td>\n",
              "      <td>0</td>\n",
              "      <td>0</td>\n",
              "    </tr>\n",
              "    <tr>\n",
              "      <th>1184</th>\n",
              "      <td>1</td>\n",
              "      <td>0.377049</td>\n",
              "      <td>1</td>\n",
              "      <td>0.375</td>\n",
              "      <td>0.727273</td>\n",
              "      <td>0.774648</td>\n",
              "      <td>1</td>\n",
              "      <td>0.813597</td>\n",
              "      <td>1</td>\n",
              "      <td>1</td>\n",
              "      <td>...</td>\n",
              "      <td>0</td>\n",
              "      <td>0</td>\n",
              "      <td>0</td>\n",
              "      <td>0</td>\n",
              "      <td>0</td>\n",
              "      <td>0</td>\n",
              "      <td>0</td>\n",
              "      <td>0</td>\n",
              "      <td>0</td>\n",
              "      <td>0</td>\n",
              "    </tr>\n",
              "    <tr>\n",
              "      <th>4120</th>\n",
              "      <td>1</td>\n",
              "      <td>0.803279</td>\n",
              "      <td>1</td>\n",
              "      <td>0.000</td>\n",
              "      <td>0.363636</td>\n",
              "      <td>0.859155</td>\n",
              "      <td>1</td>\n",
              "      <td>0.076562</td>\n",
              "      <td>1</td>\n",
              "      <td>1</td>\n",
              "      <td>...</td>\n",
              "      <td>0</td>\n",
              "      <td>0</td>\n",
              "      <td>0</td>\n",
              "      <td>0</td>\n",
              "      <td>0</td>\n",
              "      <td>0</td>\n",
              "      <td>0</td>\n",
              "      <td>0</td>\n",
              "      <td>0</td>\n",
              "      <td>0</td>\n",
              "    </tr>\n",
              "    <tr>\n",
              "      <th>373</th>\n",
              "      <td>1</td>\n",
              "      <td>0.114754</td>\n",
              "      <td>0</td>\n",
              "      <td>0.000</td>\n",
              "      <td>0.000000</td>\n",
              "      <td>0.802817</td>\n",
              "      <td>1</td>\n",
              "      <td>0.948550</td>\n",
              "      <td>0</td>\n",
              "      <td>1</td>\n",
              "      <td>...</td>\n",
              "      <td>0</td>\n",
              "      <td>0</td>\n",
              "      <td>0</td>\n",
              "      <td>0</td>\n",
              "      <td>0</td>\n",
              "      <td>0</td>\n",
              "      <td>0</td>\n",
              "      <td>0</td>\n",
              "      <td>0</td>\n",
              "      <td>0</td>\n",
              "    </tr>\n",
              "    <tr>\n",
              "      <th>1499</th>\n",
              "      <td>1</td>\n",
              "      <td>0.606557</td>\n",
              "      <td>0</td>\n",
              "      <td>0.000</td>\n",
              "      <td>0.000000</td>\n",
              "      <td>0.084507</td>\n",
              "      <td>1</td>\n",
              "      <td>0.683544</td>\n",
              "      <td>0</td>\n",
              "      <td>1</td>\n",
              "      <td>...</td>\n",
              "      <td>0</td>\n",
              "      <td>0</td>\n",
              "      <td>0</td>\n",
              "      <td>0</td>\n",
              "      <td>0</td>\n",
              "      <td>0</td>\n",
              "      <td>0</td>\n",
              "      <td>0</td>\n",
              "      <td>0</td>\n",
              "      <td>0</td>\n",
              "    </tr>\n",
              "    <tr>\n",
              "      <th>6702</th>\n",
              "      <td>0</td>\n",
              "      <td>0.327869</td>\n",
              "      <td>0</td>\n",
              "      <td>0.000</td>\n",
              "      <td>0.000000</td>\n",
              "      <td>0.887324</td>\n",
              "      <td>1</td>\n",
              "      <td>0.553695</td>\n",
              "      <td>1</td>\n",
              "      <td>1</td>\n",
              "      <td>...</td>\n",
              "      <td>0</td>\n",
              "      <td>0</td>\n",
              "      <td>0</td>\n",
              "      <td>0</td>\n",
              "      <td>0</td>\n",
              "      <td>0</td>\n",
              "      <td>0</td>\n",
              "      <td>0</td>\n",
              "      <td>0</td>\n",
              "      <td>0</td>\n",
              "    </tr>\n",
              "  </tbody>\n",
              "</table>\n",
              "<p>10 rows × 1129 columns</p>\n",
              "</div>\n",
              "      <button class=\"colab-df-convert\" onclick=\"convertToInteractive('df-b7225efc-6c6b-4c56-989b-2644582cce52')\"\n",
              "              title=\"Convert this dataframe to an interactive table.\"\n",
              "              style=\"display:none;\">\n",
              "        \n",
              "  <svg xmlns=\"http://www.w3.org/2000/svg\" height=\"24px\"viewBox=\"0 0 24 24\"\n",
              "       width=\"24px\">\n",
              "    <path d=\"M0 0h24v24H0V0z\" fill=\"none\"/>\n",
              "    <path d=\"M18.56 5.44l.94 2.06.94-2.06 2.06-.94-2.06-.94-.94-2.06-.94 2.06-2.06.94zm-11 1L8.5 8.5l.94-2.06 2.06-.94-2.06-.94L8.5 2.5l-.94 2.06-2.06.94zm10 10l.94 2.06.94-2.06 2.06-.94-2.06-.94-.94-2.06-.94 2.06-2.06.94z\"/><path d=\"M17.41 7.96l-1.37-1.37c-.4-.4-.92-.59-1.43-.59-.52 0-1.04.2-1.43.59L10.3 9.45l-7.72 7.72c-.78.78-.78 2.05 0 2.83L4 21.41c.39.39.9.59 1.41.59.51 0 1.02-.2 1.41-.59l7.78-7.78 2.81-2.81c.8-.78.8-2.07 0-2.86zM5.41 20L4 18.59l7.72-7.72 1.47 1.35L5.41 20z\"/>\n",
              "  </svg>\n",
              "      </button>\n",
              "      \n",
              "  <style>\n",
              "    .colab-df-container {\n",
              "      display:flex;\n",
              "      flex-wrap:wrap;\n",
              "      gap: 12px;\n",
              "    }\n",
              "\n",
              "    .colab-df-convert {\n",
              "      background-color: #E8F0FE;\n",
              "      border: none;\n",
              "      border-radius: 50%;\n",
              "      cursor: pointer;\n",
              "      display: none;\n",
              "      fill: #1967D2;\n",
              "      height: 32px;\n",
              "      padding: 0 0 0 0;\n",
              "      width: 32px;\n",
              "    }\n",
              "\n",
              "    .colab-df-convert:hover {\n",
              "      background-color: #E2EBFA;\n",
              "      box-shadow: 0px 1px 2px rgba(60, 64, 67, 0.3), 0px 1px 3px 1px rgba(60, 64, 67, 0.15);\n",
              "      fill: #174EA6;\n",
              "    }\n",
              "\n",
              "    [theme=dark] .colab-df-convert {\n",
              "      background-color: #3B4455;\n",
              "      fill: #D2E3FC;\n",
              "    }\n",
              "\n",
              "    [theme=dark] .colab-df-convert:hover {\n",
              "      background-color: #434B5C;\n",
              "      box-shadow: 0px 1px 3px 1px rgba(0, 0, 0, 0.15);\n",
              "      filter: drop-shadow(0px 1px 2px rgba(0, 0, 0, 0.3));\n",
              "      fill: #FFFFFF;\n",
              "    }\n",
              "  </style>\n",
              "\n",
              "      <script>\n",
              "        const buttonEl =\n",
              "          document.querySelector('#df-b7225efc-6c6b-4c56-989b-2644582cce52 button.colab-df-convert');\n",
              "        buttonEl.style.display =\n",
              "          google.colab.kernel.accessAllowed ? 'block' : 'none';\n",
              "\n",
              "        async function convertToInteractive(key) {\n",
              "          const element = document.querySelector('#df-b7225efc-6c6b-4c56-989b-2644582cce52');\n",
              "          const dataTable =\n",
              "            await google.colab.kernel.invokeFunction('convertToInteractive',\n",
              "                                                     [key], {});\n",
              "          if (!dataTable) return;\n",
              "\n",
              "          const docLinkHtml = 'Like what you see? Visit the ' +\n",
              "            '<a target=\"_blank\" href=https://colab.research.google.com/notebooks/data_table.ipynb>data table notebook</a>'\n",
              "            + ' to learn more about interactive tables.';\n",
              "          element.innerHTML = '';\n",
              "          dataTable['output_type'] = 'display_data';\n",
              "          await google.colab.output.renderOutput(dataTable, element);\n",
              "          const docLink = document.createElement('div');\n",
              "          docLink.innerHTML = docLinkHtml;\n",
              "          element.appendChild(docLink);\n",
              "        }\n",
              "      </script>\n",
              "    </div>\n",
              "  </div>\n",
              "  "
            ]
          },
          "metadata": {},
          "execution_count": 69
        }
      ],
      "source": [
        "X_train[:10]"
      ]
    },
    {
      "cell_type": "markdown",
      "source": [
        "Importing the required files for the model that is to applied\n",
        "\n",
        "1. Random Forest Classifier\n",
        "2. Logistic Regression\n",
        "3. GaussianNB\n",
        "4. Decision Tree Classifier\n",
        "5. XGB Classifier\n"
      ],
      "metadata": {
        "id": "XAMYZYjVGBNY"
      },
      "id": "XAMYZYjVGBNY"
    },
    {
      "cell_type": "markdown",
      "source": [
        "## Importing Models"
      ],
      "metadata": {
        "id": "IEIDd4SFILpX"
      },
      "id": "IEIDd4SFILpX"
    },
    {
      "cell_type": "code",
      "source": [
        "from sklearn.ensemble import RandomForestClassifier\n",
        "from sklearn.linear_model import LogisticRegression\n",
        "from sklearn.naive_bayes import GaussianNB\n",
        "from sklearn.tree import DecisionTreeClassifier\n",
        "from xgboost import XGBClassifier"
      ],
      "metadata": {
        "id": "BgGCnH-W8MuC"
      },
      "id": "BgGCnH-W8MuC",
      "execution_count": 70,
      "outputs": []
    },
    {
      "cell_type": "code",
      "execution_count": 147,
      "id": "287a88e2",
      "metadata": {
        "execution": {
          "iopub.execute_input": "2022-10-14T19:27:36.389708Z",
          "iopub.status.busy": "2022-10-14T19:27:36.388966Z",
          "iopub.status.idle": "2022-10-14T19:27:36.496707Z",
          "shell.execute_reply": "2022-10-14T19:27:36.495514Z"
        },
        "papermill": {
          "duration": 0.142057,
          "end_time": "2022-10-14T19:27:36.499422",
          "exception": false,
          "start_time": "2022-10-14T19:27:36.357365",
          "status": "completed"
        },
        "tags": [],
        "id": "287a88e2"
      },
      "outputs": [],
      "source": [
        "model_params = {\n",
        "     \n",
        "    'random_forest': {\n",
        "        'model': RandomForestClassifier(),\n",
        "        'params' : {\n",
        "            'n_estimators': [1,5,10]\n",
        "        }\n",
        "    },\n",
        "    'logistic_regression' : {\n",
        "        'model': LogisticRegression(solver='liblinear',multi_class='auto'),\n",
        "        'params': {\n",
        "            'C': [1,5,10]\n",
        "        }\n",
        "    },\n",
        "    'naive_bayes_gaussian': {\n",
        "        'model': GaussianNB(),\n",
        "        'params': {}\n",
        "    },\n",
        "    \n",
        "    'decision_tree': {\n",
        "        'model': DecisionTreeClassifier(),\n",
        "        'params': {\n",
        "            'criterion': ['gini','entropy'],\n",
        "        }    \n",
        "    },\n",
        "       'XGB_Classifier':{\n",
        "        'model':XGBClassifier(),\n",
        "        'params':{\n",
        "            'base_score':[0.5]\n",
        "            \n",
        "        }\n",
        "    },   \n",
        "}"
      ]
    },
    {
      "cell_type": "code",
      "source": [
        "from sklearn.model_selection import ShuffleSplit"
      ],
      "metadata": {
        "id": "8MYZel5t8p_C"
      },
      "id": "8MYZel5t8p_C",
      "execution_count": 148,
      "outputs": []
    },
    {
      "cell_type": "markdown",
      "source": [
        "Getting the best_score from the applied models"
      ],
      "metadata": {
        "id": "xSyJ8-8uGtoX"
      },
      "id": "xSyJ8-8uGtoX"
    },
    {
      "cell_type": "code",
      "execution_count": 74,
      "id": "67d004af",
      "metadata": {
        "execution": {
          "iopub.execute_input": "2022-10-14T19:27:36.555196Z",
          "iopub.status.busy": "2022-10-14T19:27:36.554493Z",
          "iopub.status.idle": "2022-10-14T19:35:15.975789Z",
          "shell.execute_reply": "2022-10-14T19:35:15.974661Z"
        },
        "papermill": {
          "duration": 459.479725,
          "end_time": "2022-10-14T19:35:16.006077",
          "exception": false,
          "start_time": "2022-10-14T19:27:36.526352",
          "status": "completed"
        },
        "tags": [],
        "id": "67d004af",
        "outputId": "6c136155-d41c-49dc-eb8c-3c4a27d89f94",
        "colab": {
          "base_uri": "https://localhost:8080/",
          "height": 206
        }
      },
      "outputs": [
        {
          "output_type": "execute_result",
          "data": {
            "text/plain": [
              "                  model  best_score            best_params\n",
              "0         random_forest    0.781179   {'n_estimators': 10}\n",
              "1   logistic_regression    0.782834               {'C': 5}\n",
              "2  naive_bayes_gaussian    0.367735                     {}\n",
              "3         decision_tree    0.772906  {'criterion': 'gini'}\n",
              "4        XGB_Classifier    0.827301    {'base_score': 0.5}"
            ],
            "text/html": [
              "\n",
              "  <div id=\"df-0abc8003-aa77-4fce-932b-99d1a67fa89f\">\n",
              "    <div class=\"colab-df-container\">\n",
              "      <div>\n",
              "<style scoped>\n",
              "    .dataframe tbody tr th:only-of-type {\n",
              "        vertical-align: middle;\n",
              "    }\n",
              "\n",
              "    .dataframe tbody tr th {\n",
              "        vertical-align: top;\n",
              "    }\n",
              "\n",
              "    .dataframe thead th {\n",
              "        text-align: right;\n",
              "    }\n",
              "</style>\n",
              "<table border=\"1\" class=\"dataframe\">\n",
              "  <thead>\n",
              "    <tr style=\"text-align: right;\">\n",
              "      <th></th>\n",
              "      <th>model</th>\n",
              "      <th>best_score</th>\n",
              "      <th>best_params</th>\n",
              "    </tr>\n",
              "  </thead>\n",
              "  <tbody>\n",
              "    <tr>\n",
              "      <th>0</th>\n",
              "      <td>random_forest</td>\n",
              "      <td>0.781179</td>\n",
              "      <td>{'n_estimators': 10}</td>\n",
              "    </tr>\n",
              "    <tr>\n",
              "      <th>1</th>\n",
              "      <td>logistic_regression</td>\n",
              "      <td>0.782834</td>\n",
              "      <td>{'C': 5}</td>\n",
              "    </tr>\n",
              "    <tr>\n",
              "      <th>2</th>\n",
              "      <td>naive_bayes_gaussian</td>\n",
              "      <td>0.367735</td>\n",
              "      <td>{}</td>\n",
              "    </tr>\n",
              "    <tr>\n",
              "      <th>3</th>\n",
              "      <td>decision_tree</td>\n",
              "      <td>0.772906</td>\n",
              "      <td>{'criterion': 'gini'}</td>\n",
              "    </tr>\n",
              "    <tr>\n",
              "      <th>4</th>\n",
              "      <td>XGB_Classifier</td>\n",
              "      <td>0.827301</td>\n",
              "      <td>{'base_score': 0.5}</td>\n",
              "    </tr>\n",
              "  </tbody>\n",
              "</table>\n",
              "</div>\n",
              "      <button class=\"colab-df-convert\" onclick=\"convertToInteractive('df-0abc8003-aa77-4fce-932b-99d1a67fa89f')\"\n",
              "              title=\"Convert this dataframe to an interactive table.\"\n",
              "              style=\"display:none;\">\n",
              "        \n",
              "  <svg xmlns=\"http://www.w3.org/2000/svg\" height=\"24px\"viewBox=\"0 0 24 24\"\n",
              "       width=\"24px\">\n",
              "    <path d=\"M0 0h24v24H0V0z\" fill=\"none\"/>\n",
              "    <path d=\"M18.56 5.44l.94 2.06.94-2.06 2.06-.94-2.06-.94-.94-2.06-.94 2.06-2.06.94zm-11 1L8.5 8.5l.94-2.06 2.06-.94-2.06-.94L8.5 2.5l-.94 2.06-2.06.94zm10 10l.94 2.06.94-2.06 2.06-.94-2.06-.94-.94-2.06-.94 2.06-2.06.94z\"/><path d=\"M17.41 7.96l-1.37-1.37c-.4-.4-.92-.59-1.43-.59-.52 0-1.04.2-1.43.59L10.3 9.45l-7.72 7.72c-.78.78-.78 2.05 0 2.83L4 21.41c.39.39.9.59 1.41.59.51 0 1.02-.2 1.41-.59l7.78-7.78 2.81-2.81c.8-.78.8-2.07 0-2.86zM5.41 20L4 18.59l7.72-7.72 1.47 1.35L5.41 20z\"/>\n",
              "  </svg>\n",
              "      </button>\n",
              "      \n",
              "  <style>\n",
              "    .colab-df-container {\n",
              "      display:flex;\n",
              "      flex-wrap:wrap;\n",
              "      gap: 12px;\n",
              "    }\n",
              "\n",
              "    .colab-df-convert {\n",
              "      background-color: #E8F0FE;\n",
              "      border: none;\n",
              "      border-radius: 50%;\n",
              "      cursor: pointer;\n",
              "      display: none;\n",
              "      fill: #1967D2;\n",
              "      height: 32px;\n",
              "      padding: 0 0 0 0;\n",
              "      width: 32px;\n",
              "    }\n",
              "\n",
              "    .colab-df-convert:hover {\n",
              "      background-color: #E2EBFA;\n",
              "      box-shadow: 0px 1px 2px rgba(60, 64, 67, 0.3), 0px 1px 3px 1px rgba(60, 64, 67, 0.15);\n",
              "      fill: #174EA6;\n",
              "    }\n",
              "\n",
              "    [theme=dark] .colab-df-convert {\n",
              "      background-color: #3B4455;\n",
              "      fill: #D2E3FC;\n",
              "    }\n",
              "\n",
              "    [theme=dark] .colab-df-convert:hover {\n",
              "      background-color: #434B5C;\n",
              "      box-shadow: 0px 1px 3px 1px rgba(0, 0, 0, 0.15);\n",
              "      filter: drop-shadow(0px 1px 2px rgba(0, 0, 0, 0.3));\n",
              "      fill: #FFFFFF;\n",
              "    }\n",
              "  </style>\n",
              "\n",
              "      <script>\n",
              "        const buttonEl =\n",
              "          document.querySelector('#df-0abc8003-aa77-4fce-932b-99d1a67fa89f button.colab-df-convert');\n",
              "        buttonEl.style.display =\n",
              "          google.colab.kernel.accessAllowed ? 'block' : 'none';\n",
              "\n",
              "        async function convertToInteractive(key) {\n",
              "          const element = document.querySelector('#df-0abc8003-aa77-4fce-932b-99d1a67fa89f');\n",
              "          const dataTable =\n",
              "            await google.colab.kernel.invokeFunction('convertToInteractive',\n",
              "                                                     [key], {});\n",
              "          if (!dataTable) return;\n",
              "\n",
              "          const docLinkHtml = 'Like what you see? Visit the ' +\n",
              "            '<a target=\"_blank\" href=https://colab.research.google.com/notebooks/data_table.ipynb>data table notebook</a>'\n",
              "            + ' to learn more about interactive tables.';\n",
              "          element.innerHTML = '';\n",
              "          dataTable['output_type'] = 'display_data';\n",
              "          await google.colab.output.renderOutput(dataTable, element);\n",
              "          const docLink = document.createElement('div');\n",
              "          docLink.innerHTML = docLinkHtml;\n",
              "          element.appendChild(docLink);\n",
              "        }\n",
              "      </script>\n",
              "    </div>\n",
              "  </div>\n",
              "  "
            ]
          },
          "metadata": {},
          "execution_count": 74
        }
      ],
      "source": [
        "from sklearn.model_selection import GridSearchCV\n",
        "scores = []\n",
        "cv = ShuffleSplit(n_splits=5, test_size=0.2, random_state=0)\n",
        "for model_name, mp in model_params.items():\n",
        "    clf =  GridSearchCV(mp['model'], mp['params'], cv=cv, return_train_score=False)\n",
        "    clf.fit(X,y)\n",
        "    scores.append({\n",
        "        'model': model_name,\n",
        "        'best_score': clf.best_score_,\n",
        "        'best_params': clf.best_params_\n",
        "    })\n",
        "    \n",
        "df = pd.DataFrame(scores,columns=['model','best_score','best_params'])\n",
        "df"
      ]
    },
    {
      "cell_type": "markdown",
      "source": [
        "It was concluded that XGB_Classifier was giving us the best_score in the dataset"
      ],
      "metadata": {
        "id": "hL0mJps1GyTx"
      },
      "id": "hL0mJps1GyTx"
    },
    {
      "cell_type": "markdown",
      "source": [
        "## Selecting the model with best score for the dataset"
      ],
      "metadata": {
        "id": "McfvPlm5IV3m"
      },
      "id": "McfvPlm5IV3m"
    },
    {
      "cell_type": "code",
      "execution_count": 75,
      "id": "29abd862",
      "metadata": {
        "execution": {
          "iopub.execute_input": "2022-10-14T19:35:16.064374Z",
          "iopub.status.busy": "2022-10-14T19:35:16.063720Z",
          "iopub.status.idle": "2022-10-14T19:35:38.136795Z",
          "shell.execute_reply": "2022-10-14T19:35:38.135553Z"
        },
        "papermill": {
          "duration": 22.105083,
          "end_time": "2022-10-14T19:35:38.139315",
          "exception": false,
          "start_time": "2022-10-14T19:35:16.034232",
          "status": "completed"
        },
        "tags": [],
        "id": "29abd862",
        "outputId": "e156ff6f-8224-48da-d336-8ab5bd15ddff",
        "colab": {
          "base_uri": "https://localhost:8080/"
        }
      },
      "outputs": [
        {
          "output_type": "execute_result",
          "data": {
            "text/plain": [
              "XGBClassifier(objective='multi:softprob')"
            ]
          },
          "metadata": {},
          "execution_count": 75
        }
      ],
      "source": [
        "reg=XGBClassifier()\n",
        "reg.fit(X_train, y_train)"
      ]
    },
    {
      "cell_type": "code",
      "execution_count": 76,
      "id": "9edbf70f",
      "metadata": {
        "execution": {
          "iopub.execute_input": "2022-10-14T19:35:38.197651Z",
          "iopub.status.busy": "2022-10-14T19:35:38.196897Z",
          "iopub.status.idle": "2022-10-14T19:35:38.249919Z",
          "shell.execute_reply": "2022-10-14T19:35:38.248981Z"
        },
        "papermill": {
          "duration": 0.084755,
          "end_time": "2022-10-14T19:35:38.252317",
          "exception": false,
          "start_time": "2022-10-14T19:35:38.167562",
          "status": "completed"
        },
        "tags": [],
        "id": "9edbf70f",
        "outputId": "77557930-07b9-4733-ed9e-b65bfe6c0519",
        "colab": {
          "base_uri": "https://localhost:8080/"
        }
      },
      "outputs": [
        {
          "output_type": "execute_result",
          "data": {
            "text/plain": [
              "0.8086866597724922"
            ]
          },
          "metadata": {},
          "execution_count": 76
        }
      ],
      "source": [
        "reg.score(X_test, y_test)"
      ]
    },
    {
      "cell_type": "markdown",
      "source": [
        "We got an accuracy of 80.86 percent in the testing dataset"
      ],
      "metadata": {
        "id": "MvDFVhxyG66X"
      },
      "id": "MvDFVhxyG66X"
    },
    {
      "cell_type": "markdown",
      "source": [
        "## Predicting values from the model build to check the accuracy"
      ],
      "metadata": {
        "id": "MyTMxLmBHIiA"
      },
      "id": "MyTMxLmBHIiA"
    },
    {
      "cell_type": "code",
      "execution_count": 77,
      "id": "43553255",
      "metadata": {
        "execution": {
          "iopub.execute_input": "2022-10-14T19:35:38.311974Z",
          "iopub.status.busy": "2022-10-14T19:35:38.310955Z",
          "iopub.status.idle": "2022-10-14T19:35:38.365092Z",
          "shell.execute_reply": "2022-10-14T19:35:38.364032Z"
        },
        "papermill": {
          "duration": 0.085912,
          "end_time": "2022-10-14T19:35:38.367720",
          "exception": false,
          "start_time": "2022-10-14T19:35:38.281808",
          "status": "completed"
        },
        "tags": [],
        "id": "43553255",
        "outputId": "d961c4f1-03d8-441d-f92e-44d9dde1e3c1",
        "colab": {
          "base_uri": "https://localhost:8080/"
        }
      },
      "outputs": [
        {
          "output_type": "execute_result",
          "data": {
            "text/plain": [
              "array([2, 2, 0, 2, 2])"
            ]
          },
          "metadata": {},
          "execution_count": 77
        }
      ],
      "source": [
        "y_predicted = reg.predict(X_test)\n",
        "y_predicted[:5]"
      ]
    },
    {
      "cell_type": "markdown",
      "source": [
        "## Verifying the actual values with the predicted values"
      ],
      "metadata": {
        "id": "0nUD9CLuHVg3"
      },
      "id": "0nUD9CLuHVg3"
    },
    {
      "cell_type": "code",
      "execution_count": 78,
      "id": "43cc1a7f",
      "metadata": {
        "execution": {
          "iopub.execute_input": "2022-10-14T19:35:38.427038Z",
          "iopub.status.busy": "2022-10-14T19:35:38.426628Z",
          "iopub.status.idle": "2022-10-14T19:35:38.434411Z",
          "shell.execute_reply": "2022-10-14T19:35:38.433293Z"
        },
        "papermill": {
          "duration": 0.039167,
          "end_time": "2022-10-14T19:35:38.436615",
          "exception": false,
          "start_time": "2022-10-14T19:35:38.397448",
          "status": "completed"
        },
        "tags": [],
        "id": "43cc1a7f",
        "outputId": "d9b85767-5f90-4c53-d62e-bb2d8994e716",
        "colab": {
          "base_uri": "https://localhost:8080/"
        }
      },
      "outputs": [
        {
          "output_type": "execute_result",
          "data": {
            "text/plain": [
              "3076    2\n",
              "2931    2\n",
              "3814    0\n",
              "5052    2\n",
              "2128    0\n",
              "Name: Customer_Status, dtype: int64"
            ]
          },
          "metadata": {},
          "execution_count": 78
        }
      ],
      "source": [
        "y_test[:5]"
      ]
    },
    {
      "cell_type": "markdown",
      "source": [
        "## Importing Confusion Matrx "
      ],
      "metadata": {
        "id": "FXkUU_hxHeqZ"
      },
      "id": "FXkUU_hxHeqZ"
    },
    {
      "cell_type": "code",
      "execution_count": 79,
      "id": "e3ca6632",
      "metadata": {
        "execution": {
          "iopub.execute_input": "2022-10-14T19:35:38.495193Z",
          "iopub.status.busy": "2022-10-14T19:35:38.494077Z",
          "iopub.status.idle": "2022-10-14T19:35:38.767162Z",
          "shell.execute_reply": "2022-10-14T19:35:38.766004Z"
        },
        "papermill": {
          "duration": 0.304741,
          "end_time": "2022-10-14T19:35:38.769684",
          "exception": false,
          "start_time": "2022-10-14T19:35:38.464943",
          "status": "completed"
        },
        "tags": [],
        "id": "e3ca6632",
        "outputId": "521eb77b-27cc-436f-95c9-3e4dc1de59b7",
        "colab": {
          "base_uri": "https://localhost:8080/",
          "height": 459
        }
      },
      "outputs": [
        {
          "output_type": "execute_result",
          "data": {
            "text/plain": [
              "Text(69.0, 0.5, 'Truth')"
            ]
          },
          "metadata": {},
          "execution_count": 79
        },
        {
          "output_type": "display_data",
          "data": {
            "text/plain": [
              "<Figure size 720x504 with 2 Axes>"
            ],
            "image/png": "[encoded data removed]"
          },
          "metadata": {
            "needs_background": "light"
          }
        }
      ],
      "source": [
        "import seaborn as sn\n",
        "from sklearn.metrics import confusion_matrix\n",
        "cm = confusion_matrix(y_test, y_predicted)\n",
        "plt.figure(figsize = (10,7))\n",
        "sn.heatmap(cm, annot=True)\n",
        "plt.xlabel('Predicted')\n",
        "plt.ylabel('Truth')"
      ]
    },
    {
      "cell_type": "markdown",
      "source": [
        "## Importing Classification Report"
      ],
      "metadata": {
        "id": "tmc4I2FtHtXX"
      },
      "id": "tmc4I2FtHtXX"
    },
    {
      "cell_type": "code",
      "source": [
        "from sklearn.metrics import classification_report"
      ],
      "metadata": {
        "id": "sp7uiY5R9f0p"
      },
      "id": "sp7uiY5R9f0p",
      "execution_count": 81,
      "outputs": []
    },
    {
      "cell_type": "code",
      "execution_count": 82,
      "id": "d0121c0a",
      "metadata": {
        "execution": {
          "iopub.execute_input": "2022-10-14T19:35:38.830719Z",
          "iopub.status.busy": "2022-10-14T19:35:38.830328Z",
          "iopub.status.idle": "2022-10-14T19:35:38.840948Z",
          "shell.execute_reply": "2022-10-14T19:35:38.840122Z"
        },
        "papermill": {
          "duration": 0.044937,
          "end_time": "2022-10-14T19:35:38.843724",
          "exception": false,
          "start_time": "2022-10-14T19:35:38.798787",
          "status": "completed"
        },
        "tags": [],
        "id": "d0121c0a",
        "outputId": "cff521af-0d36-4d0c-c766-ca5dea7aa641",
        "colab": {
          "base_uri": "https://localhost:8080/"
        }
      },
      "outputs": [
        {
          "output_type": "stream",
          "name": "stdout",
          "text": [
            "              precision    recall  f1-score   support\n",
            "\n",
            "           0       0.77      0.66      0.71       348\n",
            "           1       0.81      0.44      0.57        50\n",
            "           2       0.82      0.93      0.87       569\n",
            "\n",
            "    accuracy                           0.81       967\n",
            "   macro avg       0.80      0.68      0.72       967\n",
            "weighted avg       0.81      0.81      0.80       967\n",
            "\n"
          ]
        }
      ],
      "source": [
        "print(classification_report(y_test, y_predicted))"
      ]
    },
    {
      "cell_type": "code",
      "execution_count": 83,
      "id": "8d42cd4a",
      "metadata": {
        "execution": {
          "iopub.execute_input": "2022-10-14T19:35:38.906087Z",
          "iopub.status.busy": "2022-10-14T19:35:38.905708Z",
          "iopub.status.idle": "2022-10-14T19:35:38.912908Z",
          "shell.execute_reply": "2022-10-14T19:35:38.912095Z"
        },
        "papermill": {
          "duration": 0.040926,
          "end_time": "2022-10-14T19:35:38.914964",
          "exception": false,
          "start_time": "2022-10-14T19:35:38.874038",
          "status": "completed"
        },
        "tags": [],
        "id": "8d42cd4a",
        "outputId": "17643df6-003c-48a0-c39e-ffcfbbd28e62",
        "colab": {
          "base_uri": "https://localhost:8080/"
        }
      },
      "outputs": [
        {
          "output_type": "execute_result",
          "data": {
            "text/plain": [
              "0.8086866597724922"
            ]
          },
          "metadata": {},
          "execution_count": 83
        }
      ],
      "source": [
        "from sklearn.metrics import accuracy_score\n",
        "accuracy_score(y_test, y_predicted)"
      ]
    },
    {
      "cell_type": "markdown",
      "source": [
        "In the end we conclude that the Telecom Customer Churn Prediction was best worked with XGB_Classifier with an accuracy score of 80.86%"
      ],
      "metadata": {
        "id": "DL9Fdk6BH0S2"
      },
      "id": "DL9Fdk6BH0S2"
    }
  ],
  "metadata": {
    "kernelspec": {
      "display_name": "Python 3",
      "language": "python",
      "name": "python3"
    },
    "language_info": {
      "codemirror_mode": {
        "name": "ipython",
        "version": 3
      },
      "file_extension": ".py",
      "mimetype": "text/x-python",
      "name": "python",
      "nbconvert_exporter": "python",
      "pygments_lexer": "ipython3",
      "version": "3.7.12"
    },
    "papermill": {
      "default_parameters": {},
      "duration": 505.601322,
      "end_time": "2022-10-14T19:35:40.068671",
      "environment_variables": {},
      "exception": null,
      "input_path": "__notebook__.ipynb",
      "output_path": "__notebook__.ipynb",
      "parameters": {},
      "start_time": "2022-10-14T19:27:14.467349",
      "version": "2.3.4"
    },
    "colab": {
      "provenance": [],
      "toc_visible": true
    }
  },
  "nbformat": 4,
  "nbformat_minor": 5
}